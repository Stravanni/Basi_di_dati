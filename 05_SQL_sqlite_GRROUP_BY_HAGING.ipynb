{
 "cells": [
  {
   "cell_type": "markdown",
   "metadata": {
    "colab_type": "text",
    "id": "view-in-github"
   },
   "source": [
    "<a href=\"https://colab.research.google.com/github/Stravanni/Basi_di_dati/blob/main/05_SQL_sqlite_GRROUP_BY_HAGING.ipynb\" target=\"_parent\"><img src=\"https://colab.research.google.com/assets/colab-badge.svg\" alt=\"Open In Colab\"/></a>"
   ]
  },
  {
   "cell_type": "markdown",
   "metadata": {
    "id": "7wywHOYZSixy"
   },
   "source": [
    "# Introduzione a SQL\n",
    "@author: giovanni.simonini@unimore.it\n",
    "\n",
    "## To run: \n",
    "- to run a cell: SHIFT + ENTER\n",
    "  \n",
    "## Schema Università\n",
    "\n",
    "S (<u>Matr</u>,SNome,Citta,ACorso)\n",
    "\n",
    "D(<u>CD</u>,CNome,Citta)\n",
    "\n",
    "C(<u>CC</u>,CNome,CD)\n",
    "- FOREIGN KEY (CD) REFERENCES D(CD)\n",
    "\n",
    "E(<u>Matr,CC</u>,DATA,VOTO)\n",
    "- FOREIGN KEY (Matr) REFERENCES S(Matr)\n",
    "- FOREIGN KEY (CC) REFERENCES C(CC)\n",
    " "
   ]
  },
  {
   "cell_type": "code",
   "execution_count": null,
   "metadata": {
    "id": "8nW04m8ZIJZJ"
   },
   "outputs": [],
   "source": [
    "!pip install SQLAlchemy==1.4.49\n",
    "import pandas as pd\n",
    "from sqlalchemy import create_engine"
   ]
  },
  {
   "cell_type": "code",
   "execution_count": null,
   "metadata": {
    "id": "7tWMfJ-KpIIg"
   },
   "outputs": [],
   "source": [
    "engine = create_engine('sqlite://', echo=False)"
   ]
  },
  {
   "cell_type": "markdown",
   "metadata": {
    "id": "Gw8MjowWwv3G"
   },
   "source": [
    "## Create the the tables"
   ]
  },
  {
   "cell_type": "code",
   "execution_count": null,
   "metadata": {
    "colab": {
     "base_uri": "https://localhost:8080/"
    },
    "id": "S-mRiFhSj8HJ",
    "outputId": "98e270b0-d3c2-4dab-92f7-2778ef3d9ee0"
   },
   "outputs": [],
   "source": [
    "q = '''\n",
    "CREATE TABLE S (\n",
    "    Matr VARCHAR(45),\n",
    "    SNome VARCHAR(45),\n",
    "    Citta VARCHAR(45),\n",
    "    ACorso INT,\n",
    "    PRIMARY KEY (Matr)\n",
    ");\n",
    "'''\n",
    "engine.execute(q)\n",
    "\n",
    "q = '''\n",
    "CREATE TABLE D(\n",
    " CD VARCHAR(45),\n",
    " CNome VARCHAR(45),\n",
    " Citta VARCHAR(45),\n",
    " PRIMARY KEY (CD)\n",
    ");\n",
    "'''\n",
    "engine.execute(q)\n",
    "\n",
    "q = '''\n",
    "CREATE TABLE C(\n",
    " CC VARCHAR(45),\n",
    " CNome VARCHAR(45),\n",
    " CD VARCHAR(45),\n",
    " PRIMARY KEY (CC),\n",
    " FOREIGN KEY (CD) REFERENCES D(CD)\n",
    ");\n",
    "'''\n",
    "engine.execute(q)\n",
    "\n",
    "q = '''\n",
    "CREATE TABLE E(\n",
    " Matr VARCHAR(45),\n",
    " CC VARCHAR(45),\n",
    " DATA DATE,\n",
    " VOTO INT,\n",
    " PRIMARY KEY (Matr, CC),\n",
    " FOREIGN KEY (Matr) REFERENCES S(Matr),\n",
    " FOREIGN KEY (CC) REFERENCES C(CC)\n",
    ");\n",
    "'''\n",
    "engine.execute(q)\n",
    "\n",
    "\n",
    "q = '''\n",
    "INSERT INTO S (Matr, SNome, Citta, ACorso)\n",
    "VALUES\n",
    "('M1','Lucia Quaranta','SA',1),\n",
    "('M2','Giacomo Tedesco','PA',2),\n",
    "('M3','Carla Longo','MO',1),\n",
    "('M4','Ugo Rossi','MO',1),\n",
    "('M5','Valeria Neri','MO',2),\n",
    "('M6','Giuseppe Verdi','BO',1),\n",
    "('M7','Maria Rossi',null,1);\n",
    "'''\n",
    "engine.execute(q)\n",
    "\n",
    "\n",
    "q = '''\n",
    "INSERT INTO D (CD, CNome, Citta)\n",
    "VALUES\n",
    "('D1','Paolo Rossi','MO'),\n",
    "('D2','Maria Pastore','BO'),\n",
    "('D3','Paola Caboni','FI');\n",
    "'''\n",
    "engine.execute(q)\n",
    "\n",
    "\n",
    "q = '''\n",
    "INSERT INTO C (CC,CNome, CD)\n",
    "VALUES\n",
    "('C1','Fisica 1','D1'),\n",
    "('C2','Analisi Matematica 1','D2'),\n",
    "('C3','Fisica 2','D1'),\n",
    "('C4','Analisi Matematica 2','D3');\n",
    "'''\n",
    "engine.execute(q)\n",
    "\n",
    "\n",
    "q = '''\n",
    "INSERT INTO E (Matr,CC,Data,Voto)\n",
    "VALUES\n",
    "('M1','C1','1995-06-29',24),\n",
    "('M1','C2','1996-08-09',33),\n",
    "('M1','C3','1996-03-12',30),\n",
    "('M2','C1','1995-06-29',28),\n",
    "('M2','C2','1996-07-07',24),\n",
    "('M3','C2','1996-07-07',27),\n",
    "('M3','C3','1996-11-11',25),\n",
    "('M4','C3','1996-11-11',33),\n",
    "('M6','C2','1996-01-02',28),\n",
    "('M7','C1','1995-06-29',24),\n",
    "('M7','C2','1996-04-11',26),\n",
    "('M7','C3','1996-06-23',27);\n",
    "'''\n",
    "engine.execute(q)"
   ]
  },
  {
   "cell_type": "markdown",
   "metadata": {
    "id": "S1lNitr70Vs-"
   },
   "source": [
    "# Query the DB"
   ]
  },
  {
   "cell_type": "code",
   "execution_count": null,
   "metadata": {
    "colab": {
     "base_uri": "https://localhost:8080/",
     "height": 204
    },
    "id": "2WBcfhqmtfTL",
    "outputId": "8df2d7c4-763a-47f9-8bc6-89f0cd9110c8"
   },
   "outputs": [],
   "source": [
    "# TEMPLATE QUERY\n",
    "q = '''\n",
    "SELECT *\n",
    "FROM S,C,D,E\n",
    "'''\n",
    "\n",
    "res = engine.execute(q)\n",
    "df = pd.DataFrame(res.fetchall())\n",
    "df.columns = res.keys()\n",
    "df.head()"
   ]
  },
  {
   "cell_type": "markdown",
   "metadata": {
    "id": "liv3Np15QCN3"
   },
   "source": [
    "# GROUP BY\n",
    "\n",
    "In una istruzione SELECT e' possibile formare \n",
    "dei gruppi di tuple che hanno lo stesso valore \n",
    "di specificati attributi, tramite la clausola\n",
    "- `GROUP BY`\n",
    "\n",
    "\n",
    "SINTASSI:\n",
    "```\n",
    "SELECT [DISTINCT|ALL] <lista-SELECT> FROM <lista-FROM>\n",
    "[WHERE <condizione>]\n",
    "[GROUP BY <lista-group> ]\n",
    "```\n",
    "\n",
    "\n",
    "**IMPORTANTE**\n",
    "\n",
    "Il risultato della SELECT e' un unico record per ciascun gruppo"
   ]
  },
  {
   "cell_type": "code",
   "execution_count": null,
   "metadata": {
    "colab": {
     "base_uri": "https://localhost:8080/",
     "height": 204
    },
    "id": "r45Am9oSP7bo",
    "outputId": "1269371a-532f-4823-d312-5fd5bc93bbff"
   },
   "outputs": [],
   "source": [
    "q='''\n",
    "SELECT Matr, MAX(Voto)\n",
    "FROM E\n",
    "GROUP BY Matr\n",
    "'''\n",
    "res = engine.execute(q)\n",
    "df = pd.DataFrame(res.fetchall())\n",
    "df.columns = res.keys()\n",
    "df.head()"
   ]
  },
  {
   "cell_type": "code",
   "execution_count": null,
   "metadata": {
    "colab": {
     "base_uri": "https://localhost:8080/",
     "height": 204
    },
    "id": "BBJ8mt_iP-mw",
    "outputId": "628b96ed-b747-4d02-b88c-9ed4c859bd41"
   },
   "outputs": [],
   "source": [
    "# “Voto massimo e minimo ottenuto per ogni studente, escludendo il corso C1”\n",
    "q='''\n",
    "SELECT Matr, MAX(Voto), MIN(Voto) \n",
    "FROM E\n",
    "WHERE CC <> 'C1'\n",
    "GROUP BY Matr\n",
    "'''\n",
    "\n",
    "res = engine.execute(q)\n",
    "df = pd.DataFrame(res.fetchall())\n",
    "df.columns = res.keys()\n",
    "df.head()"
   ]
  },
  {
   "cell_type": "code",
   "execution_count": null,
   "metadata": {
    "colab": {
     "base_uri": "https://localhost:8080/",
     "height": 142
    },
    "id": "uhuhrrM4QTGW",
    "outputId": "95ddcd41-89b3-4036-e524-556e001a4d6b"
   },
   "outputs": [],
   "source": [
    "# Codice e nome di un corso, e relativo numero di esami sostenuti\n",
    "q='''\n",
    "SELECT C.CC, C.CNome, COUNT(*) as num_esami\n",
    "FROM E,C\n",
    "WHERE E.CC=C.CC\n",
    "GROUP BY C.CC, C.CNome\n",
    "'''\n",
    "\n",
    "res = engine.execute(q)\n",
    "df = pd.DataFrame(res.fetchall())\n",
    "df.columns = res.keys()\n",
    "df.head()"
   ]
  },
  {
   "cell_type": "markdown",
   "metadata": {
    "id": "ChEv_SQJQkJf"
   },
   "source": [
    "# HAVING\n",
    "In presenza di una clausola WHERE, il raggruppamento riporta solo i valori che soddisfano la condizione della WHERE"
   ]
  },
  {
   "cell_type": "code",
   "execution_count": null,
   "metadata": {
    "colab": {
     "base_uri": "https://localhost:8080/",
     "height": 204
    },
    "id": "thfw_KwZQTJX",
    "outputId": "734a563e-4168-45bc-9d3f-86ea2456d46c"
   },
   "outputs": [],
   "source": [
    "# Numero esami e somma dei voti per ogni studente, escludendo il corso C2\n",
    "q='''\n",
    "SELECT Matr, COUNT(*), SUM(Voto)\n",
    "FROM E\n",
    "WHERE CC <> 'C2'\n",
    "GROUP BY Matr\n",
    "'''\n",
    "\n",
    "res = engine.execute(q)\n",
    "df = pd.DataFrame(res.fetchall())\n",
    "df.columns = res.keys()\n",
    "df.head()\n",
    "\n",
    "# ma non restituisce alcuna informazione sulla \n",
    "# matricola M6, in quanto nessuna tupla di E\n",
    "# corrispondente a M6 soddisfa la condizione"
   ]
  },
  {
   "cell_type": "code",
   "execution_count": null,
   "metadata": {
    "colab": {
     "base_uri": "https://localhost:8080/",
     "height": 204
    },
    "id": "__NHFmu7Qsjo",
    "outputId": "28a8e233-d2bd-4c83-9127-5179baac9b8f"
   },
   "outputs": [],
   "source": [
    "# Dobbiamo usare GROUP BY ALL per considerare anche i NULL\n",
    "q='''\n",
    "SELECT Matr,COUNT(*),SUM(Voto) \n",
    "FROM E\n",
    "WHERE CC <> 'C2'\n",
    "GROUP BY ALL Matr\n",
    "'''\n",
    "\n",
    "# SQLite non supporta GROUP BY ALL\n",
    "\n",
    "# res = engine.execute(q)\n",
    "# df = pd.DataFrame(res.fetchall())\n",
    "# df.columns = res.keys()\n",
    "# df.head()"
   ]
  },
  {
   "cell_type": "markdown",
   "metadata": {
    "id": "vpuPsGIVRFPu"
   },
   "source": [
    "Se volessimo gli studenti con una media maggiore di 28?\n",
    "  \n",
    "**NON POSSIAMO FARE QUANTO SEGUE:**"
   ]
  },
  {
   "cell_type": "code",
   "execution_count": null,
   "metadata": {
    "colab": {
     "base_uri": "https://localhost:8080/",
     "height": 111
    },
    "id": "5ron7pzDREUX",
    "outputId": "ff060fab-468e-4f3d-9176-8aecb3be8e70"
   },
   "outputs": [],
   "source": [
    "q='''\n",
    "SELECT Matr,AVG(VOTO) \n",
    "FROM E\n",
    "WHERE VOTO > 28\n",
    "GROUP BY Matr\n",
    "'''\n",
    "\n",
    "res = engine.execute(q)\n",
    "df = pd.DataFrame(res.fetchall())\n",
    "df.columns = res.keys()\n",
    "df.head()"
   ]
  },
  {
   "cell_type": "markdown",
   "metadata": {
    "id": "b0SWVQJeRUOV"
   },
   "source": [
    "### COS'E' LA CLAUSOLA `HAVING`\n",
    "La clausola HAVING e' l’equivalente dellaclausola WHERE\n",
    "applicata a gruppi di tuple: \n",
    "\n",
    "ogni gruppo costruito tramite GROUP BY \n",
    "fa parte del risultato dell’interrogazione \n",
    "se e solo se \n",
    "il predicato specificato nella clausola HAVING risulta soddisfatto.\n",
    "\n",
    "\n",
    "**SINTASSI:**\n",
    "```\n",
    "[GROUP BY <lista-group> ]\n",
    "[HAVING <condizione>]\n",
    "```"
   ]
  },
  {
   "cell_type": "code",
   "execution_count": null,
   "metadata": {
    "colab": {
     "base_uri": "https://localhost:8080/",
     "height": 111
    },
    "id": "gc7zlsvhQtAa",
    "outputId": "7cc3bbea-1a4b-4375-eade-0dc41f55703c"
   },
   "outputs": [],
   "source": [
    "# Selezionare studente e media, degli studenti con media maggiore di 28\n",
    "q='''\n",
    "SELECT Matr, AVG(VOTO) \n",
    "FROM E\n",
    "GROUP BY Matr\n",
    "HAVING AVG(VOTO) > 28\n",
    "'''\n",
    "\n",
    "res = engine.execute(q)\n",
    "df = pd.DataFrame(res.fetchall())\n",
    "df.columns = res.keys()\n",
    "df.head()"
   ]
  },
  {
   "cell_type": "code",
   "execution_count": null,
   "metadata": {
    "colab": {
     "base_uri": "https://localhost:8080/",
     "height": 142
    },
    "id": "4CCVTF6XReZD",
    "outputId": "fa9b6c79-0909-44ce-caca-9efe8062e219"
   },
   "outputs": [],
   "source": [
    "# Media dei voti per ogni esame sostenuto da piu' di due studenti\n",
    "q='''\n",
    "SELECT CC, AVG(Voto)\n",
    "FROM E\n",
    "GROUP BY CC\n",
    "HAVING COUNT(*) > 2\n",
    "'''\n",
    "\n",
    "res = engine.execute(q)\n",
    "df = pd.DataFrame(res.fetchall())\n",
    "df.columns = res.keys()\n",
    "df.head()"
   ]
  },
  {
   "cell_type": "code",
   "execution_count": null,
   "metadata": {
    "colab": {
     "base_uri": "https://localhost:8080/",
     "height": 80
    },
    "id": "O73e3OF6Re12",
    "outputId": "306a84de-31b2-434b-d0f6-ad2209c35bf1"
   },
   "outputs": [],
   "source": [
    "# Corsi per cui ci sono almeno due studenti con lo stesso voto\n",
    "q='''\n",
    "SELECT CC, Voto\n",
    "FROM E\n",
    "GROUP BY CC, Voto\n",
    "HAVING COUNT(Matr) >= 2\n",
    "'''\n",
    "\n",
    "res = engine.execute(q)\n",
    "df = pd.DataFrame(res.fetchall())\n",
    "df.columns = res.keys()\n",
    "df.head()"
   ]
  },
  {
   "cell_type": "code",
   "execution_count": null,
   "metadata": {
    "colab": {
     "base_uri": "https://localhost:8080/",
     "height": 204
    },
    "id": "5nUJOVIFRkMt",
    "outputId": "fff1b67e-72c7-4073-d2a4-b26d9afced30"
   },
   "outputs": [],
   "source": [
    "q='''\n",
    "SELECT *\n",
    "FROM E\n",
    "'''\n",
    "res = engine.execute(q)\n",
    "df = pd.DataFrame(res.fetchall())\n",
    "df.columns = res.keys()\n",
    "df.head()"
   ]
  },
  {
   "cell_type": "code",
   "execution_count": null,
   "metadata": {
    "colab": {
     "base_uri": "https://localhost:8080/",
     "height": 204
    },
    "id": "Z62FS3-6Rp2Z",
    "outputId": "ace0a359-b984-4186-832d-632c8758db0a"
   },
   "outputs": [],
   "source": [
    "q='''\n",
    "SELECT E.Matr,COUNT(*) as num, AVG(Voto)\n",
    "FROM E join S on E.Matr=S.Matr\n",
    "WHERE CC <> 'C2'\n",
    "GROUP BY E.Matr\n",
    "ORDER BY AVG(Voto) DESC\n",
    "'''\n",
    "\n",
    "res = engine.execute(q)\n",
    "df = pd.DataFrame(res.fetchall())\n",
    "df.columns = res.keys()\n",
    "df.head()"
   ]
  },
  {
   "cell_type": "code",
   "execution_count": null,
   "metadata": {
    "colab": {
     "base_uri": "https://localhost:8080/",
     "height": 204
    },
    "id": "LCTEfl1fRsx1",
    "outputId": "fd8c7902-ff32-4f79-bf81-feac88c1cb61"
   },
   "outputs": [],
   "source": [
    "# Provare aggiungendo S.SNome alla GROUP BY\n",
    "\n",
    "q='''\n",
    "SELECT E.Matr, COUNT(*) as num, AVG(Voto)\n",
    "FROM E join S on E.Matr=S.Matr\n",
    "WHERE CC <> 'C2'\n",
    "GROUP BY E.Matr, S.SNome\n",
    "ORDER BY E.Matr\n",
    "'''\n",
    "\n",
    "res = engine.execute(q)\n",
    "df = pd.DataFrame(res.fetchall())\n",
    "df.columns = res.keys()\n",
    "df.head()"
   ]
  },
  {
   "cell_type": "code",
   "execution_count": null,
   "metadata": {
    "colab": {
     "base_uri": "https://localhost:8080/",
     "height": 204
    },
    "id": "ZNJgl8kTRxny",
    "outputId": "e639b263-0644-4119-a21e-22865905d1b1"
   },
   "outputs": [],
   "source": [
    "# Rimuovere di nuovo S.SNome alla GROUP BY\n",
    "# Aggiungere SELECT anche S.SNome\n",
    "\n",
    "q='''\n",
    "SELECT E.Matr, S.SNome, COUNT(*) as num, AVG(Voto)\n",
    "FROM E join S on E.Matr=S.Matr\n",
    "WHERE CC <> 'C2'\n",
    "GROUP BY E.Matr, S.SNome\n",
    "ORDER BY E.Matr\n",
    "'''\n",
    "\n",
    "res = engine.execute(q)\n",
    "df = pd.DataFrame(res.fetchall())\n",
    "df.columns = res.keys()\n",
    "df.head()"
   ]
  },
  {
   "cell_type": "markdown",
   "metadata": {
    "id": "tvzurMJc2rDj"
   },
   "source": [
    "# Divisione"
   ]
  },
  {
   "cell_type": "code",
   "execution_count": null,
   "metadata": {
    "colab": {
     "base_uri": "https://localhost:8080/",
     "height": 111
    },
    "id": "NsqCTMbkR2TZ",
    "outputId": "1348983e-06a5-42eb-ed57-5dff5d287913"
   },
   "outputs": [],
   "source": [
    "# Studenti che hanno sostenuto tutti gli esami relativi a corsi del docente D1\n",
    "q='''\n",
    "SELECT *\n",
    "FROM S\n",
    "WHERE NOT EXISTS\n",
    "  (SELECT*\n",
    "   FROM C\n",
    "   WHERE CD='D1' AND \n",
    "   NOT EXISTS\n",
    "      (SELECT*\n",
    "       FROM E\n",
    "       WHERE E.Matr=S.Matr \n",
    "       AND E.CC=C.CC))\n",
    "'''\n",
    "\n",
    "res = engine.execute(q)\n",
    "df = pd.DataFrame(res.fetchall())\n",
    "df.columns = res.keys()\n",
    "df.head()"
   ]
  },
  {
   "cell_type": "code",
   "execution_count": null,
   "metadata": {
    "colab": {
     "base_uri": "https://localhost:8080/",
     "height": 80
    },
    "id": "Jf1FdF2q27tW",
    "outputId": "24349d96-dd9f-4021-d47f-0353daea94e1"
   },
   "outputs": [],
   "source": [
    "#“Studenti che hanno sostenuto tutti gli esami sostenuti dallo studente M7”\n",
    "# riformulata come\n",
    "#“Studenti per i quali non esiste alcun esame sostenuto da M7 che essi non hanno sostenuto”\n",
    "q='''\n",
    "  SELECT *\n",
    "  FROM S\n",
    "  WHERE Matr <> 'M7'\n",
    "  AND NOT EXISTS\n",
    "    (SELECT *\n",
    "     FROM E E1 WHERE Matr='M7'\n",
    "     AND NOT EXISTS\n",
    "      (SELECT *\n",
    "       FROM E E2\n",
    "       WHERE E2.Matr=S.Matr \n",
    "       AND E2.CC=E1.CC))\n",
    "'''\n",
    "\n",
    "res = engine.execute(q)\n",
    "df = pd.DataFrame(res.fetchall())\n",
    "df.columns = res.keys()\n",
    "df.head()"
   ]
  },
  {
   "cell_type": "code",
   "execution_count": null,
   "metadata": {
    "id": "aMY2FNJW3VpX"
   },
   "outputs": [],
   "source": []
  }
 ],
 "metadata": {
  "colab": {
   "collapsed_sections": [
    "7wywHOYZSixy",
    "S1lNitr70Vs-"
   ],
   "include_colab_link": true,
   "name": "05_SQL_sqlite_GRROUP-BY_HAGING.ipynb",
   "provenance": [],
   "toc_visible": true
  },
  "kernelspec": {
   "display_name": "Python 3 (ipykernel)",
   "language": "python",
   "name": "python3"
  },
  "language_info": {
   "codemirror_mode": {
    "name": "ipython",
    "version": 3
   },
   "file_extension": ".py",
   "mimetype": "text/x-python",
   "name": "python",
   "nbconvert_exporter": "python",
   "pygments_lexer": "ipython3",
   "version": "3.9.12"
  }
 },
 "nbformat": 4,
 "nbformat_minor": 1
}
