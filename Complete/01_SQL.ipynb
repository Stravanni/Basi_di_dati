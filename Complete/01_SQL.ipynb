{
 "cells": [
  {
   "cell_type": "markdown",
   "metadata": {
    "colab_type": "text",
    "id": "view-in-github"
   },
   "source": [
    "<a href=\"https://colab.research.google.com/github/Stravanni/Basi_di_dati/blob/main/01_SQL.ipynb\" target=\"_parent\"><img src=\"https://colab.research.google.com/assets/colab-badge.svg\" alt=\"Open In Colab\"/></a>"
   ]
  },
  {
   "cell_type": "markdown",
   "metadata": {
    "id": "7wywHOYZSixy"
   },
   "source": [
    "# Introduzione a SQL\n",
    "@author: giovanni.simonini@unimore.it\n",
    "\n",
    "## To run: \n",
    "- to run a cell: SHIFT + ENTER\n",
    "  \n",
    "## Schema Università\n",
    "\n",
    "S (<u>Matr</u>,SNome,Citta,ACorso)\n",
    "\n",
    "D(<u>CD</u>,CNome,Citta)\n",
    "\n",
    "C(<u>CC</u>,CNome,CD)\n",
    "- FOREIGN KEY (CD) REFERENCES D(CD)\n",
    "\n",
    "E(<u>Matr,CC</u>,DATA,VOTO)\n",
    "- FOREIGN KEY (Matr) REFERENCES S(Matr)\n",
    "- FOREIGN KEY (CC) REFERENCES C(CC)\n",
    " "
   ]
  },
  {
   "cell_type": "code",
   "execution_count": null,
   "metadata": {
    "colab": {
     "base_uri": "https://localhost:8080/"
    },
    "id": "8nW04m8ZIJZJ",
    "outputId": "a43835db-2555-4350-866d-586b195aa7d9"
   },
   "outputs": [],
   "source": [
    "pip install duckdb \n",
    "!pip install SQLAlchemy==1.4.49"
   ]
  },
  {
   "cell_type": "code",
   "execution_count": null,
   "metadata": {
    "id": "7tWMfJ-KpIIg"
   },
   "outputs": [],
   "source": [
    "import pandas as pd"
   ]
  },
  {
   "cell_type": "code",
   "execution_count": null,
   "metadata": {
    "id": "NafMw9A2ILPi"
   },
   "outputs": [],
   "source": [
    "import duckdb\n",
    "con = duckdb.connect(database=':memory:', read_only=False)"
   ]
  },
  {
   "cell_type": "markdown",
   "metadata": {
    "id": "Gw8MjowWwv3G"
   },
   "source": [
    "## Create the the tables\n",
    "DuckDB"
   ]
  },
  {
   "cell_type": "code",
   "execution_count": null,
   "metadata": {
    "colab": {
     "base_uri": "https://localhost:8080/"
    },
    "id": "XV9MDV65w8-F",
    "outputId": "89006142-7083-45d6-9efd-255635e6bf7c"
   },
   "outputs": [],
   "source": [
    "con.execute(\"CREATE SCHEMA IF NOT EXISTS uni;\")"
   ]
  },
  {
   "cell_type": "code",
   "execution_count": null,
   "metadata": {
    "colab": {
     "base_uri": "https://localhost:8080/"
    },
    "id": "S-mRiFhSj8HJ",
    "outputId": "7589dbe5-5d5c-45ef-ca63-8b096901ccee"
   },
   "outputs": [],
   "source": [
    "con.execute(\"CREATE TABLE S (\\\n",
    "    Matr VARCHAR(45),\\\n",
    "    SNome VARCHAR(45),\\\n",
    "    Citta VARCHAR(45),\\\n",
    "    ACorso INT,\\\n",
    "    UNIQUE (Matr),\\\n",
    "    PRIMARY KEY (Matr)\\\n",
    ");\")\n",
    "\n",
    "con.execute(\"CREATE TABLE D(\\\n",
    " CD VARCHAR(45),\\\n",
    " CNome VARCHAR(45),\\\n",
    " Citta VARCHAR(45),\\\n",
    " UNIQUE (CD),\\\n",
    " PRIMARY KEY (CD)\\\n",
    ");\")\n",
    "\n",
    "con.execute(\"CREATE TABLE C(\\\n",
    " CC VARCHAR(45),\\\n",
    " CNome VARCHAR(45),\\\n",
    " CD VARCHAR(45),\\\n",
    " UNIQUE (CC),\\\n",
    " PRIMARY KEY (CC)\\\n",
    ");\")\n",
    "\n",
    "con.execute(\"CREATE TABLE E(\\\n",
    " Matr VARCHAR(45),\\\n",
    " CC VARCHAR(45),\\\n",
    " DATA DATE,\\\n",
    " VOTO INT,\\\n",
    " UNIQUE (Matr, CC),\\\n",
    " PRIMARY KEY (Matr, CC)\\\n",
    ");\")\n",
    "\n",
    "\n",
    "con.execute(\"INSERT INTO S (Matr, SNome, Citta, ACorso)\\\n",
    "VALUES\\\n",
    "('M1','Lucia Quaranta','SA',1),\\\n",
    "('M2','Giacomo Tedesco','PA',2),\\\n",
    "('M3','Carla Longo','MO',1),\\\n",
    "('M4','Ugo Rossi','MO',1),\\\n",
    "('M5','Valeria Neri','MO',2),\\\n",
    "('M6','Giuseppe Verdi','BO',1),\\\n",
    "('M7','Maria Rossi',null,1);\")\n",
    "\n",
    "\n",
    "con.execute(\"INSERT INTO D (CD, CNome, Citta)\\\n",
    "VALUES\\\n",
    "('D1','Paolo Rossi','MO'),\\\n",
    "('D2','Maria Pastore','BO'),\\\n",
    "('D3','Paola Caboni','FI');\")\n",
    "\n",
    "\n",
    "\n",
    "con.execute(\"INSERT INTO C (CC,CNome, CD)\\\n",
    "VALUES\\\n",
    "('C1','Fisica 1','D1'),\\\n",
    "('C2','Analisi Matematica 1','D2'),\\\n",
    "('C3','Fisica 2','D1'),\\\n",
    "('C4','Analisi Matematica 2','D3');\")\n",
    "\n",
    "\n",
    "\n",
    "con.execute(\"INSERT INTO E (Matr,CC,Data,Voto)\\\n",
    "VALUES\\\n",
    "('M1','C1','1995-06-29',24),\\\n",
    "('M1','C2','1996-08-09',33),\\\n",
    "('M1','C3','1996-03-12',30),\\\n",
    "('M2','C1','1995-06-29',28),\\\n",
    "('M2','C2','1996-07-07',24),\\\n",
    "('M3','C2','1996-07-07',27),\\\n",
    "('M3','C3','1996-11-11',25),\\\n",
    "('M4','C3','1996-11-11',33),\\\n",
    "('M6','C2','1996-01-02',28),\\\n",
    "('M7','C1','1995-06-29',24),\\\n",
    "('M7','C2','1996-04-11',26),\\\n",
    "('M7','C3','1996-06-23',27);\")\n"
   ]
  },
  {
   "cell_type": "markdown",
   "metadata": {
    "id": "S1lNitr70Vs-"
   },
   "source": [
    "## Query the DB"
   ]
  },
  {
   "cell_type": "code",
   "execution_count": null,
   "metadata": {
    "colab": {
     "base_uri": "https://localhost:8080/",
     "height": 419
    },
    "id": "2WBcfhqmtfTL",
    "outputId": "ec858db7-c16c-447f-cd21-c62a4bb9b15b"
   },
   "outputs": [],
   "source": [
    "# TEMPLATE QUERY\n",
    "q = '''\n",
    "SELECT *\n",
    "FROM S,C,D,E\n",
    "'''\n",
    "\n",
    "con.execute(q) # execute the query\n",
    "con.fetchdf() # return a pandas dataframe"
   ]
  },
  {
   "cell_type": "code",
   "execution_count": null,
   "metadata": {
    "colab": {
     "base_uri": "https://localhost:8080/",
     "height": 111
    },
    "id": "nD_luzZLjmqD",
    "outputId": "771d2580-1a73-42cd-fb4c-62257a8ea369"
   },
   "outputs": [],
   "source": [
    "\n",
    "# Operatori relazionali : <attr> <op-rel> <cost> \n",
    "# dove <op-rel> ∈ {=, <>, >, >=, <, <=}\n",
    "# \n",
    "# Studenti del secondo anno di corso\n",
    "q = ''' \n",
    "SELECT *\n",
    "FROM S\n",
    "WHERE ACorso=2;\n",
    "'''\n",
    "con.execute(q) \n",
    "con.fetchdf()"
   ]
  },
  {
   "cell_type": "code",
   "execution_count": null,
   "metadata": {
    "colab": {
     "base_uri": "https://localhost:8080/",
     "height": 235
    },
    "id": "KXZBjIkyowhr",
    "outputId": "2063857d-0cac-46da-8325-88613e457f26"
   },
   "outputs": [],
   "source": [
    "# Esami con voto compreso tra 24 e 28\n",
    "q = '''\n",
    "SELECT *\n",
    "FROM E\n",
    "WHERE Voto > 24\n",
    "AND Voto <= 28;\n",
    "'''\n",
    "con.execute(q) \n",
    "con.fetchdf()\n"
   ]
  },
  {
   "cell_type": "code",
   "execution_count": null,
   "metadata": {
    "colab": {
     "base_uri": "https://localhost:8080/",
     "height": 142
    },
    "id": "fSJBzVtIo7EZ",
    "outputId": "6ccf45ef-ce24-4119-fed4-52f8c84f66e8"
   },
   "outputs": [],
   "source": [
    "# Operatore di set : <attr> IN (<cost1>, ..., <costN>)\n",
    "#\n",
    "# Esami con voto pari a 29, 30 oppure con lode (voto pari a 33)\n",
    "q = '''\n",
    "SELECT *\n",
    "FROM E\n",
    "WHERE Voto IN (29,30,33);\n",
    "'''\n",
    "con.execute(q) \n",
    "con.fetchdf()\n"
   ]
  },
  {
   "cell_type": "code",
   "execution_count": null,
   "metadata": {
    "colab": {
     "base_uri": "https://localhost:8080/",
     "height": 111
    },
    "id": "O-r7HAEH4nqS",
    "outputId": "aeca7a66-322e-4377-9d7d-5004301c1dc3"
   },
   "outputs": [],
   "source": [
    "# Operatore di confronto stringhe : <attr> LIKE <stringa> \n",
    "# dove <stringa> puo` contenere i caratteri speciali   (carattere arbitrario) e % (stringa arbitraria)\n",
    "#\n",
    "# Studenti il cui nome inizia con A e termina con O\n",
    "\n",
    "q = '''\n",
    "SELECT *\n",
    "FROM S\n",
    "WHERE SNome LIKE 'V%i'\n",
    "'''\n",
    "con.execute(q) \n",
    "con.fetchdf()\n"
   ]
  },
  {
   "cell_type": "code",
   "execution_count": null,
   "metadata": {
    "colab": {
     "base_uri": "https://localhost:8080/",
     "height": 142
    },
    "id": "PdUYF-3g4qoF",
    "outputId": "58cb1bd6-1870-4637-a6ee-f22dcc91e385"
   },
   "outputs": [],
   "source": [
    "# Ordinamento del risultato: ORDER BY <attr> [ASC|DESC]\n",
    "#\n",
    "# Studenti di Modena ordinati in senso ascendente rispetto all’anno di corso\n",
    "q = '''\n",
    "SELECT Matr,ACorso \n",
    "FROM S\n",
    "WHERE Citta = 'MO' \n",
    "ORDER BY ACorso DESC\n",
    "'''\n",
    "con.execute(q) \n",
    "con.fetchdf()\n"
   ]
  },
  {
   "cell_type": "code",
   "execution_count": null,
   "metadata": {
    "colab": {
     "base_uri": "https://localhost:8080/",
     "height": 142
    },
    "id": "-f5aqKud4sXj",
    "outputId": "c4e33f3c-3ee0-4e2e-b013-f87665d6d211"
   },
   "outputs": [],
   "source": [
    "# L’ordinamento deve essere fatto rispetto a uno o piu' elementi della <lista-select>: \n",
    "# un tale elemento puo' essere indicato anche riportando la sua posizione nella <lista-select>.\n",
    "#\n",
    "# Esami del corso C1 ordinati in senso discendente rispetto al voto espresso in sessantesimi, \n",
    "# e a parita` di voto rispetto alla matricola\n",
    "\n",
    "q = '''\n",
    "SELECT Matr,CC,(60*Voto)/30 \n",
    "FROM E\n",
    "WHERE CC='C1'\n",
    "ORDER BY 3 DESC, Matr DESC\n",
    "'''\n",
    "\n",
    "con.execute(q) \n",
    "con.fetchdf()\n"
   ]
  },
  {
   "cell_type": "markdown",
   "metadata": {
    "id": "6Me-OkPq5sq1"
   },
   "source": [
    "## JOIN operators"
   ]
  },
  {
   "cell_type": "code",
   "execution_count": null,
   "metadata": {
    "colab": {
     "base_uri": "https://localhost:8080/",
     "height": 419
    },
    "id": "Rc7_YeCV4wGH",
    "outputId": "da3253dd-fc7b-4cd4-e53b-3f4c44b9209d"
   },
   "outputs": [],
   "source": [
    "# Patriamo dal prodotto cartesiano: \n",
    "# Cioe' la combinazione di tutte le possibili tuple delle tabelle elencate\n",
    "# nella clausola FROM\n",
    "q = '''\n",
    "SELECT *\n",
    "FROM S,D,E,C\n",
    "'''\n",
    "con.execute(q) \n",
    "con.fetchdf()"
   ]
  },
  {
   "cell_type": "code",
   "execution_count": null,
   "metadata": {
    "colab": {
     "base_uri": "https://localhost:8080/",
     "height": 419
    },
    "id": "LRtp6UCL5z8p",
    "outputId": "60618d60-76ed-4ce6-8284-1a741598cb21"
   },
   "outputs": [],
   "source": [
    "q = '''\n",
    "SELECT * \n",
    "FROM S,E\n",
    "'''\n",
    "\n",
    "con.execute(q) \n",
    "con.fetchdf()"
   ]
  },
  {
   "cell_type": "code",
   "execution_count": null,
   "metadata": {
    "colab": {
     "base_uri": "https://localhost:8080/",
     "height": 421
    },
    "id": "oIy7tsJf51gG",
    "outputId": "23df6268-e1ff-4d51-c74c-0366410aea1e"
   },
   "outputs": [],
   "source": [
    "# Il Join, per definizione e' un \"filtro\" sul prodotto cartesiano\n",
    "# cioe', in algebra relazionale, una selezione sul prodotto cartesiano\n",
    "q = '''\n",
    "SELECT *\n",
    "FROM S,E\n",
    "WHERE S.Matr=E.Matr\n",
    "'''\n",
    "con.execute(q) \n",
    "con.fetchdf()\n",
    "\n",
    "# che equivale a:\n",
    "# q = '''\n",
    "# SELECT *\n",
    "# FROM S JOIN E on S.Matr=E.Matr\n",
    "# '''\n",
    "# con.execute(q) \n",
    "# con.fetchdf()\n",
    "\n",
    "# q = '''\n",
    "# SELECT *\n",
    "# FROM S natural JOIN E\n",
    "# '''\n",
    "# con.execute(q) \n",
    "# con.fetchdf()"
   ]
  },
  {
   "cell_type": "code",
   "execution_count": null,
   "metadata": {
    "colab": {
     "base_uri": "https://localhost:8080/",
     "height": 80
    },
    "id": "s-_g9Ihb6Awb",
    "outputId": "205245d0-5f48-4992-8702-164546ed55e6"
   },
   "outputs": [],
   "source": [
    "# Pero' possono esseci studenti che non hanno sostenuto esami.\n",
    "# Ad esempio:\n",
    "\n",
    "q = '''\n",
    "SELECT *\n",
    "FROM S\n",
    "WHERE S.Matr not in (SELECT Matr FROM E)\n",
    "'''\n",
    "con.execute(q) \n",
    "con.fetchdf()"
   ]
  },
  {
   "cell_type": "code",
   "execution_count": null,
   "metadata": {
    "colab": {
     "base_uri": "https://localhost:8080/",
     "height": 452
    },
    "id": "QciuT2MP6F2J",
    "outputId": "5b465076-99e9-4f56-e7f1-d64375615e47"
   },
   "outputs": [],
   "source": [
    "# Se volessimo anche questi studenti nell'output del join\n",
    "# dobbiamo usare un LEFT join\n",
    "\n",
    "q = '''\n",
    "SELECT * FROM S LEFT JOIN E on S.Matr=E.Matr;\n",
    "'''\n",
    "con.execute(q) \n",
    "con.fetchdf()"
   ]
  },
  {
   "cell_type": "code",
   "execution_count": null,
   "metadata": {
    "colab": {
     "base_uri": "https://localhost:8080/",
     "height": 173
    },
    "id": "H3micztY6LQw",
    "outputId": "6c606e50-5e3c-4f64-a7c2-efa85e19607e"
   },
   "outputs": [],
   "source": [
    "# E se volessi:\n",
    "# Combinazioni di studenti e di docenti residenti nella stessa citta'\n",
    "# inclusi gli studenti che risiedono in una citta' \n",
    "# che non ha corrispondenza nella relazione dei docenti\n",
    "q = '''\n",
    "SELECT *\n",
    "FROM S JOIN D ON S.Citta=D.Citta;\n",
    "'''\n",
    "con.execute(q) \n",
    "con.fetchdf()"
   ]
  },
  {
   "cell_type": "code",
   "execution_count": null,
   "metadata": {
    "colab": {
     "base_uri": "https://localhost:8080/",
     "height": 266
    },
    "id": "xtv6YMHb6UxQ",
    "outputId": "76dcef17-f7a0-49db-ed55-934f3493bd57"
   },
   "outputs": [],
   "source": [
    "# con anche gli studenti di citta' da cui non viene nessun docente:\n",
    "q = '''\n",
    "SELECT *\n",
    "FROM S LEFT JOIN D ON S.Citta=D.Citta;\n",
    "'''\n",
    "con.execute(q) \n",
    "con.fetchdf()"
   ]
  },
  {
   "cell_type": "code",
   "execution_count": null,
   "metadata": {
    "colab": {
     "base_uri": "https://localhost:8080/",
     "height": 328
    },
    "id": "XLYW1f_v6WmL",
    "outputId": "36666010-3fdf-49a1-b8ef-fc0cd7fa929e"
   },
   "outputs": [],
   "source": [
    "# Nella clausola FROM e' possibile esprimere anche piu' condizioni di join.\n",
    "# \n",
    "# Ad esempio, se volessimo:\n",
    "# Per ogni esame con voto superiore a 24 riportare il nome dello studente \n",
    "# e il codice del docente del corso\n",
    "q = '''\n",
    "SELECT S.SNome,C.CD, E.voto\n",
    "FROM (S JOIN E ON (S.Matr=E.Matr))\n",
    "\t\tJOIN C ON (E.CC=C.CC)\n",
    "WHERE Voto > 24;\n",
    "'''\n",
    "con.execute(q) \n",
    "con.fetchdf()"
   ]
  },
  {
   "cell_type": "code",
   "execution_count": null,
   "metadata": {
    "colab": {
     "base_uri": "https://localhost:8080/",
     "height": 328
    },
    "id": "D3XDihdD6ZG-",
    "outputId": "cea23159-1435-4d58-b5da-cae92e4dfe5b"
   },
   "outputs": [],
   "source": [
    "# che equivale a:\n",
    "q = '''\n",
    "SELECT S.SNome,C.CD, E.voto\n",
    "FROM S,E,C\n",
    "WHERE S.Matr=E.Matr \n",
    "AND E.CC=C.CC\n",
    "AND Voto > 24;\n",
    "'''\n",
    "con.execute(q) \n",
    "con.fetchdf()"
   ]
  },
  {
   "cell_type": "code",
   "execution_count": null,
   "metadata": {
    "colab": {
     "base_uri": "https://localhost:8080/",
     "height": 266
    },
    "id": "b-baqrTB6o4z",
    "outputId": "8bf49bed-c01b-4c56-f5af-a6c3c9ea2982"
   },
   "outputs": [],
   "source": [
    "# Con gli outer join, certi attributi vengono duplicati (per definizione)\n",
    "# Ad sempio:\n",
    "q = '''\n",
    "SELECT S.Matr,S.Citta,D.CD, D.Citta\n",
    "FROM S LEFT JOIN D ON (S.Citta=D.Citta);\n",
    "'''\n",
    "con.execute(q) \n",
    "con.fetchdf()"
   ]
  },
  {
   "cell_type": "code",
   "execution_count": null,
   "metadata": {
    "colab": {
     "base_uri": "https://localhost:8080/",
     "height": 266
    },
    "id": "6DU2AkQS6rQD",
    "outputId": "c6cfef89-b267-418f-98b7-fc7fe979ec0c"
   },
   "outputs": [],
   "source": [
    "# come faccio a fare un merge e considerare solo una Citta'?\n",
    "# funzione: COALESCE(...) sceglie il primo valore non nullo\n",
    "q = '''\n",
    "SELECT S.Matr, S.Citta, D.Citta,D.CD\n",
    "FROM S LEFT JOIN D ON (S.Citta=D.Citta);\n",
    "'''\n",
    "con.execute(q) \n",
    "con.fetchdf()"
   ]
  },
  {
   "cell_type": "code",
   "execution_count": null,
   "metadata": {
    "colab": {
     "base_uri": "https://localhost:8080/",
     "height": 266
    },
    "id": "UzvQ9QdX6v9I",
    "outputId": "b4e946e2-10f2-4c14-e3e7-eb8336d1ab90"
   },
   "outputs": [],
   "source": [
    "q = '''\n",
    "SELECT S.Matr, COALESCE(S.Citta, D.Citta) AS Citta, D.CD AS CodiceDocente\n",
    "FROM S LEFT JOIN D ON (S.Citta=D.Citta);\n",
    "'''\n",
    "con.execute(q) \n",
    "con.fetchdf()"
   ]
  },
  {
   "cell_type": "markdown",
   "metadata": {
    "id": "WN5bQ5Gp6zP_"
   },
   "source": [
    "### Self-Join"
   ]
  },
  {
   "cell_type": "code",
   "execution_count": null,
   "metadata": {
    "colab": {
     "base_uri": "https://localhost:8080/",
     "height": 421
    },
    "id": "xEFXt4qr6xtQ",
    "outputId": "33469f19-3d9d-4d06-b57a-a032459e119d"
   },
   "outputs": [],
   "source": [
    "# Quando il join avviene tra la tabella e se stessa\n",
    "# \n",
    "# Ad esempio: \n",
    "# Selezionare le coppie di studenti della stessa citta'\n",
    "\n",
    "q = '''\n",
    "SELECT S1.SNome,S2.SNome,S1.Citta\n",
    "FROM S S1, S S2\n",
    "WHERE S1.Citta=S2.Citta;\n",
    "'''\n",
    "\n",
    "con.execute(q) \n",
    "con.fetchdf()"
   ]
  },
  {
   "cell_type": "code",
   "execution_count": null,
   "metadata": {
    "colab": {
     "base_uri": "https://localhost:8080/",
     "height": 142
    },
    "id": "gUo55NWj63Zi",
    "outputId": "5e08796f-fde8-4dd4-8b28-68144882e338"
   },
   "outputs": [],
   "source": [
    "# Cosi' pero' selezionaimo anche uno studente e se stesso\n",
    "# Quindi modifichiamo aggiungendo:\n",
    "\n",
    "q = '''\n",
    "SELECT S1.SNome,S2.SNome,S1.Citta\n",
    "FROM S S1, S S2\n",
    "WHERE S1.Citta=S2.Citta\n",
    "AND S1.Matr < S2.Matr;\n",
    "'''\n",
    "\n",
    "con.execute(q) \n",
    "con.fetchdf()\n",
    "\n",
    "#\n",
    "# DOMANDA:\n",
    "# perche' <> non andrebbe bene?\n",
    "#"
   ]
  },
  {
   "cell_type": "code",
   "execution_count": null,
   "metadata": {
    "colab": {
     "base_uri": "https://localhost:8080/",
     "height": 204
    },
    "id": "-UvdoGF_68kJ",
    "outputId": "00ce32b4-9e8d-4a76-94f9-209630c267e5"
   },
   "outputs": [],
   "source": [
    "# Matricole degli studenti che hanno sostenuto almeno \n",
    "# uno degli esami sostenuti dallo studente di nome 'Giuseppe Verdi'\n",
    "\n",
    "q = '''\n",
    "SELECT E1.Matr\n",
    "FROM S, E E1, E E2\n",
    "WHERE E2.Matr = S.Matr\n",
    "AND E1.CC = E2.CC\n",
    "AND S.SNome='Giuseppe Verdi';\n",
    "'''\n",
    "\n",
    "con.execute(q) \n",
    "con.fetchdf()"
   ]
  },
  {
   "cell_type": "code",
   "execution_count": null,
   "metadata": {
    "colab": {
     "base_uri": "https://localhost:8080/",
     "height": 204
    },
    "id": "1lXddVE97Cg1",
    "outputId": "c84d2836-363a-487d-c489-7d21a8d9a014"
   },
   "outputs": [],
   "source": [
    "q = '''\n",
    "SELECT E1.Matr\n",
    "FROM E E1\n",
    "WHERE E1.CC IN (SELECT E2.CC\n",
    "\t\t\t\tFROM E E2, S\n",
    "\t\t\t\tWHERE S.SNome='Giuseppe Verdi'\n",
    "\t\t\t\tAND S.Matr = E2.Matr);\n",
    "'''\n",
    "\n",
    "con.execute(q) \n",
    "con.fetchdf()"
   ]
  },
  {
   "cell_type": "markdown",
   "metadata": {
    "id": "dUvcAvdQ7cnL"
   },
   "source": [
    "## Nested Quereis"
   ]
  },
  {
   "cell_type": "code",
   "execution_count": null,
   "metadata": {
    "id": "Es8AUTa-7L6-"
   },
   "outputs": [],
   "source": [
    "# Interrogazioni innestate\n",
    "\n",
    "# Una interrogazione viene detta innestata o nidificata se la sua condizione\n",
    "# e' formulata usando il risultato di un’altra interrogazione, \n",
    "# chiamata subquery\n",
    "\n",
    "q = '''\n",
    "SELECT *\n",
    "FROM S\n",
    "WHERE S.Matr IN (SELECT Matr\n",
    "\t\t\t\t FROM E);\n",
    "'''\n",
    "\n",
    "con.execute(q) \n",
    "con.fetchdf()"
   ]
  },
  {
   "cell_type": "markdown",
   "metadata": {
    "id": "dXbdtyas7lNN"
   },
   "source": [
    "## ANY/IN/EXISTS\n",
    "- Operatori quantificati: `<attr><op-rel>[ANY|ALL]<subquery`\n",
    "- Operatore di set: `<attr> [NOT] IN <subquery>`\n",
    "- Quantificatore esistenziale : `[NOT] EXISTS <subquery>`"
   ]
  },
  {
   "cell_type": "code",
   "execution_count": null,
   "metadata": {
    "colab": {
     "base_uri": "https://localhost:8080/",
     "height": 142
    },
    "id": "s9I5daGB77Si",
    "outputId": "3a393e50-5438-41d6-d8ba-0b5670934d40"
   },
   "outputs": [],
   "source": [
    "#  TIPO [ANY/ALL]\n",
    "# Per esprimere una condizione che e' vera quando \n",
    "# qualsiasi (ANY) opppure tutti (ALL) gli elementi\n",
    "# restituiti dalla subquery fanno verificare la condizione\n",
    "# i.e., condizione risulta TRUE\n",
    " \n",
    "# ANY\n",
    "# Nome degli studenti che hanno sostenuto l’esame del corso C1\n",
    "\n",
    "q = '''\n",
    "SELECT SNome\n",
    "FROM S\n",
    "WHERE Matr = ANY ( SELECT Matr\n",
    "                        FROM   E\n",
    "                        WHERE  CC='C1');\n",
    "'''\n",
    "con.execute(q) \n",
    "con.fetchdf()\n"
   ]
  },
  {
   "cell_type": "code",
   "execution_count": null,
   "metadata": {
    "colab": {
     "base_uri": "https://localhost:8080/",
     "height": 142
    },
    "id": "jr4N_SCl-e75",
    "outputId": "b97782cd-b7e6-4062-908a-3b131ae6fd63"
   },
   "outputs": [],
   "source": [
    "q = '''\n",
    "SELECT SNome\n",
    "FROM S natural JOIN E\n",
    "WHERE E.CC = 'C1';\n",
    "'''\n",
    "con.execute(q) \n",
    "con.fetchdf()"
   ]
  },
  {
   "cell_type": "code",
   "execution_count": null,
   "metadata": {
    "colab": {
     "base_uri": "https://localhost:8080/",
     "height": 204
    },
    "id": "uZmn4IqA-ggu",
    "outputId": "51c6bc76-ab2f-43da-b4a5-6499865702d5"
   },
   "outputs": [],
   "source": [
    "# ALL\n",
    "# Studenti con anno di corso piu` basso\n",
    "q = '''\n",
    "SELECT *\n",
    "FROM S\n",
    "WHERE ACorso <= ALL ( SELECT ACorso\n",
    "\t\t\t\t\t  FROM S);\n",
    "'''\n",
    "con.execute(q) \n",
    "con.fetchdf()"
   ]
  },
  {
   "cell_type": "code",
   "execution_count": null,
   "metadata": {
    "colab": {
     "base_uri": "https://localhost:8080/",
     "height": 142
    },
    "id": "ykiV5vfS-h2K",
    "outputId": "6a5c7dbf-8aa7-443c-a4dc-ddebc6b4cb28"
   },
   "outputs": [],
   "source": [
    "# Spesso possono esserci diversi modi di esprimere la stesa query\n",
    "# es: Nome degli studenti che hanno sostenuto l’esame del corso C1\n",
    "# senza subquery:\n",
    "q = '''\n",
    "SELECT S.SNome\n",
    "FROM E join S on E.Matr=S.Matr\n",
    "WHERE E.CC = 'C1';\n",
    "'''\n",
    "con.execute(q) \n",
    "con.fetchdf()\n",
    "\n",
    "# # oppure:\n",
    "# q = '''\n",
    "# SELECT S.SNome\n",
    "# FROM S\n",
    "# WHERE S.Matr in (SELECT E.Matr \n",
    "# \t\t\t\t FROM E WHERE E.CC='C1');\n",
    "# '''\n",
    "# con.execute(q) \n",
    "# con.fetchdf()"
   ]
  },
  {
   "cell_type": "code",
   "execution_count": null,
   "metadata": {
    "colab": {
     "base_uri": "https://localhost:8080/",
     "height": 266
    },
    "id": "7LFDevuK-mMN",
    "outputId": "ad4c3a54-20e5-43e8-8580-0bf9799024c7"
   },
   "outputs": [],
   "source": [
    "# ALTRO ESEMPIO:\n",
    "# Nome degli studenti che hanno sostenuto l’esame di un corso del docente D1\n",
    "#/\n",
    "q = '''\n",
    "SELECT SNome\n",
    "FROM E,S,C\n",
    "WHERE E.Matr=S.Matr \n",
    "AND E.CC=C.CC\n",
    "AND CD='D1';\n",
    "'''\n",
    "con.execute(q) \n",
    "con.fetchdf()"
   ]
  },
  {
   "cell_type": "code",
   "execution_count": null,
   "metadata": {
    "colab": {
     "base_uri": "https://localhost:8080/",
     "height": 204
    },
    "id": "D29G0bgk-1FU",
    "outputId": "cb4a0536-589e-44ae-ba7f-e1e90fc36394"
   },
   "outputs": [],
   "source": [
    "# che puo' essere espressa anche come:\n",
    "q = '''\n",
    "SELECT SNome\n",
    "FROM S\n",
    "WHERE S.Matr IN (SELECT E.Matr \n",
    "\t\t\t\t FROM E \n",
    "\t\t\t\t WHERE E.CC IN (SELECT C.CC \n",
    "\t\t\t\t \t\t\t\tFROM C \n",
    "\t\t\t\t \t\t\t\tWHERE C.CD='D1'));\n",
    "'''\n",
    "con.execute(q) \n",
    "con.fetchdf()"
   ]
  },
  {
   "cell_type": "code",
   "execution_count": null,
   "metadata": {
    "colab": {
     "base_uri": "https://localhost:8080/",
     "height": 204
    },
    "id": "t3APt4T--2x2",
    "outputId": "227e1cea-4995-4bba-e406-7af8a34783cc"
   },
   "outputs": [],
   "source": [
    "# Provare la precedente query partendo dalla subquery piu' interna\n",
    "\n",
    "# Fino ad ora abbiamo considerato delle subquery dove\n",
    "# la query innestata era indipendente dalla query esterna\n",
    "\n",
    "# Se vogliamo pero' selezionare:\n",
    "# Per ogni citta', il nome degli studenti con anno di corso piu` alto\n",
    "q = '''\n",
    "SELECT S1.Citta, S1.SNome, S1.ACorso\n",
    "FROM S S1\n",
    "WHERE S1.ACorso >= ALL (SELECT S2.ACorso\n",
    "\t\t\t\t\t  \tFROM S S2\n",
    "\t\t\t\t\t  \tWHERE S1.Citta=S2.Citta);\n",
    "'''\n",
    "con.execute(q) \n",
    "con.fetchdf()\n",
    "# S1 e' la tupla corrente"
   ]
  },
  {
   "cell_type": "markdown",
   "metadata": {
    "id": "mZluUGhQ_D6k"
   },
   "source": [
    "### EXISTS"
   ]
  },
  {
   "cell_type": "code",
   "execution_count": null,
   "metadata": {
    "colab": {
     "base_uri": "https://localhost:8080/",
     "height": 142
    },
    "id": "rSk6FCU_-7r5",
    "outputId": "bb0ab7ce-efd7-41a2-afaf-1718cf66d8aa"
   },
   "outputs": [],
   "source": [
    "# QUALIFICATORE ESISTENZIALE:\n",
    "\n",
    "# EXISTS\n",
    "\n",
    "# Mettendo in relazione subquery e query estenza con una clausola\n",
    "# che è vera solo se per la tupla corrente il risultato della subquery\n",
    "# restituisce qualcosa (i.e., non è nullo).\n",
    "# Da qui: \"EXISTS\", cioè ESISTE qualcosa che rende TRUE quel predicato.\n",
    "\n",
    "# Ad esempio:\n",
    "# Nome degli studenti che hanno sostenuto l’esame del corso C1:\n",
    "\n",
    "q = '''\n",
    "SELECT SNome\n",
    "FROM S\n",
    "WHERE EXISTS (SELECT *\n",
    "\t\t\t  FROM E\n",
    "\t\t\t  WHERE E.Matr=S.Matr\n",
    "\t\t\t  AND E.CC = 'C1');\n",
    "'''\n",
    "con.execute(q) \n",
    "con.fetchdf()\t\t\t  "
   ]
  },
  {
   "cell_type": "code",
   "execution_count": null,
   "metadata": {
    "colab": {
     "base_uri": "https://localhost:8080/",
     "height": 173
    },
    "id": "m2sQnUFW_LFB",
    "outputId": "18a893b5-40f5-44f5-ca32-7279bf83626c"
   },
   "outputs": [],
   "source": [
    "# Allo stesso modo, il negato della clausola EXISTS:\n",
    "\n",
    "# NOT EXISTS (<subquery>)\n",
    "\n",
    "# ha valore true se e solo se l’insieme di valori restituiti da <subquery> e' vuoto.\n",
    "\n",
    "# Ad esempio:\n",
    "# Nome degli studenti che non hanno sostenuto l’esame del corso C1\n",
    "q = '''\n",
    "SELECT SNome\n",
    "FROM S\n",
    "WHERE NOT EXISTS ( SELECT *\n",
    "\t\t\t\t   FROM E\n",
    "\t\t\t\t   WHERE E.Matr=S.Matr \n",
    "\t\t\t\t   AND E.CC='C1' )\n",
    "'''\n",
    "con.execute(q) \n",
    "con.fetchdf()\n",
    "\n",
    "# Tip:\n",
    "# Se state usando EXISTS senza una subquery crrelata,\n",
    "# molto probabilmente state commettendo un errore:\n",
    "\n",
    "# Perche'?\n",
    "# (hint: cosa restituisce la subquery?) "
   ]
  },
  {
   "cell_type": "markdown",
   "metadata": {
    "id": "-rL2OkYU_QHr"
   },
   "source": [
    "### Riduzione di query innestate"
   ]
  },
  {
   "cell_type": "code",
   "execution_count": null,
   "metadata": {
    "colab": {
     "base_uri": "https://localhost:8080/",
     "height": 142
    },
    "id": "4zcvKnNx_VW0",
    "outputId": "bc41039f-8a38-4ad2-cf56-d0e4a233e0e8"
   },
   "outputs": [],
   "source": [
    "# Le query innestate formulate con i seguenti operatori \n",
    "# si possono ridurre a query di join equivalenti \n",
    "# (stessa risposta per ogni possibile istanza della base di dati):\n",
    "# • IN\n",
    "# • ANY (con qualsiasi operatore di confronto) \n",
    "# • EXISTS con subquery correlata\n",
    "# \n",
    "\n",
    "\t\t\t\t   \n",
    "# Nome degli studenti che hanno sostenuto l’esame del corso C1\n",
    "\n",
    "# 1. \n",
    "q = '''\n",
    "SELECT SNome \n",
    "FROM S\n",
    "WHERE Matr IN ( SELECT Matr\n",
    "\t\t\t\tFROM E\n",
    "\t\t\t\tWHERE CC='C1')\n",
    "'''\n",
    "con.execute(q) \n",
    "con.fetchdf()\n",
    "\n",
    "# 2. \n",
    "q = '''\n",
    "SELECT SNome \n",
    "FROM S\n",
    "WHERE Matr =ANY ( SELECT Matr\n",
    "\t\t\t\t  FROM E\n",
    "\t\t\t\t  WHERE CC='C1')\n",
    "'''\n",
    "con.execute(q) \n",
    "con.fetchdf()\n",
    "\n",
    "# 3.\n",
    "q = '''\n",
    "SELECT SNome \n",
    "FROM S\n",
    "WHERE EXISTS ( SELECT *\n",
    "\t\t\t   FROM E\n",
    "\t\t\t   WHERE E.Matr=S.Matr\n",
    "\t\t\t   AND CC='C1')\n",
    "'''\n",
    "con.execute(q) \n",
    "con.fetchdf()\n",
    "\n",
    "\t\t\t   \n",
    "# QUERY EQUIVALENTE CON JOIN\n",
    "q = '''\n",
    "SELECT SNome\n",
    "FROM E,S\n",
    "WHERE E.Matr=S.Matr \n",
    "AND E.CC='C1'\n",
    "'''\n",
    "con.execute(q) \n",
    "con.fetchdf()"
   ]
  },
  {
   "cell_type": "code",
   "execution_count": null,
   "metadata": {
    "colab": {
     "base_uri": "https://localhost:8080/",
     "height": 173
    },
    "id": "UFikPwZx_bD8",
    "outputId": "5d08525e-f3bf-4a89-ede2-ce5274f5721d"
   },
   "outputs": [],
   "source": [
    "# INVECE:\n",
    " \n",
    "# Le query innestate formulate con i seguenti operatori \n",
    "# non si possono ridurre:\n",
    "\n",
    "# • NOT IN\n",
    "# • ALL (con qualsiasi operatore di confronto) \n",
    "# • NOT EXISTS con subquery correlata\n",
    "\n",
    "# Ad esempio:\n",
    "# Nome degli studenti che non hanno sostenuto l’esame del corso C1\n",
    "\n",
    "# 1. \n",
    "q = '''\n",
    "SELECT SNome \n",
    "FROM S\n",
    "WHERE Matr NOT IN ( SELECT Matr\n",
    "\t \t\t\t\tFROM E\n",
    "\t\t\t\t\tWHERE CC='C1')\n",
    "'''\n",
    "con.execute(q) \n",
    "con.fetchdf()\n",
    "\n",
    "# 2.\n",
    "q = '''\n",
    "SELECT SNome \n",
    "FROM S\n",
    "WHERE Matr <>ALL ( SELECT Matr\n",
    "\t\t\t\t  FROM E\n",
    "\t\t\t\t  WHERE CC='C1')\n",
    "'''\n",
    "con.execute(q) \n",
    "con.fetchdf()\n",
    "\n",
    "# 3.\n",
    "q = '''\n",
    "SELECT SNome \n",
    "FROM S\n",
    "WHERE NOT EXISTS ( SELECT *\n",
    "\t\t\t   FROM E\n",
    "\t\t\t   WHERE E.Matr=S.Matr\n",
    "\t\t\t   AND CC='C1')\n",
    "'''\n",
    "con.execute(q) \n",
    "con.fetchdf()\n",
    "\n",
    "# NON SI POSSONO ESPRIMRE CON JOIN"
   ]
  },
  {
   "cell_type": "code",
   "execution_count": null,
   "metadata": {
    "colab": {
     "base_uri": "https://localhost:8080/",
     "height": 328
    },
    "id": "WWbboGe7_fCw",
    "outputId": "393632ec-a134-439d-f28d-178927a221b5"
   },
   "outputs": [],
   "source": [
    "# NOTARE: la differenza con la seguente query\n",
    "# ERRATA (per la consegna):\n",
    "q = '''\n",
    "SELECT SNome\n",
    "FROM E,S\n",
    "WHERE E.Matr=S.Matr \n",
    "AND E.CC <> 'C1'\n",
    "'''\n",
    "con.execute(q) \n",
    "con.fetchdf()\n",
    "# cosa restituisce?"
   ]
  },
  {
   "cell_type": "markdown",
   "metadata": {
    "id": "O0QgmeIA_lXw"
   },
   "source": [
    "## Funzioni di Aggregazione"
   ]
  },
  {
   "cell_type": "code",
   "execution_count": null,
   "metadata": {
    "colab": {
     "base_uri": "https://localhost:8080/",
     "height": 80
    },
    "id": "gYWDSfd__hE4",
    "outputId": "17227941-4071-4beb-8624-e4bdc73ffdae"
   },
   "outputs": [],
   "source": [
    "# \t\tFunzioni aggregate \n",
    "# \t\t(column functions)\n",
    "\n",
    "# Dato un insieme di tuple che soddisfano un predicato\n",
    "# (e.g., il risultato di una query qualsiasi di quelle\n",
    "# viste finora)\n",
    "# le funzione di aggregazione restituiscono un risultato\n",
    "# \"aggregato\" calcolato su queell'insieme.\n",
    "\n",
    "# Possono essere cosi' facilmente ritrovati:\n",
    "# La media dei voti di uno studete;\n",
    "# Il voto massimo in un dato esame;\n",
    "# Il numero di studenti che proviene da una data citta;\n",
    "# ... \n",
    "\n",
    "q = '''\n",
    "SELECT COUNT(*)\n",
    "FROM S\n",
    "'''\n",
    "con.execute(q) \n",
    "con.fetchdf()"
   ]
  },
  {
   "cell_type": "code",
   "execution_count": null,
   "metadata": {
    "colab": {
     "base_uri": "https://localhost:8080/",
     "height": 80
    },
    "id": "Nub_Xtfx_qxd",
    "outputId": "b85dc7af-d027-423f-c51e-0ad47d33a1e2"
   },
   "outputs": [],
   "source": [
    "q = '''\n",
    "SELECT AVG(E.VOTO)\n",
    "FROM E\n",
    "'''\n",
    "con.execute(q) \n",
    "con.fetchdf()"
   ]
  },
  {
   "cell_type": "code",
   "execution_count": null,
   "metadata": {
    "colab": {
     "base_uri": "https://localhost:8080/",
     "height": 80
    },
    "id": "GvJjQvzk_stY",
    "outputId": "ac667ebd-1a2a-4252-e4b6-d5c369c03397"
   },
   "outputs": [],
   "source": [
    "q = '''\n",
    "SELECT MAX(E.VOTO)\n",
    "FROM E\n",
    "'''\n",
    "con.execute(q) \n",
    "con.fetchdf()\n"
   ]
  },
  {
   "cell_type": "code",
   "execution_count": null,
   "metadata": {
    "colab": {
     "base_uri": "https://localhost:8080/",
     "height": 80
    },
    "id": "UdqxdXAd_t4N",
    "outputId": "1f1aea31-54dd-46e0-cdae-7fd1ff3d03a0"
   },
   "outputs": [],
   "source": [
    "q = '''\n",
    "SELECT MIN(E.VOTO)\n",
    "FROM E\n",
    "'''\n",
    "con.execute(q) \n",
    "con.fetchdf()"
   ]
  },
  {
   "cell_type": "code",
   "execution_count": null,
   "metadata": {
    "colab": {
     "base_uri": "https://localhost:8080/",
     "height": 80
    },
    "id": "LHevdFoF_vVj",
    "outputId": "032c3f98-4eee-48fe-ac21-d98f989bd31b"
   },
   "outputs": [],
   "source": [
    "q = '''\n",
    "SELECT SUM(E.VOTO)/COUNT(E.VOTO)\n",
    "FROM E\n",
    "'''\n",
    "con.execute(q) \n",
    "con.fetchdf()"
   ]
  },
  {
   "cell_type": "code",
   "execution_count": null,
   "metadata": {
    "colab": {
     "base_uri": "https://localhost:8080/",
     "height": 142
    },
    "id": "M_g02TxD_wq5",
    "outputId": "2715ff01-7982-486c-f3bb-9a8592e7ba53"
   },
   "outputs": [],
   "source": [
    "q = '''\n",
    "SELECT DISTINCT(E.CC)\n",
    "FROM E\n",
    "'''\n",
    "con.execute(q) \n",
    "con.fetchdf()"
   ]
  },
  {
   "cell_type": "code",
   "execution_count": null,
   "metadata": {
    "colab": {
     "base_uri": "https://localhost:8080/",
     "height": 421
    },
    "id": "peyvq12-_x88",
    "outputId": "b9068946-45ae-40ca-d5d8-48fd66a7ab22"
   },
   "outputs": [],
   "source": [
    "q = '''\n",
    "SELECT E.CC\n",
    "FROM E\n",
    "'''\n",
    "con.execute(q) \n",
    "con.fetchdf()"
   ]
  },
  {
   "cell_type": "code",
   "execution_count": null,
   "metadata": {
    "colab": {
     "base_uri": "https://localhost:8080/",
     "height": 80
    },
    "id": "iwP5h5H7_zO4",
    "outputId": "352a9df3-3b81-4a97-cdcc-df241373810f"
   },
   "outputs": [],
   "source": [
    "q = '''\n",
    "SELECT COUNT(DISTINCT(E.CC))\n",
    "FROM E\n",
    "'''\n",
    "# Alcuni DBMS non permettono questa sintassi\n",
    "con.execute(q) \n",
    "con.fetchdf()"
   ]
  },
  {
   "cell_type": "code",
   "execution_count": null,
   "metadata": {
    "colab": {
     "base_uri": "https://localhost:8080/",
     "height": 80
    },
    "id": "P_3FGSWz_0fl",
    "outputId": "91c693b8-cec5-4dbd-8b78-2f9d750de404"
   },
   "outputs": [],
   "source": [
    "# Es. “Numero di studenti presenti” \n",
    "q = '''\n",
    "SELECT COUNT(Matr)\n",
    "FROM S\n",
    "'''\n",
    "con.execute(q) \n",
    "con.fetchdf()"
   ]
  },
  {
   "cell_type": "code",
   "execution_count": null,
   "metadata": {
    "colab": {
     "base_uri": "https://localhost:8080/",
     "height": 80
    },
    "id": "EjwUAqa3_7BS",
    "outputId": "d9bbadba-9491-44c8-c87b-3294e569b7f6"
   },
   "outputs": [],
   "source": [
    "# Es. “Numero di studenti che hanno sostenuto almeno un esame” \n",
    "q = '''\n",
    "SELECT COUNT(DISTINCT Matr)\n",
    "FROM E\n",
    "'''\n",
    "con.execute(q) \n",
    "con.fetchdf()"
   ]
  },
  {
   "cell_type": "code",
   "execution_count": null,
   "metadata": {
    "colab": {
     "base_uri": "https://localhost:8080/",
     "height": 80
    },
    "id": "39vmUtPp_8Te",
    "outputId": "5be42278-27e7-4a53-b052-6e0f22a5a4f5"
   },
   "outputs": [],
   "source": [
    "# Es. “Numero di studenti con anno di corso non nullo” \n",
    "q = '''\n",
    "SELECT COUNT(ACorso)\n",
    "FROM S\n",
    "'''\n",
    "con.execute(q) \n",
    "con.fetchdf()"
   ]
  },
  {
   "cell_type": "code",
   "execution_count": null,
   "metadata": {
    "colab": {
     "base_uri": "https://localhost:8080/",
     "height": 80
    },
    "id": "ev5cI04k_9sR",
    "outputId": "aa2f3054-1be5-466d-bd89-266dc2cedfef"
   },
   "outputs": [],
   "source": [
    "# Es. “Numero di anni di corso di studenti presenti” \n",
    "q = '''\n",
    "SELECT COUNT(DISTINCT ACorso)\n",
    "FROM S\n",
    "'''\n",
    "con.execute(q) \n",
    "con.fetchdf()"
   ]
  },
  {
   "cell_type": "code",
   "execution_count": null,
   "metadata": {
    "colab": {
     "base_uri": "https://localhost:8080/",
     "height": 334
    },
    "id": "zznHfXYK_-57",
    "outputId": "8e545b2f-cedb-4338-83e4-b83945ca4888"
   },
   "outputs": [],
   "source": [
    "# Es. “Numero di coppie distinte matricola-voto” \n",
    "q = '''\n",
    "SELECT COUNT(DISTINCT Matr, Voto)\n",
    "FROM E\n",
    "'''\n",
    "# Alcuni DBML non permettono questa sintassi\n",
    "con.execute(q) \n",
    "con.fetchdf()"
   ]
  },
  {
   "cell_type": "code",
   "execution_count": null,
   "metadata": {
    "colab": {
     "base_uri": "https://localhost:8080/",
     "height": 80
    },
    "id": "udMQmv8cAAyO",
    "outputId": "58844294-8412-453e-87cd-96cd1e333f8f"
   },
   "outputs": [],
   "source": [
    "# Es. “Voto medio degli esami sostenuti dalla matricola M1”\n",
    "q = '''\n",
    "SELECT AVG(Voto)\n",
    "FROM E \n",
    "WHERE Matr='M1'\n",
    "'''\n",
    "con.execute(q) \n",
    "con.fetchdf()\n",
    "\n",
    "\n",
    "# che e' equivalente a\n",
    "q = '''\n",
    "SELECT SUM(Voto)/COUNT(Voto) \n",
    "FROM E \n",
    "WHERE Matr='M1'\n",
    "'''\n",
    "con.execute(q) \n",
    "con.fetchdf()"
   ]
  },
  {
   "cell_type": "code",
   "execution_count": null,
   "metadata": {
    "colab": {
     "base_uri": "https://localhost:8080/",
     "height": 204
    },
    "id": "ZXpUET19APRx",
    "outputId": "a2d4598b-49c2-48fb-cd83-4f22a5a895bb"
   },
   "outputs": [],
   "source": [
    "# Es. “Studenti il cui anno di corso `e minore di quello massimo presente”\n",
    "q = '''\n",
    "SELECT *\n",
    "FROM S\n",
    "WHERE ACorso < ( SELECT MAX(ACorso)\n",
    "\t\t\t\t FROM S)\n",
    "'''\n",
    "con.execute(q) \n",
    "con.fetchdf()"
   ]
  },
  {
   "cell_type": "code",
   "execution_count": null,
   "metadata": {
    "colab": {
     "base_uri": "https://localhost:8080/",
     "height": 232
    },
    "id": "2pWgN1LOATEs",
    "outputId": "9ef967ff-7280-4240-dac0-0ea324241fe1"
   },
   "outputs": [],
   "source": [
    "# Considerate la sequente query, con funzione di aggregazione:\n",
    "\n",
    "q = '''\n",
    "SELECT Matr,MAX(Voto)\n",
    "FROM E\n",
    "'''\n",
    "con.execute(q) \n",
    "con.fetchdf()\n",
    "# PERCHE' E' SBAGLIATA?\n",
    "\n"
   ]
  },
  {
   "cell_type": "code",
   "execution_count": null,
   "metadata": {
    "id": "RG-WxoAMATlQ"
   },
   "outputs": [],
   "source": []
  },
  {
   "cell_type": "code",
   "execution_count": null,
   "metadata": {
    "id": "isX5SQh7AdSX"
   },
   "outputs": [],
   "source": []
  }
 ],
 "metadata": {
  "colab": {
   "collapsed_sections": [],
   "include_colab_link": true,
   "name": "01_SQL.ipynb",
   "provenance": [],
   "toc_visible": true
  },
  "kernelspec": {
   "display_name": "Python 3 (ipykernel)",
   "language": "python",
   "name": "python3"
  },
  "language_info": {
   "codemirror_mode": {
    "name": "ipython",
    "version": 3
   },
   "file_extension": ".py",
   "mimetype": "text/x-python",
   "name": "python",
   "nbconvert_exporter": "python",
   "pygments_lexer": "ipython3",
   "version": "3.9.12"
  }
 },
 "nbformat": 4,
 "nbformat_minor": 1
}
