{
 "cells": [
  {
   "cell_type": "markdown",
   "metadata": {
    "colab_type": "text",
    "id": "view-in-github"
   },
   "source": [
    "<a href=\"https://colab.research.google.com/github/Stravanni/Basi_di_dati/blob/main/01_SQL_sqlite.ipynb\" target=\"_parent\"><img src=\"https://colab.research.google.com/assets/colab-badge.svg\" alt=\"Open In Colab\"/></a>"
   ]
  },
  {
   "cell_type": "markdown",
   "metadata": {
    "id": "7wywHOYZSixy"
   },
   "source": [
    "# Introduzione a SQL\n",
    "@author: giovanni.simonini@unimore.it\n",
    "\n",
    "## To run: \n",
    "- to run a cell: SHIFT + ENTER\n",
    "  \n",
    "## Schema Università\n",
    "\n",
    "S (<u>Matr</u>,SNome,Citta,ACorso)\n",
    "\n",
    "D(<u>CD</u>,CNome,Citta)\n",
    "\n",
    "C(<u>CC</u>,CNome,CD)\n",
    "- FOREIGN KEY (CD) REFERENCES D(CD)\n",
    "\n",
    "E(<u>Matr,CC</u>,DATA,VOTO)\n",
    "- FOREIGN KEY (Matr) REFERENCES S(Matr)\n",
    "- FOREIGN KEY (CC) REFERENCES C(CC)\n",
    " "
   ]
  },
  {
   "cell_type": "code",
   "execution_count": null,
   "metadata": {
    "id": "8nW04m8ZIJZJ"
   },
   "outputs": [],
   "source": [
    "!pip install SQLAlchemy==1.4.49\n",
    "import pandas as pd\n",
    "from sqlalchemy import create_engine"
   ]
  },
  {
   "cell_type": "code",
   "execution_count": null,
   "metadata": {
    "id": "7tWMfJ-KpIIg"
   },
   "outputs": [],
   "source": [
    "engine = create_engine('sqlite://', echo=False)"
   ]
  },
  {
   "cell_type": "markdown",
   "metadata": {
    "id": "Gw8MjowWwv3G"
   },
   "source": [
    "## Create the the tables"
   ]
  },
  {
   "cell_type": "code",
   "execution_count": null,
   "metadata": {
    "colab": {
     "base_uri": "https://localhost:8080/"
    },
    "id": "S-mRiFhSj8HJ",
    "outputId": "ee95ae17-151a-4ff1-d364-3c989e18d867"
   },
   "outputs": [],
   "source": [
    "q = '''\n",
    "CREATE TABLE S (\n",
    "    Matr VARCHAR(45),\n",
    "    SNome VARCHAR(45),\n",
    "    Citta VARCHAR(45),\n",
    "    ACorso INT,\n",
    "    PRIMARY KEY (Matr)\n",
    ");\n",
    "'''\n",
    "engine.execute(q)\n",
    "\n",
    "q = '''\n",
    "CREATE TABLE D(\n",
    " CD VARCHAR(45),\n",
    " CNome VARCHAR(45),\n",
    " Citta VARCHAR(45),\n",
    " PRIMARY KEY (CD)\n",
    ");\n",
    "'''\n",
    "engine.execute(q)\n",
    "\n",
    "q = '''\n",
    "CREATE TABLE C(\n",
    " CC VARCHAR(45),\n",
    " CNome VARCHAR(45),\n",
    " CD VARCHAR(45),\n",
    " PRIMARY KEY (CC),\n",
    " FOREIGN KEY (CD) REFERENCES D(CD)\n",
    ");\n",
    "'''\n",
    "engine.execute(q)\n",
    "\n",
    "q = '''\n",
    "CREATE TABLE E(\n",
    " Matr VARCHAR(45),\n",
    " CC VARCHAR(45),\n",
    " DATA DATE,\n",
    " VOTO INT,\n",
    " PRIMARY KEY (Matr, CC),\n",
    " FOREIGN KEY (Matr) REFERENCES S(Matr),\n",
    " FOREIGN KEY (CC) REFERENCES C(CC)\n",
    ");\n",
    "'''\n",
    "engine.execute(q)\n",
    "\n",
    "\n",
    "q = '''\n",
    "INSERT INTO S (Matr, SNome, Citta, ACorso)\n",
    "VALUES\n",
    "('M1','Lucia Quaranta','SA',1),\n",
    "('M2','Giacomo Tedesco','PA',2),\n",
    "('M3','Carla Longo','MO',1),\n",
    "('M4','Ugo Rossi','MO',1),\n",
    "('M5','Valeria Neri','MO',2),\n",
    "('M6','Giuseppe Verdi','BO',1),\n",
    "('M7','Maria Rossi',null,1);\n",
    "'''\n",
    "engine.execute(q)\n",
    "\n",
    "\n",
    "q = '''\n",
    "INSERT INTO D (CD, CNome, Citta)\n",
    "VALUES\n",
    "('D1','Paolo Rossi','MO'),\n",
    "('D2','Maria Pastore','BO'),\n",
    "('D3','Paola Caboni','FI');\n",
    "'''\n",
    "engine.execute(q)\n",
    "\n",
    "\n",
    "q = '''\n",
    "INSERT INTO C (CC,CNome, CD)\n",
    "VALUES\n",
    "('C1','Fisica 1','D1'),\n",
    "('C2','Analisi Matematica 1','D2'),\n",
    "('C3','Fisica 2','D1'),\n",
    "('C4','Analisi Matematica 2','D3');\n",
    "'''\n",
    "engine.execute(q)\n",
    "\n",
    "\n",
    "q = '''\n",
    "INSERT INTO E (Matr,CC,Data,Voto)\n",
    "VALUES\n",
    "('M1','C1','1995-06-29',24),\n",
    "('M1','C2','1996-08-09',33),\n",
    "('M1','C3','1996-03-12',30),\n",
    "('M2','C1','1995-06-29',28),\n",
    "('M2','C2','1996-07-07',24),\n",
    "('M3','C2','1996-07-07',27),\n",
    "('M3','C3','1996-11-11',25),\n",
    "('M4','C3','1996-11-11',33),\n",
    "('M6','C2','1996-01-02',28),\n",
    "('M7','C1','1995-06-29',24),\n",
    "('M7','C2','1996-04-11',26),\n",
    "('M7','C3','1996-06-23',27);\n",
    "'''\n",
    "engine.execute(q)"
   ]
  },
  {
   "cell_type": "markdown",
   "metadata": {
    "id": "S1lNitr70Vs-"
   },
   "source": [
    "## Query the DB"
   ]
  },
  {
   "cell_type": "code",
   "execution_count": null,
   "metadata": {
    "colab": {
     "base_uri": "https://localhost:8080/",
     "height": 419
    },
    "id": "2WBcfhqmtfTL",
    "outputId": "a7a6418c-013a-4c7c-9bf6-bf9d24e67789"
   },
   "outputs": [],
   "source": [
    "# TEMPLATE QUERY\n",
    "q = '''\n",
    "SELECT *\n",
    "FROM S,C,D,E\n",
    "'''\n",
    "\n",
    "res = engine.execute(q)\n",
    "df = pd.DataFrame(res.fetchall())\n",
    "df.columns = res.keys()\n",
    "df"
   ]
  },
  {
   "cell_type": "code",
   "execution_count": null,
   "metadata": {
    "colab": {
     "base_uri": "https://localhost:8080/",
     "height": 111
    },
    "id": "nD_luzZLjmqD",
    "outputId": "c1b2ab99-fe0f-44df-ba4a-310c83eeb02a"
   },
   "outputs": [],
   "source": [
    "\n",
    "# Operatori relazionali : <attr> <op-rel> <cost> \n",
    "# dove <op-rel> ∈ {=, <>, >, >=, <, <=}\n",
    "# \n",
    "# Studenti del secondo anno di corso\n",
    "q = ''' \n",
    "SELECT *\n",
    "FROM S\n",
    "WHERE ACorso=2;\n",
    "'''\n",
    "res = engine.execute(q)\n",
    "df = pd.DataFrame(res.fetchall())\n",
    "df.columns = res.keys()\n",
    "df"
   ]
  },
  {
   "cell_type": "code",
   "execution_count": null,
   "metadata": {
    "colab": {
     "base_uri": "https://localhost:8080/",
     "height": 235
    },
    "id": "KXZBjIkyowhr",
    "outputId": "932a3c94-f69d-4cc5-9046-5b80759f9d50"
   },
   "outputs": [],
   "source": [
    "# Esami con voto compreso tra 24 e 28\n",
    "q = '''\n",
    "SELECT *\n",
    "FROM E\n",
    "WHERE Voto > 24\n",
    "AND Voto <= 28;\n",
    "'''\n",
    "res = engine.execute(q)\n",
    "df = pd.DataFrame(res.fetchall())\n",
    "df.columns = res.keys()\n",
    "df"
   ]
  },
  {
   "cell_type": "code",
   "execution_count": null,
   "metadata": {
    "colab": {
     "base_uri": "https://localhost:8080/",
     "height": 142
    },
    "id": "fSJBzVtIo7EZ",
    "outputId": "19759188-4a1a-469d-f188-789db60bfef0"
   },
   "outputs": [],
   "source": [
    "# Operatore di set : <attr> IN (<cost1>, ..., <costN>)\n",
    "#\n",
    "# Esami con voto pari a 29, 30 oppure con lode (voto pari a 33)\n",
    "q = '''\n",
    "SELECT *\n",
    "FROM E\n",
    "WHERE Voto IN (29,30,33);\n",
    "'''\n",
    "res = engine.execute(q)\n",
    "df = pd.DataFrame(res.fetchall())\n",
    "df.columns = res.keys()\n",
    "df"
   ]
  },
  {
   "cell_type": "code",
   "execution_count": null,
   "metadata": {
    "colab": {
     "base_uri": "https://localhost:8080/",
     "height": 80
    },
    "id": "O-r7HAEH4nqS",
    "outputId": "a7320235-5293-41c3-9a73-8298b4e37d05"
   },
   "outputs": [],
   "source": [
    "# Operatore di confronto stringhe : <attr> LIKE <stringa> \n",
    "# dove <stringa> puo` contenere i caratteri speciali   (carattere arbitrario) e % (stringa arbitraria)\n",
    "#\n",
    "# Studenti il cui nome inizia con A e termina con O\n",
    "\n",
    "q = '''\n",
    "SELECT *\n",
    "FROM S\n",
    "WHERE SNome LIKE 'V%i'\n",
    "'''\n",
    "res = engine.execute(q)\n",
    "df = pd.DataFrame(res.fetchall())\n",
    "df.columns = res.keys()\n",
    "df"
   ]
  },
  {
   "cell_type": "code",
   "execution_count": null,
   "metadata": {
    "colab": {
     "base_uri": "https://localhost:8080/",
     "height": 142
    },
    "id": "PdUYF-3g4qoF",
    "outputId": "c2c3206a-a5e9-4e03-b692-df5644c3bc7e"
   },
   "outputs": [],
   "source": [
    "# Ordinamento del risultato: ORDER BY <attr> [ASC|DESC]\n",
    "#\n",
    "# Studenti di Modena ordinati in senso ascendente rispetto all’anno di corso\n",
    "q = '''\n",
    "SELECT Matr,ACorso \n",
    "FROM S\n",
    "WHERE Citta = 'MO' \n",
    "ORDER BY ACorso DESC\n",
    "'''\n",
    "res = engine.execute(q)\n",
    "df = pd.DataFrame(res.fetchall())\n",
    "df.columns = res.keys()\n",
    "df"
   ]
  },
  {
   "cell_type": "code",
   "execution_count": null,
   "metadata": {
    "colab": {
     "base_uri": "https://localhost:8080/",
     "height": 142
    },
    "id": "-f5aqKud4sXj",
    "outputId": "45c4ebf6-8e18-4297-e6e9-1f3292cf4b8a"
   },
   "outputs": [],
   "source": [
    "# L’ordinamento deve essere fatto rispetto a uno o piu' elementi della <lista-select>: \n",
    "# un tale elemento puo' essere indicato anche riportando la sua posizione nella <lista-select>.\n",
    "#\n",
    "# Esami del corso C1 ordinati in senso discendente rispetto al voto espresso in sessantesimi, \n",
    "# e a parita` di voto rispetto alla matricola\n",
    "\n",
    "q = '''\n",
    "SELECT Matr,CC,(60*Voto)/30 \n",
    "FROM E\n",
    "WHERE CC='C1'\n",
    "ORDER BY 3 DESC, Matr DESC\n",
    "'''\n",
    "res = engine.execute(q)\n",
    "df = pd.DataFrame(res.fetchall())\n",
    "df.columns = res.keys()\n",
    "df"
   ]
  },
  {
   "cell_type": "markdown",
   "metadata": {
    "id": "6Me-OkPq5sq1"
   },
   "source": [
    "## JOIN operators"
   ]
  },
  {
   "cell_type": "code",
   "execution_count": null,
   "metadata": {
    "colab": {
     "base_uri": "https://localhost:8080/",
     "height": 419
    },
    "id": "Rc7_YeCV4wGH",
    "outputId": "bc099574-375c-4779-9598-8c68b5db2d2a"
   },
   "outputs": [],
   "source": [
    "# Patriamo dal prodotto cartesiano: \n",
    "# Cioe' la combinazione di tutte le possibili tuple delle tabelle elencate\n",
    "# nella clausola FROM\n",
    "q = '''\n",
    "SELECT *\n",
    "FROM S,D,E,C\n",
    "'''\n",
    "res = engine.execute(q)\n",
    "df = pd.DataFrame(res.fetchall())\n",
    "df.columns = res.keys()\n",
    "df"
   ]
  },
  {
   "cell_type": "code",
   "execution_count": null,
   "metadata": {
    "colab": {
     "base_uri": "https://localhost:8080/",
     "height": 419
    },
    "id": "LRtp6UCL5z8p",
    "outputId": "a9c27c0f-0077-4dfe-e56b-67c05021cd11"
   },
   "outputs": [],
   "source": [
    "q = '''\n",
    "SELECT * \n",
    "FROM S,E\n",
    "'''\n",
    "res = engine.execute(q)\n",
    "df = pd.DataFrame(res.fetchall())\n",
    "df.columns = res.keys()\n",
    "df"
   ]
  },
  {
   "cell_type": "code",
   "execution_count": null,
   "metadata": {
    "colab": {
     "base_uri": "https://localhost:8080/",
     "height": 421
    },
    "id": "oIy7tsJf51gG",
    "outputId": "3f7987f5-8d52-4ef2-821b-757c649b43d7"
   },
   "outputs": [],
   "source": [
    "# Il Join, per definizione e' un \"filtro\" sul prodotto cartesiano\n",
    "# cioe', in algebra relazionale, una selezione sul prodotto cartesiano\n",
    "q = '''\n",
    "SELECT *\n",
    "FROM S,E\n",
    "WHERE S.Matr=E.Matr\n",
    "'''\n",
    "res = engine.execute(q)\n",
    "df = pd.DataFrame(res.fetchall())\n",
    "df.columns = res.keys()\n",
    "df\n",
    "\n",
    "# # che equivale a:\n",
    "# q = '''\n",
    "# SELECT *\n",
    "# FROM S JOIN E on S.Matr=E.Matr\n",
    "# '''\n",
    "# res = engine.execute(q)\n",
    "# df = pd.DataFrame(res.fetchall())\n",
    "# df.columns = res.keys()\n",
    "# df\n",
    "\n",
    "# # e anche a:\n",
    "# q = '''\n",
    "# SELECT *\n",
    "# FROM S natural JOIN E\n",
    "# '''\n",
    "# res = engine.execute(q)\n",
    "# df = pd.DataFrame(res.fetchall())\n",
    "# df.columns = res.keys()\n",
    "# df"
   ]
  },
  {
   "cell_type": "code",
   "execution_count": null,
   "metadata": {
    "colab": {
     "base_uri": "https://localhost:8080/",
     "height": 80
    },
    "id": "s-_g9Ihb6Awb",
    "outputId": "3bd96759-d294-413c-9bf7-d5dbc2899364"
   },
   "outputs": [],
   "source": [
    "# Pero' possono esseci studenti che non hanno sostenuto esami.\n",
    "# Ad esempio:\n",
    "\n",
    "q = '''\n",
    "SELECT *\n",
    "FROM S\n",
    "WHERE S.Matr not in (SELECT Matr FROM E)\n",
    "'''\n",
    "res = engine.execute(q)\n",
    "df = pd.DataFrame(res.fetchall())\n",
    "df.columns = res.keys()\n",
    "df"
   ]
  },
  {
   "cell_type": "code",
   "execution_count": null,
   "metadata": {
    "colab": {
     "base_uri": "https://localhost:8080/",
     "height": 452
    },
    "id": "QciuT2MP6F2J",
    "outputId": "21048107-427c-4619-ef0d-90590fdd20bf"
   },
   "outputs": [],
   "source": [
    "# Se volessimo anche questi studenti nell'output del join\n",
    "# dobbiamo usare un LEFT join\n",
    "\n",
    "q = '''\n",
    "SELECT * FROM S LEFT JOIN E on S.Matr=E.Matr;\n",
    "'''\n",
    "res = engine.execute(q)\n",
    "df = pd.DataFrame(res.fetchall())\n",
    "df.columns = res.keys()\n",
    "df"
   ]
  },
  {
   "cell_type": "code",
   "execution_count": null,
   "metadata": {
    "colab": {
     "base_uri": "https://localhost:8080/",
     "height": 173
    },
    "id": "H3micztY6LQw",
    "outputId": "83179dc3-fdcc-402e-dd00-6c4617aee436"
   },
   "outputs": [],
   "source": [
    "# E se volessi:\n",
    "# Combinazioni di studenti e di docenti residenti nella stessa citta'\n",
    "# inclusi gli studenti che risiedono in una citta' \n",
    "# che non ha corrispondenza nella relazione dei docenti\n",
    "q = '''\n",
    "SELECT *\n",
    "FROM S JOIN D ON S.Citta=D.Citta;\n",
    "'''\n",
    "res = engine.execute(q)\n",
    "df = pd.DataFrame(res.fetchall())\n",
    "df.columns = res.keys()\n",
    "df"
   ]
  },
  {
   "cell_type": "code",
   "execution_count": null,
   "metadata": {
    "colab": {
     "base_uri": "https://localhost:8080/",
     "height": 266
    },
    "id": "xtv6YMHb6UxQ",
    "outputId": "b3f39b39-a329-449d-ea6a-a6f5bfaad1cd"
   },
   "outputs": [],
   "source": [
    "# con anche gli studenti di citta' da cui non viene nessun docente:\n",
    "q = '''\n",
    "SELECT *\n",
    "FROM S LEFT JOIN D ON S.Citta=D.Citta;\n",
    "'''\n",
    "res = engine.execute(q)\n",
    "df = pd.DataFrame(res.fetchall())\n",
    "df.columns = res.keys()\n",
    "df"
   ]
  },
  {
   "cell_type": "code",
   "execution_count": null,
   "metadata": {
    "colab": {
     "base_uri": "https://localhost:8080/",
     "height": 328
    },
    "id": "XLYW1f_v6WmL",
    "outputId": "54c03dc1-96b1-435e-d996-d4531f969f17"
   },
   "outputs": [],
   "source": [
    "# Nella clausola FROM e' possibile esprimere anche piu' condizioni di join.\n",
    "# \n",
    "# Ad esempio, se volessimo:\n",
    "# Per ogni esame con voto superiore a 24 riportare il nome dello studente \n",
    "# e il codice del docente del corso\n",
    "q = '''\n",
    "SELECT S.SNome,C.CD, E.voto\n",
    "FROM (S JOIN E ON (S.Matr=E.Matr))\n",
    "\t\tJOIN C ON (E.CC=C.CC)\n",
    "WHERE Voto > 24;\n",
    "'''\n",
    "res = engine.execute(q)\n",
    "df = pd.DataFrame(res.fetchall())\n",
    "df.columns = res.keys()\n",
    "df"
   ]
  },
  {
   "cell_type": "code",
   "execution_count": null,
   "metadata": {
    "colab": {
     "base_uri": "https://localhost:8080/",
     "height": 328
    },
    "id": "D3XDihdD6ZG-",
    "outputId": "41037ec2-154d-4b10-ea37-f9589969b469"
   },
   "outputs": [],
   "source": [
    "# che equivale a:\n",
    "q = '''\n",
    "SELECT S.SNome,C.CD, E.voto\n",
    "FROM S,E,C\n",
    "WHERE S.Matr=E.Matr \n",
    "AND E.CC=C.CC\n",
    "AND Voto > 24;\n",
    "'''\n",
    "res = engine.execute(q)\n",
    "df = pd.DataFrame(res.fetchall())\n",
    "df.columns = res.keys()\n",
    "df"
   ]
  },
  {
   "cell_type": "code",
   "execution_count": null,
   "metadata": {
    "colab": {
     "base_uri": "https://localhost:8080/",
     "height": 266
    },
    "id": "b-baqrTB6o4z",
    "outputId": "368b72ad-84e3-4794-cdb2-14a46c379912"
   },
   "outputs": [],
   "source": [
    "# Con gli outer join, certi attributi vengono duplicati (per definizione)\n",
    "# Ad sempio:\n",
    "q = '''\n",
    "SELECT S.Matr,S.Citta,D.CD, D.Citta\n",
    "FROM S LEFT JOIN D ON (S.Citta=D.Citta);\n",
    "'''\n",
    "res = engine.execute(q)\n",
    "df = pd.DataFrame(res.fetchall())\n",
    "df.columns = res.keys()\n",
    "df"
   ]
  },
  {
   "cell_type": "code",
   "execution_count": null,
   "metadata": {
    "colab": {
     "base_uri": "https://localhost:8080/",
     "height": 266
    },
    "id": "6DU2AkQS6rQD",
    "outputId": "fcb623ca-a89b-4f22-ccfd-5e9deb7234b6"
   },
   "outputs": [],
   "source": [
    "# come faccio a fare un merge e considerare solo una Citta'?\n",
    "# funzione: COALESCE(...) sceglie il primo valore non nullo\n",
    "q = '''\n",
    "SELECT S.Matr, S.Citta, D.Citta,D.CD\n",
    "FROM S LEFT JOIN D ON (S.Citta=D.Citta);\n",
    "'''\n",
    "res = engine.execute(q)\n",
    "df = pd.DataFrame(res.fetchall())\n",
    "df.columns = res.keys()\n",
    "df"
   ]
  },
  {
   "cell_type": "code",
   "execution_count": null,
   "metadata": {
    "colab": {
     "base_uri": "https://localhost:8080/",
     "height": 266
    },
    "id": "UzvQ9QdX6v9I",
    "outputId": "4104d19a-1ef5-442e-8006-49617b5a34c3"
   },
   "outputs": [],
   "source": [
    "q = '''\n",
    "SELECT S.Matr, COALESCE(S.Citta, D.Citta) AS Citta, D.CD AS CodiceDocente\n",
    "FROM S LEFT JOIN D ON (S.Citta=D.Citta);\n",
    "'''\n",
    "res = engine.execute(q)\n",
    "df = pd.DataFrame(res.fetchall())\n",
    "df.columns = res.keys()\n",
    "df"
   ]
  },
  {
   "cell_type": "markdown",
   "metadata": {
    "id": "WN5bQ5Gp6zP_"
   },
   "source": [
    "### Self-Join"
   ]
  },
  {
   "cell_type": "code",
   "execution_count": null,
   "metadata": {
    "colab": {
     "base_uri": "https://localhost:8080/",
     "height": 421
    },
    "id": "xEFXt4qr6xtQ",
    "outputId": "a64a4a94-9d22-4728-b587-e5febfb34810"
   },
   "outputs": [],
   "source": [
    "# Quando il join avviene tra la tabella e se stessa\n",
    "# \n",
    "# Ad esempio: \n",
    "# Selezionare le coppie di studenti della stessa citta'\n",
    "\n",
    "q = '''\n",
    "SELECT S1.SNome,S2.SNome,S1.Citta\n",
    "FROM S S1, S S2\n",
    "WHERE S1.Citta=S2.Citta;\n",
    "'''\n",
    "res = engine.execute(q)\n",
    "df = pd.DataFrame(res.fetchall())\n",
    "df.columns = res.keys()\n",
    "df"
   ]
  },
  {
   "cell_type": "code",
   "execution_count": null,
   "metadata": {
    "colab": {
     "base_uri": "https://localhost:8080/",
     "height": 142
    },
    "id": "gUo55NWj63Zi",
    "outputId": "f3b1eefe-24ce-47c3-df33-9dcba44d8c0f"
   },
   "outputs": [],
   "source": [
    "# Cosi' pero' selezionaimo anche uno studente e se stesso\n",
    "# Quindi modifichiamo aggiungendo:\n",
    "\n",
    "q = '''\n",
    "SELECT S1.SNome,S2.SNome,S1.Citta\n",
    "FROM S S1, S S2\n",
    "WHERE S1.Citta=S2.Citta\n",
    "AND S1.Matr < S2.Matr;\n",
    "'''\n",
    "\n",
    "res = engine.execute(q)\n",
    "df = pd.DataFrame(res.fetchall())\n",
    "df.columns = res.keys()\n",
    "df\n",
    "\n",
    "#\n",
    "# DOMANDA:\n",
    "# perche' <> non andrebbe bene?\n",
    "#"
   ]
  },
  {
   "cell_type": "code",
   "execution_count": null,
   "metadata": {
    "colab": {
     "base_uri": "https://localhost:8080/",
     "height": 204
    },
    "id": "-UvdoGF_68kJ",
    "outputId": "d62522ac-657c-4fdf-c6c7-e26858b35679"
   },
   "outputs": [],
   "source": [
    "# Matricole degli studenti che hanno sostenuto almeno \n",
    "# uno degli esami sostenuti dallo studente di nome 'Giuseppe Verdi'\n",
    "\n",
    "q = '''\n",
    "SELECT E1.Matr\n",
    "FROM S, E E1, E E2\n",
    "WHERE E2.Matr = S.Matr\n",
    "AND E1.CC = E2.CC\n",
    "AND S.SNome='Giuseppe Verdi';\n",
    "'''\n",
    "res = engine.execute(q)\n",
    "df = pd.DataFrame(res.fetchall())\n",
    "df.columns = res.keys()\n",
    "df"
   ]
  },
  {
   "cell_type": "code",
   "execution_count": null,
   "metadata": {
    "colab": {
     "base_uri": "https://localhost:8080/",
     "height": 204
    },
    "id": "1lXddVE97Cg1",
    "outputId": "6ac2c780-50ef-437d-ba05-b94ca6852232"
   },
   "outputs": [],
   "source": [
    "q = '''\n",
    "SELECT E1.Matr\n",
    "FROM E E1\n",
    "WHERE E1.CC IN (SELECT E2.CC\n",
    "\t\t\t\tFROM E E2, S\n",
    "\t\t\t\tWHERE S.SNome='Giuseppe Verdi'\n",
    "\t\t\t\tAND S.Matr = E2.Matr);\n",
    "'''\n",
    "res = engine.execute(q)\n",
    "df = pd.DataFrame(res.fetchall())\n",
    "df.columns = res.keys()\n",
    "df"
   ]
  },
  {
   "cell_type": "markdown",
   "metadata": {
    "id": "dUvcAvdQ7cnL"
   },
   "source": [
    "## Nested Quereis"
   ]
  },
  {
   "cell_type": "code",
   "execution_count": null,
   "metadata": {
    "colab": {
     "base_uri": "https://localhost:8080/",
     "height": 235
    },
    "id": "Es8AUTa-7L6-",
    "outputId": "39eab92d-bc5e-4c1c-c52a-48e8d2aa0a5e"
   },
   "outputs": [],
   "source": [
    "# Interrogazioni innestate\n",
    "\n",
    "# Una interrogazione viene detta innestata o nidificata se la sua condizione\n",
    "# e' formulata usando il risultato di un’altra interrogazione, \n",
    "# chiamata subquery\n",
    "\n",
    "q = '''\n",
    "SELECT *\n",
    "FROM S\n",
    "WHERE S.Matr IN (SELECT Matr\n",
    "\t\t\t\t FROM E);\n",
    "'''\n",
    "res = engine.execute(q)\n",
    "df = pd.DataFrame(res.fetchall())\n",
    "df.columns = res.keys()\n",
    "df"
   ]
  },
  {
   "cell_type": "markdown",
   "metadata": {
    "id": "dXbdtyas7lNN"
   },
   "source": [
    "## ANY/IN/EXISTS\n",
    "- Operatori quantificati: `<attr><op-rel>[ANY|ALL]<subquery`\n",
    "- Operatore di set: `<attr> [NOT] IN <subquery>`\n",
    "- Quantificatore esistenziale : `[NOT] EXISTS <subquery>`"
   ]
  },
  {
   "cell_type": "code",
   "execution_count": null,
   "metadata": {
    "colab": {
     "base_uri": "https://localhost:8080/",
     "height": 142
    },
    "id": "s9I5daGB77Si",
    "outputId": "2d193db6-0c86-46ce-9247-fabedd32910d"
   },
   "outputs": [],
   "source": [
    "#  TIPO [ANY/ALL]\n",
    "# Per esprimere una condizione che e' vera quando \n",
    "# qualsiasi (ANY) opppure tutti (ALL) gli elementi\n",
    "# restituiti dalla subquery fanno verificare la condizione\n",
    "# i.e., condizione risulta TRUE\n",
    " \n",
    "# ANY\n",
    "# Nome degli studenti che hanno sostenuto l’esame del corso C1\n",
    "\n",
    "q = '''\n",
    "SELECT SNome \n",
    "FROM S \n",
    "WHERE Matr = ANY (SELECT Matr FROM E WHERE CC='C1');\n",
    "'''\n",
    "\n",
    "# SQLite non ha \"ANY\"\n",
    "q = '''\n",
    "SELECT SNome \n",
    "FROM S \n",
    "WHERE Matr IN (SELECT Matr FROM E WHERE CC='C1');\n",
    "'''\n",
    "\n",
    "res = engine.execute(q)\n",
    "df = pd.DataFrame(res.fetchall())\n",
    "df.columns = res.keys()\n",
    "df"
   ]
  },
  {
   "cell_type": "code",
   "execution_count": null,
   "metadata": {
    "colab": {
     "base_uri": "https://localhost:8080/",
     "height": 142
    },
    "id": "jr4N_SCl-e75",
    "outputId": "9241266f-80b0-4ee8-a30b-755817441147"
   },
   "outputs": [],
   "source": [
    "q = '''\n",
    "SELECT SNome\n",
    "FROM S natural JOIN E\n",
    "WHERE E.CC = 'C1';\n",
    "'''\n",
    "res = engine.execute(q)\n",
    "df = pd.DataFrame(res.fetchall())\n",
    "df.columns = res.keys()\n",
    "df"
   ]
  },
  {
   "cell_type": "code",
   "execution_count": null,
   "metadata": {
    "colab": {
     "base_uri": "https://localhost:8080/",
     "height": 266
    },
    "id": "uZmn4IqA-ggu",
    "outputId": "55eafbb1-417b-4443-ceb5-e31be230ae5a"
   },
   "outputs": [],
   "source": [
    "# ALL\n",
    "# Studenti con anno di corso piu` basso\n",
    "\n",
    "# SQLlite non ha \"ALL\"\n",
    "\n",
    "q = '''\n",
    "SELECT *\n",
    "FROM S\n",
    "WHERE ACorso <= ALL ( SELECT ACorso\n",
    "\t\t\t\t\t  FROM S);\n",
    "'''\n",
    "\n",
    "q = '''\n",
    "SELECT *\n",
    "FROM S\n",
    "WHERE ACorso <= ( SELECT MAX(ACorso)\n",
    "\t\t\t\t\t  FROM S);\n",
    "'''\n",
    "res = engine.execute(q)\n",
    "df = pd.DataFrame(res.fetchall())\n",
    "df.columns = res.keys()\n",
    "df"
   ]
  },
  {
   "cell_type": "code",
   "execution_count": null,
   "metadata": {
    "colab": {
     "base_uri": "https://localhost:8080/",
     "height": 142
    },
    "id": "ykiV5vfS-h2K",
    "outputId": "fbc8bfce-550e-4666-de2e-5eb13dbeb95f"
   },
   "outputs": [],
   "source": [
    "# Spesso possono esserci diversi modi di esprimere la stesa query\n",
    "# es: Nome degli studenti che hanno sostenuto l’esame del corso C1\n",
    "# senza subquery:\n",
    "q = '''\n",
    "SELECT S.SNome\n",
    "FROM E join S on E.Matr=S.Matr\n",
    "WHERE E.CC = 'C1';\n",
    "'''\n",
    "res = engine.execute(q)\n",
    "df = pd.DataFrame(res.fetchall())\n",
    "df.columns = res.keys()\n",
    "df\n",
    "\n",
    "# # oppure:\n",
    "# q = '''\n",
    "# SELECT S.SNome\n",
    "# FROM S\n",
    "# WHERE S.Matr in (SELECT E.Matr \n",
    "# \t\t\t\t FROM E WHERE E.CC='C1');\n",
    "# '''\n",
    "# con.execute(q) \n",
    "# con.fetchdf()"
   ]
  },
  {
   "cell_type": "code",
   "execution_count": null,
   "metadata": {
    "colab": {
     "base_uri": "https://localhost:8080/",
     "height": 266
    },
    "id": "7LFDevuK-mMN",
    "outputId": "b54ba55f-6d3e-41f8-b478-85a7cac43047"
   },
   "outputs": [],
   "source": [
    "# ALTRO ESEMPIO:\n",
    "# Nome degli studenti che hanno sostenuto l’esame di un corso del docente D1\n",
    "#/\n",
    "q = '''\n",
    "SELECT SNome\n",
    "FROM E,S,C\n",
    "WHERE E.Matr=S.Matr \n",
    "AND E.CC=C.CC\n",
    "AND CD='D1';\n",
    "'''\n",
    "res = engine.execute(q)\n",
    "df = pd.DataFrame(res.fetchall())\n",
    "df.columns = res.keys()\n",
    "df"
   ]
  },
  {
   "cell_type": "code",
   "execution_count": null,
   "metadata": {
    "colab": {
     "base_uri": "https://localhost:8080/",
     "height": 204
    },
    "id": "D29G0bgk-1FU",
    "outputId": "f8610364-f322-4cad-a1c4-b5414c9afc91"
   },
   "outputs": [],
   "source": [
    "# che puo' essere espressa anche come:\n",
    "q = '''\n",
    "SELECT SNome\n",
    "FROM S\n",
    "WHERE S.Matr IN (SELECT E.Matr \n",
    "\t\t\t\t FROM E \n",
    "\t\t\t\t WHERE E.CC IN (SELECT C.CC \n",
    "\t\t\t\t \t\t\t\tFROM C \n",
    "\t\t\t\t \t\t\t\tWHERE C.CD='D1'));\n",
    "'''\n",
    "res = engine.execute(q)\n",
    "df = pd.DataFrame(res.fetchall())\n",
    "df.columns = res.keys()\n",
    "df"
   ]
  },
  {
   "cell_type": "code",
   "execution_count": null,
   "metadata": {
    "colab": {
     "base_uri": "https://localhost:8080/",
     "height": 173
    },
    "id": "t3APt4T--2x2",
    "outputId": "28aa1f9a-a5cb-4ea3-96ac-5b1fd2cf20a3"
   },
   "outputs": [],
   "source": [
    "# Provare la precedente query partendo dalla subquery piu' interna\n",
    "\n",
    "# Fino ad ora abbiamo considerato delle subquery dove\n",
    "# la query innestata era indipendente dalla query esterna\n",
    "\n",
    "# Se vogliamo pero' selezionare:\n",
    "# Per ogni citta', il nome degli studenti con anno di corso piu` alto\n",
    "q = '''\n",
    "SELECT S1.Citta, S1.SNome, S1.ACorso\n",
    "FROM S S1\n",
    "WHERE S1.ACorso >= (SELECT MAX(S2.ACorso)\n",
    "\t\t\t\t\t  \tFROM S S2\n",
    "\t\t\t\t\t  \tWHERE S1.Citta=S2.Citta);\n",
    "'''\n",
    "res = engine.execute(q)\n",
    "df = pd.DataFrame(res.fetchall())\n",
    "df.columns = res.keys()\n",
    "df\n",
    "# S1 e' la tupla corrente"
   ]
  },
  {
   "cell_type": "markdown",
   "metadata": {
    "id": "mZluUGhQ_D6k"
   },
   "source": [
    "### EXISTS"
   ]
  },
  {
   "cell_type": "code",
   "execution_count": null,
   "metadata": {
    "colab": {
     "base_uri": "https://localhost:8080/",
     "height": 142
    },
    "id": "rSk6FCU_-7r5",
    "outputId": "d42c02b7-ee05-4780-c6eb-fda672c9d68b"
   },
   "outputs": [],
   "source": [
    "# QUALIFICATORE ESISTENZIALE:\n",
    "\n",
    "# EXISTS\n",
    "\n",
    "# Mettendo in relazione subquery e query estenza con una clausola\n",
    "# che è vera solo se per la tupla corrente il risultato della subquery\n",
    "# restituisce qualcosa (i.e., non è nullo).\n",
    "# Da qui: \"EXISTS\", cioè ESISTE qualcosa che rende TRUE quel predicato.\n",
    "\n",
    "# Ad esempio:\n",
    "# Nome degli studenti che hanno sostenuto l’esame del corso C1:\n",
    "\n",
    "q = '''\n",
    "SELECT SNome\n",
    "FROM S\n",
    "WHERE EXISTS (SELECT *\n",
    "\t\t\t  FROM E\n",
    "\t\t\t  WHERE E.Matr=S.Matr\n",
    "\t\t\t  AND E.CC = 'C1');\n",
    "'''\n",
    "res = engine.execute(q)\n",
    "df = pd.DataFrame(res.fetchall())\n",
    "df.columns = res.keys()\n",
    "df"
   ]
  },
  {
   "cell_type": "code",
   "execution_count": null,
   "metadata": {
    "colab": {
     "base_uri": "https://localhost:8080/",
     "height": 173
    },
    "id": "m2sQnUFW_LFB",
    "outputId": "e9c6a61c-949c-468a-deaf-4a1196815c9c"
   },
   "outputs": [],
   "source": [
    "# Allo stesso modo, il negato della clausola EXISTS:\n",
    "\n",
    "# NOT EXISTS (<subquery>)\n",
    "\n",
    "# ha valore true se e solo se l’insieme di valori restituiti da <subquery> e' vuoto.\n",
    "\n",
    "# Ad esempio:\n",
    "# Nome degli studenti che non hanno sostenuto l’esame del corso C1\n",
    "q = '''\n",
    "SELECT SNome\n",
    "FROM S\n",
    "WHERE NOT EXISTS ( SELECT *\n",
    "\t\t\t\t   FROM E\n",
    "\t\t\t\t   WHERE E.Matr=S.Matr \n",
    "\t\t\t\t   AND E.CC='C1' )\n",
    "'''\n",
    "res = engine.execute(q)\n",
    "df = pd.DataFrame(res.fetchall())\n",
    "df.columns = res.keys()\n",
    "df\n",
    "\n",
    "# Tip:\n",
    "# Se state usando EXISTS senza una subquery crrelata,\n",
    "# molto probabilmente state commettendo un errore:\n",
    "\n",
    "# Perche'?\n",
    "# (hint: cosa restituisce la subquery?) "
   ]
  },
  {
   "cell_type": "markdown",
   "metadata": {
    "id": "-rL2OkYU_QHr"
   },
   "source": [
    "### Riduzione di query innestate"
   ]
  },
  {
   "cell_type": "code",
   "execution_count": null,
   "metadata": {
    "colab": {
     "base_uri": "https://localhost:8080/",
     "height": 142
    },
    "id": "4zcvKnNx_VW0",
    "outputId": "00f01201-9b4c-494e-c02c-6fbeaeb75ec2"
   },
   "outputs": [],
   "source": [
    "# Le query innestate formulate con i seguenti operatori \n",
    "# si possono ridurre a query di join equivalenti \n",
    "# (stessa risposta per ogni possibile istanza della base di dati):\n",
    "# • IN\n",
    "# • ANY (con qualsiasi operatore di confronto) \n",
    "# • EXISTS con subquery correlata\n",
    "# \n",
    "\n",
    "\t\t\t\t   \n",
    "# Nome degli studenti che hanno sostenuto l’esame del corso C1\n",
    "\n",
    "# 1. \n",
    "q = '''\n",
    "SELECT SNome \n",
    "FROM S\n",
    "WHERE Matr IN ( SELECT Matr\n",
    "\t\t\t\tFROM E\n",
    "\t\t\t\tWHERE CC='C1')\n",
    "'''\n",
    "res = engine.execute(q)\n",
    "df = pd.DataFrame(res.fetchall())\n",
    "df.columns = res.keys()\n",
    "df\n",
    "\n",
    "# # 2. \n",
    "# q = '''\n",
    "# SELECT SNome \n",
    "# FROM S\n",
    "# WHERE Matr =ANY ( SELECT Matr\n",
    "# \t\t\t\t  FROM E\n",
    "# \t\t\t\t  WHERE CC='C1')\n",
    "# '''\n",
    "# res = engine.execute(q)\n",
    "# df = pd.DataFrame(res.fetchall())\n",
    "# df.columns = res.keys()\n",
    "# df\n",
    "\n",
    "# 3.\n",
    "q = '''\n",
    "SELECT SNome \n",
    "FROM S\n",
    "WHERE EXISTS ( SELECT *\n",
    "\t\t\t   FROM E\n",
    "\t\t\t   WHERE E.Matr=S.Matr\n",
    "\t\t\t   AND CC='C1')\n",
    "'''\n",
    "res = engine.execute(q)\n",
    "df = pd.DataFrame(res.fetchall())\n",
    "df.columns = res.keys()\n",
    "df\n",
    "\n",
    "\t\t\t   \n",
    "# QUERY EQUIVALENTE CON JOIN\n",
    "q = '''\n",
    "SELECT SNome\n",
    "FROM E,S\n",
    "WHERE E.Matr=S.Matr \n",
    "AND E.CC='C1'\n",
    "'''\n",
    "res = engine.execute(q)\n",
    "df = pd.DataFrame(res.fetchall())\n",
    "df.columns = res.keys()\n",
    "df"
   ]
  },
  {
   "cell_type": "code",
   "execution_count": null,
   "metadata": {
    "colab": {
     "base_uri": "https://localhost:8080/",
     "height": 173
    },
    "id": "UFikPwZx_bD8",
    "outputId": "856bb2d2-89de-4b6e-9128-483b215414f6"
   },
   "outputs": [],
   "source": [
    "# INVECE:\n",
    " \n",
    "# Le query innestate formulate con i seguenti operatori \n",
    "# non si possono ridurre:\n",
    "\n",
    "# • NOT IN\n",
    "# • ALL (con qualsiasi operatore di confronto) \n",
    "# • NOT EXISTS con subquery correlata\n",
    "\n",
    "# Ad esempio:\n",
    "# Nome degli studenti che non hanno sostenuto l’esame del corso C1\n",
    "\n",
    "# 1. \n",
    "q = '''\n",
    "SELECT SNome \n",
    "FROM S\n",
    "WHERE Matr NOT IN ( SELECT Matr\n",
    "\t \t\t\t\tFROM E\n",
    "\t\t\t\t\tWHERE CC='C1')\n",
    "'''\n",
    "res = engine.execute(q)\n",
    "df = pd.DataFrame(res.fetchall())\n",
    "df.columns = res.keys()\n",
    "df\n",
    "\n",
    "# # 2.\n",
    "# q = '''\n",
    "# SELECT SNome \n",
    "# FROM S\n",
    "# WHERE Matr <> ALL ( SELECT Matr\n",
    "# \t\t\t\t  FROM E\n",
    "# \t\t\t\t  WHERE CC='C1')\n",
    "# '''\n",
    "# res = engine.execute(q)\n",
    "# df = pd.DataFrame(res.fetchall())\n",
    "# df.columns = res.keys()\n",
    "# df\n",
    "\n",
    "\n",
    "# 3.\n",
    "q = '''\n",
    "SELECT SNome \n",
    "FROM S\n",
    "WHERE NOT EXISTS ( SELECT *\n",
    "\t\t\t   FROM E\n",
    "\t\t\t   WHERE E.Matr=S.Matr\n",
    "\t\t\t   AND CC='C1')\n",
    "'''\n",
    "res = engine.execute(q)\n",
    "df = pd.DataFrame(res.fetchall())\n",
    "df.columns = res.keys()\n",
    "df\n",
    "\n",
    "# NON SI POSSONO ESPRIMRE CON JOIN"
   ]
  },
  {
   "cell_type": "code",
   "execution_count": null,
   "metadata": {
    "colab": {
     "base_uri": "https://localhost:8080/",
     "height": 328
    },
    "id": "WWbboGe7_fCw",
    "outputId": "ab7a3a8e-3153-4b13-dcd0-48a931ad6ec1"
   },
   "outputs": [],
   "source": [
    "# NOTARE: la differenza con la seguente query\n",
    "# ERRATA (per la consegna):\n",
    "q = '''\n",
    "SELECT SNome\n",
    "FROM E,S\n",
    "WHERE E.Matr=S.Matr \n",
    "AND E.CC <> 'C1'\n",
    "'''\n",
    "res = engine.execute(q)\n",
    "df = pd.DataFrame(res.fetchall())\n",
    "df.columns = res.keys()\n",
    "df\n",
    "\n",
    "# cosa restituisce?"
   ]
  },
  {
   "cell_type": "markdown",
   "metadata": {
    "id": "O0QgmeIA_lXw"
   },
   "source": [
    "## Funzioni di Aggregazione"
   ]
  },
  {
   "cell_type": "code",
   "execution_count": null,
   "metadata": {
    "colab": {
     "base_uri": "https://localhost:8080/",
     "height": 80
    },
    "id": "gYWDSfd__hE4",
    "outputId": "7986e2fd-9b57-44fc-c67f-fb7a7cde738e"
   },
   "outputs": [],
   "source": [
    "# \t\tFunzioni aggregate \n",
    "# \t\t(column functions)\n",
    "\n",
    "# Dato un insieme di tuple che soddisfano un predicato\n",
    "# (e.g., il risultato di una query qualsiasi di quelle\n",
    "# viste finora)\n",
    "# le funzione di aggregazione restituiscono un risultato\n",
    "# \"aggregato\" calcolato su queell'insieme.\n",
    "\n",
    "# Possono essere cosi' facilmente ritrovati:\n",
    "# La media dei voti di uno studete;\n",
    "# Il voto massimo in un dato esame;\n",
    "# Il numero di studenti che proviene da una data citta;\n",
    "# ... \n",
    "\n",
    "q = '''\n",
    "SELECT COUNT(*)\n",
    "FROM S\n",
    "'''\n",
    "res = engine.execute(q)\n",
    "df = pd.DataFrame(res.fetchall())\n",
    "df.columns = res.keys()\n",
    "df\n"
   ]
  },
  {
   "cell_type": "code",
   "execution_count": null,
   "metadata": {
    "colab": {
     "base_uri": "https://localhost:8080/",
     "height": 80
    },
    "id": "Nub_Xtfx_qxd",
    "outputId": "183ae44e-fb77-4219-e2ad-8b33675666bb"
   },
   "outputs": [],
   "source": [
    "q = '''\n",
    "SELECT AVG(E.VOTO)\n",
    "FROM E\n",
    "'''\n",
    "res = engine.execute(q)\n",
    "df = pd.DataFrame(res.fetchall())\n",
    "df.columns = res.keys()\n",
    "df\n"
   ]
  },
  {
   "cell_type": "code",
   "execution_count": null,
   "metadata": {
    "colab": {
     "base_uri": "https://localhost:8080/",
     "height": 80
    },
    "id": "GvJjQvzk_stY",
    "outputId": "7087412d-9591-4ecc-a8b7-845fc3517b8f"
   },
   "outputs": [],
   "source": [
    "q = '''\n",
    "SELECT MAX(E.VOTO)\n",
    "FROM E\n",
    "'''\n",
    "res = engine.execute(q)\n",
    "df = pd.DataFrame(res.fetchall())\n",
    "df.columns = res.keys()\n",
    "df\n"
   ]
  },
  {
   "cell_type": "code",
   "execution_count": null,
   "metadata": {
    "colab": {
     "base_uri": "https://localhost:8080/",
     "height": 80
    },
    "id": "UdqxdXAd_t4N",
    "outputId": "85782c07-57b4-47cc-a76c-169b2be4cf22"
   },
   "outputs": [],
   "source": [
    "q = '''\n",
    "SELECT MIN(E.VOTO)\n",
    "FROM E\n",
    "'''\n",
    "res = engine.execute(q)\n",
    "df = pd.DataFrame(res.fetchall())\n",
    "df.columns = res.keys()\n",
    "df\n"
   ]
  },
  {
   "cell_type": "code",
   "execution_count": null,
   "metadata": {
    "colab": {
     "base_uri": "https://localhost:8080/",
     "height": 80
    },
    "id": "LHevdFoF_vVj",
    "outputId": "893cc203-4ea6-4b14-b22a-7d51032443d7"
   },
   "outputs": [],
   "source": [
    "q = '''\n",
    "SELECT SUM(E.VOTO)/COUNT(E.VOTO)\n",
    "FROM E\n",
    "'''\n",
    "res = engine.execute(q)\n",
    "df = pd.DataFrame(res.fetchall())\n",
    "df.columns = res.keys()\n",
    "df\n"
   ]
  },
  {
   "cell_type": "code",
   "execution_count": null,
   "metadata": {
    "colab": {
     "base_uri": "https://localhost:8080/",
     "height": 142
    },
    "id": "M_g02TxD_wq5",
    "outputId": "58c6d712-0dab-43fb-b03a-dabb764ffd5c"
   },
   "outputs": [],
   "source": [
    "q = '''\n",
    "SELECT DISTINCT(E.CC)\n",
    "FROM E\n",
    "'''\n",
    "res = engine.execute(q)\n",
    "df = pd.DataFrame(res.fetchall())\n",
    "df.columns = res.keys()\n",
    "df\n"
   ]
  },
  {
   "cell_type": "code",
   "execution_count": null,
   "metadata": {
    "colab": {
     "base_uri": "https://localhost:8080/",
     "height": 421
    },
    "id": "peyvq12-_x88",
    "outputId": "76214ff7-2e84-4fd7-f29f-716c5a3a4f34"
   },
   "outputs": [],
   "source": [
    "q = '''\n",
    "SELECT E.CC\n",
    "FROM E\n",
    "'''\n",
    "res = engine.execute(q)\n",
    "df = pd.DataFrame(res.fetchall())\n",
    "df.columns = res.keys()\n",
    "df\n"
   ]
  },
  {
   "cell_type": "code",
   "execution_count": null,
   "metadata": {
    "colab": {
     "base_uri": "https://localhost:8080/",
     "height": 80
    },
    "id": "iwP5h5H7_zO4",
    "outputId": "3755d0a7-d4aa-4219-f28c-38916494827d"
   },
   "outputs": [],
   "source": [
    "q = '''\n",
    "SELECT COUNT(DISTINCT(E.CC))\n",
    "FROM E\n",
    "'''\n",
    "# Alcuni DBMS non permettono questa sintassi\n",
    "res = engine.execute(q)\n",
    "df = pd.DataFrame(res.fetchall())\n",
    "df.columns = res.keys()\n",
    "df\n"
   ]
  },
  {
   "cell_type": "code",
   "execution_count": null,
   "metadata": {
    "colab": {
     "base_uri": "https://localhost:8080/",
     "height": 80
    },
    "id": "P_3FGSWz_0fl",
    "outputId": "b5314ad5-bc80-41cb-feb7-ff044aff9dea"
   },
   "outputs": [],
   "source": [
    "# Es. “Numero di studenti presenti” \n",
    "q = '''\n",
    "SELECT COUNT(Matr)\n",
    "FROM S\n",
    "'''\n",
    "res = engine.execute(q)\n",
    "df = pd.DataFrame(res.fetchall())\n",
    "df.columns = res.keys()\n",
    "df\n"
   ]
  },
  {
   "cell_type": "code",
   "execution_count": null,
   "metadata": {
    "colab": {
     "base_uri": "https://localhost:8080/",
     "height": 80
    },
    "id": "EjwUAqa3_7BS",
    "outputId": "df4bb68e-f690-4da8-fc1c-1f2ab4afb36f"
   },
   "outputs": [],
   "source": [
    "# Es. “Numero di studenti che hanno sostenuto almeno un esame” \n",
    "q = '''\n",
    "SELECT COUNT(DISTINCT Matr)\n",
    "FROM E\n",
    "'''\n",
    "res = engine.execute(q)\n",
    "df = pd.DataFrame(res.fetchall())\n",
    "df.columns = res.keys()\n",
    "df\n"
   ]
  },
  {
   "cell_type": "code",
   "execution_count": null,
   "metadata": {
    "colab": {
     "base_uri": "https://localhost:8080/",
     "height": 80
    },
    "id": "39vmUtPp_8Te",
    "outputId": "5d4e1cd8-18fc-4891-cb11-9fa78850b726"
   },
   "outputs": [],
   "source": [
    "# Es. “Numero di studenti con anno di corso non nullo” \n",
    "q = '''\n",
    "SELECT COUNT(ACorso)\n",
    "FROM S\n",
    "'''\n",
    "res = engine.execute(q)\n",
    "df = pd.DataFrame(res.fetchall())\n",
    "df.columns = res.keys()\n",
    "df\n"
   ]
  },
  {
   "cell_type": "code",
   "execution_count": null,
   "metadata": {
    "colab": {
     "base_uri": "https://localhost:8080/",
     "height": 80
    },
    "id": "ev5cI04k_9sR",
    "outputId": "dcad1b01-179b-4908-b360-2d671f9418af"
   },
   "outputs": [],
   "source": [
    "# Es. “Numero di anni di corso di studenti presenti” \n",
    "q = '''\n",
    "SELECT COUNT(DISTINCT ACorso)\n",
    "FROM S\n",
    "'''\n",
    "res = engine.execute(q)\n",
    "df = pd.DataFrame(res.fetchall())\n",
    "df.columns = res.keys()\n",
    "df\n"
   ]
  },
  {
   "cell_type": "code",
   "execution_count": null,
   "metadata": {
    "colab": {
     "base_uri": "https://localhost:8080/",
     "height": 579
    },
    "id": "zznHfXYK_-57",
    "outputId": "4ac22fa3-71e5-4300-beff-4df848ef8546"
   },
   "outputs": [],
   "source": [
    "# Es. “Numero di coppie distinte matricola-voto” \n",
    "q = '''\n",
    "SELECT COUNT(DISTINCT Matr, Voto)\n",
    "FROM E\n",
    "'''\n",
    "# Alcuni DBML non permettono questa sintassi\n",
    "res = engine.execute(q)\n",
    "df = pd.DataFrame(res.fetchall())\n",
    "df.columns = res.keys()\n",
    "df\n"
   ]
  },
  {
   "cell_type": "code",
   "execution_count": null,
   "metadata": {
    "colab": {
     "base_uri": "https://localhost:8080/",
     "height": 80
    },
    "id": "udMQmv8cAAyO",
    "outputId": "a2d17b92-25c6-40bd-e820-7f8af7c90e65"
   },
   "outputs": [],
   "source": [
    "# Es. “Voto medio degli esami sostenuti dalla matricola M1”\n",
    "q = '''\n",
    "SELECT AVG(Voto)\n",
    "FROM E \n",
    "WHERE Matr='M1'\n",
    "'''\n",
    "res = engine.execute(q)\n",
    "df = pd.DataFrame(res.fetchall())\n",
    "df.columns = res.keys()\n",
    "df\n",
    "\n",
    "\n",
    "# che e' equivalente a\n",
    "q = '''\n",
    "SELECT SUM(Voto)/COUNT(Voto) \n",
    "FROM E \n",
    "WHERE Matr='M1'\n",
    "'''\n",
    "res = engine.execute(q)\n",
    "df = pd.DataFrame(res.fetchall())\n",
    "df.columns = res.keys()\n",
    "df\n"
   ]
  },
  {
   "cell_type": "code",
   "execution_count": null,
   "metadata": {
    "colab": {
     "base_uri": "https://localhost:8080/",
     "height": 204
    },
    "id": "ZXpUET19APRx",
    "outputId": "bcd63225-9bbc-48e7-8b49-e8ec55392b33"
   },
   "outputs": [],
   "source": [
    "# Es. “Studenti il cui anno di corso `e minore di quello massimo presente”\n",
    "q = '''\n",
    "SELECT *\n",
    "FROM S\n",
    "WHERE ACorso < ( SELECT MAX(ACorso)\n",
    "\t\t\t\t FROM S)\n",
    "'''\n",
    "res = engine.execute(q)\n",
    "df = pd.DataFrame(res.fetchall())\n",
    "df.columns = res.keys()\n",
    "df\n"
   ]
  },
  {
   "cell_type": "code",
   "execution_count": null,
   "metadata": {
    "colab": {
     "base_uri": "https://localhost:8080/",
     "height": 80
    },
    "id": "2pWgN1LOATEs",
    "outputId": "457f8e90-7fd2-4ce1-9848-3b800862ff2a"
   },
   "outputs": [],
   "source": [
    "# Considerate la sequente query, con funzione di aggregazione:\n",
    "\n",
    "q = '''\n",
    "SELECT Matr,MAX(Voto)\n",
    "FROM E\n",
    "'''\n",
    "res = engine.execute(q)\n",
    "df = pd.DataFrame(res.fetchall())\n",
    "df.columns = res.keys()\n",
    "df\n",
    "\n",
    "# PERCHE' E' SBAGLIATA?\n",
    "\n"
   ]
  },
  {
   "cell_type": "code",
   "execution_count": null,
   "metadata": {
    "id": "RG-WxoAMATlQ"
   },
   "outputs": [],
   "source": []
  },
  {
   "cell_type": "code",
   "execution_count": null,
   "metadata": {
    "id": "isX5SQh7AdSX"
   },
   "outputs": [],
   "source": []
  }
 ],
 "metadata": {
  "colab": {
   "collapsed_sections": [],
   "include_colab_link": true,
   "name": "01_SQL_sqlite.ipynb",
   "provenance": [],
   "toc_visible": true
  },
  "kernelspec": {
   "display_name": "Python 3 (ipykernel)",
   "language": "python",
   "name": "python3"
  },
  "language_info": {
   "codemirror_mode": {
    "name": "ipython",
    "version": 3
   },
   "file_extension": ".py",
   "mimetype": "text/x-python",
   "name": "python",
   "nbconvert_exporter": "python",
   "pygments_lexer": "ipython3",
   "version": "3.9.12"
  }
 },
 "nbformat": 4,
 "nbformat_minor": 1
}
