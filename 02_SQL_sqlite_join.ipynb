{
  "nbformat": 4,
  "nbformat_minor": 0,
  "metadata": {
    "colab": {
      "name": "02_SQL_sqlite_join.ipynb",
      "provenance": [],
      "collapsed_sections": [],
      "toc_visible": true,
      "include_colab_link": true
    },
    "kernelspec": {
      "name": "python3",
      "display_name": "Python 3"
    }
  },
  "cells": [
    {
      "cell_type": "markdown",
      "metadata": {
        "id": "view-in-github",
        "colab_type": "text"
      },
      "source": [
        "<a href=\"https://colab.research.google.com/github/Stravanni/Basi_di_dati/blob/main/02_SQL_sqlite_join.ipynb\" target=\"_parent\"><img src=\"https://colab.research.google.com/assets/colab-badge.svg\" alt=\"Open In Colab\"/></a>"
      ]
    },
    {
      "cell_type": "markdown",
      "metadata": {
        "id": "7wywHOYZSixy"
      },
      "source": [
        "# Introduzione a SQL\n",
        "@author: giovanni.simonini@unimore.it\n",
        "\n",
        "## To run: \n",
        "- to run a cell: SHIFT + ENTER\n",
        "  \n",
        "## Schema Università\n",
        "\n",
        "S (<u>Matr</u>,SNome,Citta,ACorso)\n",
        "\n",
        "D(<u>CD</u>,CNome,Citta)\n",
        "\n",
        "C(<u>CC</u>,CNome,CD)\n",
        "- FOREIGN KEY (CD) REFERENCES D(CD)\n",
        "\n",
        "E(<u>Matr,CC</u>,DATA,VOTO)\n",
        "- FOREIGN KEY (Matr) REFERENCES S(Matr)\n",
        "- FOREIGN KEY (CC) REFERENCES C(CC)\n",
        " "
      ]
    },
    {
      "cell_type": "code",
      "metadata": {
        "id": "8nW04m8ZIJZJ"
      },
      "source": [
        "import pandas as pd\n",
        "from sqlalchemy import create_engine"
      ],
      "execution_count": null,
      "outputs": []
    },
    {
      "cell_type": "code",
      "metadata": {
        "id": "7tWMfJ-KpIIg"
      },
      "source": [
        "engine = create_engine('sqlite://', echo=False)"
      ],
      "execution_count": null,
      "outputs": []
    },
    {
      "cell_type": "markdown",
      "metadata": {
        "id": "Gw8MjowWwv3G"
      },
      "source": [
        "## Create the the tables"
      ]
    },
    {
      "cell_type": "code",
      "metadata": {
        "id": "S-mRiFhSj8HJ"
      },
      "source": [
        "q = '''\n",
        "CREATE TABLE S (\n",
        "    Matr VARCHAR(45),\n",
        "    SNome VARCHAR(45),\n",
        "    Citta VARCHAR(45),\n",
        "    ACorso INT,\n",
        "    PRIMARY KEY (Matr)\n",
        ");\n",
        "'''\n",
        "engine.execute(q)\n",
        "\n",
        "q = '''\n",
        "CREATE TABLE D(\n",
        " CD VARCHAR(45),\n",
        " CNome VARCHAR(45),\n",
        " Citta VARCHAR(45),\n",
        " PRIMARY KEY (CD)\n",
        ");\n",
        "'''\n",
        "engine.execute(q)\n",
        "\n",
        "q = '''\n",
        "CREATE TABLE C(\n",
        " CC VARCHAR(45),\n",
        " CNome VARCHAR(45),\n",
        " CD VARCHAR(45),\n",
        " PRIMARY KEY (CC),\n",
        " FOREIGN KEY (CD) REFERENCES D(CD)\n",
        ");\n",
        "'''\n",
        "engine.execute(q)\n",
        "\n",
        "q = '''\n",
        "CREATE TABLE E(\n",
        " Matr VARCHAR(45),\n",
        " CC VARCHAR(45),\n",
        " DATA DATE,\n",
        " VOTO INT,\n",
        " PRIMARY KEY (Matr, CC),\n",
        " FOREIGN KEY (Matr) REFERENCES S(Matr),\n",
        " FOREIGN KEY (CC) REFERENCES C(CC)\n",
        ");\n",
        "'''\n",
        "engine.execute(q)\n",
        "\n",
        "\n",
        "q = '''\n",
        "INSERT INTO S (Matr, SNome, Citta, ACorso)\n",
        "VALUES\n",
        "('M1','Lucia Quaranta','SA',1),\n",
        "('M2','Giacomo Tedesco','PA',2),\n",
        "('M3','Carla Longo','MO',1),\n",
        "('M4','Ugo Rossi','MO',1),\n",
        "('M5','Valeria Neri','MO',2),\n",
        "('M6','Giuseppe Verdi','BO',1),\n",
        "('M7','Maria Rossi',null,1);\n",
        "'''\n",
        "engine.execute(q)\n",
        "\n",
        "\n",
        "q = '''\n",
        "INSERT INTO D (CD, CNome, Citta)\n",
        "VALUES\n",
        "('D1','Paolo Rossi','MO'),\n",
        "('D2','Maria Pastore','BO'),\n",
        "('D3','Paola Caboni','FI');\n",
        "'''\n",
        "engine.execute(q)\n",
        "\n",
        "\n",
        "q = '''\n",
        "INSERT INTO C (CC,CNome, CD)\n",
        "VALUES\n",
        "('C1','Fisica 1','D1'),\n",
        "('C2','Analisi Matematica 1','D2'),\n",
        "('C3','Fisica 2','D1'),\n",
        "('C4','Analisi Matematica 2','D3');\n",
        "'''\n",
        "engine.execute(q)\n",
        "\n",
        "\n",
        "q = '''\n",
        "INSERT INTO E (Matr,CC,Data,Voto)\n",
        "VALUES\n",
        "('M1','C1','1995-06-29',24),\n",
        "('M1','C2','1996-08-09',33),\n",
        "('M1','C3','1996-03-12',30),\n",
        "('M2','C1','1995-06-29',28),\n",
        "('M2','C2','1996-07-07',24),\n",
        "('M3','C2','1996-07-07',27),\n",
        "('M3','C3','1996-11-11',25),\n",
        "('M4','C3','1996-11-11',33),\n",
        "('M6','C2','1996-01-02',28),\n",
        "('M7','C1','1995-06-29',24),\n",
        "('M7','C2','1996-04-11',26),\n",
        "('M7','C3','1996-06-23',27);\n",
        "'''\n",
        "engine.execute(q)"
      ],
      "execution_count": null,
      "outputs": []
    },
    {
      "cell_type": "markdown",
      "metadata": {
        "id": "6Me-OkPq5sq1"
      },
      "source": [
        "## JOIN operators"
      ]
    },
    {
      "cell_type": "code",
      "metadata": {
        "id": "Rc7_YeCV4wGH"
      },
      "source": [
        "# Patriamo dal prodotto cartesiano: \n",
        "# Cioe' la combinazione di tutte le possibili tuple delle tabelle elencate\n",
        "# nella clausola FROM\n",
        "q = '''\n",
        "SELECT *\n",
        "FROM S,D,E,C\n",
        "'''\n",
        "res = engine.execute(q)\n",
        "df = pd.DataFrame(res.fetchall())\n",
        "df.columns = res.keys()\n",
        "df"
      ],
      "execution_count": null,
      "outputs": []
    },
    {
      "cell_type": "code",
      "metadata": {
        "id": "LRtp6UCL5z8p"
      },
      "source": [
        "q = '''\n",
        "SELECT * \n",
        "FROM S,E\n",
        "'''\n",
        "res = engine.execute(q)\n",
        "df = pd.DataFrame(res.fetchall())\n",
        "df.columns = res.keys()\n",
        "df"
      ],
      "execution_count": null,
      "outputs": []
    },
    {
      "cell_type": "code",
      "metadata": {
        "id": "oIy7tsJf51gG"
      },
      "source": [
        "# Il Join, per definizione e' un \"filtro\" sul prodotto cartesiano\n",
        "# cioe', in algebra relazionale, una selezione sul prodotto cartesiano\n",
        "q = '''\n",
        "SELECT *\n",
        "FROM S,E\n",
        "WHERE S.Matr=E.Matr\n",
        "'''\n",
        "res = engine.execute(q)\n",
        "df = pd.DataFrame(res.fetchall())\n",
        "df.columns = res.keys()\n",
        "df\n",
        "\n",
        "# # che equivale a:\n",
        "# q = '''\n",
        "# SELECT *\n",
        "# FROM S JOIN E on S.Matr=E.Matr\n",
        "# '''\n",
        "# res = engine.execute(q)\n",
        "# df = pd.DataFrame(res.fetchall())\n",
        "# df.columns = res.keys()\n",
        "# df\n",
        "\n",
        "# # e anche a:\n",
        "# q = '''\n",
        "# SELECT *\n",
        "# FROM S natural JOIN E\n",
        "# '''\n",
        "# res = engine.execute(q)\n",
        "# df = pd.DataFrame(res.fetchall())\n",
        "# df.columns = res.keys()\n",
        "# df"
      ],
      "execution_count": null,
      "outputs": []
    },
    {
      "cell_type": "code",
      "metadata": {
        "id": "s-_g9Ihb6Awb"
      },
      "source": [
        "# Pero' possono esseci studenti che non hanno sostenuto esami.\n",
        "# Ad esempio:\n",
        "\n",
        "q = '''\n",
        "SELECT *\n",
        "FROM S\n",
        "WHERE S.Matr not in (SELECT Matr FROM E)\n",
        "'''\n",
        "res = engine.execute(q)\n",
        "df = pd.DataFrame(res.fetchall())\n",
        "df.columns = res.keys()\n",
        "df"
      ],
      "execution_count": null,
      "outputs": []
    },
    {
      "cell_type": "code",
      "metadata": {
        "id": "QciuT2MP6F2J"
      },
      "source": [
        "# Se volessimo anche questi studenti nell'output del join\n",
        "# dobbiamo usare un LEFT join\n",
        "\n",
        "q = '''\n",
        "SELECT * FROM S LEFT JOIN E on S.Matr=E.Matr;\n",
        "'''\n",
        "res = engine.execute(q)\n",
        "df = pd.DataFrame(res.fetchall())\n",
        "df.columns = res.keys()\n",
        "df"
      ],
      "execution_count": null,
      "outputs": []
    },
    {
      "cell_type": "code",
      "metadata": {
        "id": "H3micztY6LQw"
      },
      "source": [
        "# E se volessi:\n",
        "# Combinazioni di studenti e di docenti residenti nella stessa citta'\n",
        "# inclusi gli studenti che risiedono in una citta' \n",
        "# che non ha corrispondenza nella relazione dei docenti\n",
        "q = '''\n",
        "SELECT *\n",
        "FROM S JOIN D ON S.Citta=D.Citta;\n",
        "'''\n",
        "res = engine.execute(q)\n",
        "df = pd.DataFrame(res.fetchall())\n",
        "df.columns = res.keys()\n",
        "df"
      ],
      "execution_count": null,
      "outputs": []
    },
    {
      "cell_type": "code",
      "metadata": {
        "id": "xtv6YMHb6UxQ"
      },
      "source": [
        "# con anche gli studenti di citta' da cui non viene nessun docente:\n",
        "q = '''\n",
        "SELECT *\n",
        "FROM S LEFT JOIN D ON S.Citta=D.Citta;\n",
        "'''\n",
        "res = engine.execute(q)\n",
        "df = pd.DataFrame(res.fetchall())\n",
        "df.columns = res.keys()\n",
        "df"
      ],
      "execution_count": null,
      "outputs": []
    },
    {
      "cell_type": "code",
      "metadata": {
        "id": "XLYW1f_v6WmL"
      },
      "source": [
        "# Nella clausola FROM e' possibile esprimere anche piu' condizioni di join.\n",
        "# \n",
        "# Ad esempio, se volessimo:\n",
        "# Per ogni esame con voto superiore a 24 riportare il nome dello studente \n",
        "# e il codice del docente del corso\n",
        "q = '''\n",
        "SELECT S.SNome,C.CD, E.voto\n",
        "FROM (S JOIN E ON (S.Matr=E.Matr))\n",
        "\t\tJOIN C ON (E.CC=C.CC)\n",
        "WHERE Voto > 24;\n",
        "'''\n",
        "res = engine.execute(q)\n",
        "df = pd.DataFrame(res.fetchall())\n",
        "df.columns = res.keys()\n",
        "df"
      ],
      "execution_count": null,
      "outputs": []
    },
    {
      "cell_type": "code",
      "metadata": {
        "id": "D3XDihdD6ZG-"
      },
      "source": [
        "# che equivale a:\n",
        "q = '''\n",
        "SELECT S.SNome,C.CD, E.voto\n",
        "FROM S,E,C\n",
        "WHERE S.Matr=E.Matr \n",
        "AND E.CC=C.CC\n",
        "AND Voto > 24;\n",
        "'''\n",
        "res = engine.execute(q)\n",
        "df = pd.DataFrame(res.fetchall())\n",
        "df.columns = res.keys()\n",
        "df"
      ],
      "execution_count": null,
      "outputs": []
    },
    {
      "cell_type": "code",
      "metadata": {
        "id": "b-baqrTB6o4z"
      },
      "source": [
        "# Con gli outer join, certi attributi vengono duplicati (per definizione)\n",
        "# Ad sempio:\n",
        "q = '''\n",
        "SELECT S.Matr,S.Citta,D.CD, D.Citta\n",
        "FROM S LEFT JOIN D ON (S.Citta=D.Citta);\n",
        "'''\n",
        "res = engine.execute(q)\n",
        "df = pd.DataFrame(res.fetchall())\n",
        "df.columns = res.keys()\n",
        "df"
      ],
      "execution_count": null,
      "outputs": []
    },
    {
      "cell_type": "code",
      "metadata": {
        "id": "6DU2AkQS6rQD"
      },
      "source": [
        "# come faccio a fare un merge e considerare solo una Citta'?\n",
        "# funzione: COALESCE(...) sceglie il primo valore non nullo\n",
        "q = '''\n",
        "SELECT S.Matr, S.Citta, D.Citta,D.CD\n",
        "FROM S LEFT JOIN D ON (S.Citta=D.Citta);\n",
        "'''\n",
        "res = engine.execute(q)\n",
        "df = pd.DataFrame(res.fetchall())\n",
        "df.columns = res.keys()\n",
        "df"
      ],
      "execution_count": null,
      "outputs": []
    },
    {
      "cell_type": "code",
      "metadata": {
        "id": "UzvQ9QdX6v9I"
      },
      "source": [
        "q = '''\n",
        "SELECT S.Matr, COALESCE(S.Citta, D.Citta) AS Citta, D.CD AS CodiceDocente\n",
        "FROM S LEFT JOIN D ON (S.Citta=D.Citta);\n",
        "'''\n",
        "res = engine.execute(q)\n",
        "df = pd.DataFrame(res.fetchall())\n",
        "df.columns = res.keys()\n",
        "df"
      ],
      "execution_count": null,
      "outputs": []
    },
    {
      "cell_type": "markdown",
      "metadata": {
        "id": "WN5bQ5Gp6zP_"
      },
      "source": [
        "### Self-Join"
      ]
    },
    {
      "cell_type": "code",
      "metadata": {
        "id": "xEFXt4qr6xtQ"
      },
      "source": [
        "# Quando il join avviene tra la tabella e se stessa\n",
        "# \n",
        "# Ad esempio: \n",
        "# Selezionare le coppie di studenti della stessa citta'\n",
        "\n",
        "q = '''\n",
        "SELECT S1.SNome,S2.SNome,S1.Citta\n",
        "FROM S S1, S S2\n",
        "WHERE S1.Citta=S2.Citta;\n",
        "'''\n",
        "res = engine.execute(q)\n",
        "df = pd.DataFrame(res.fetchall())\n",
        "df.columns = res.keys()\n",
        "df"
      ],
      "execution_count": null,
      "outputs": []
    },
    {
      "cell_type": "code",
      "metadata": {
        "id": "gUo55NWj63Zi"
      },
      "source": [
        "# Cosi' pero' selezionaimo anche uno studente e se stesso\n",
        "# Quindi modifichiamo aggiungendo:\n",
        "\n",
        "q = '''\n",
        "SELECT S1.SNome,S2.SNome,S1.Citta\n",
        "FROM S S1, S S2\n",
        "WHERE S1.Citta=S2.Citta\n",
        "AND S1.Matr < S2.Matr;\n",
        "'''\n",
        "\n",
        "res = engine.execute(q)\n",
        "df = pd.DataFrame(res.fetchall())\n",
        "df.columns = res.keys()\n",
        "df\n",
        "\n",
        "#\n",
        "# DOMANDA:\n",
        "# perche' <> non andrebbe bene?\n",
        "#"
      ],
      "execution_count": null,
      "outputs": []
    },
    {
      "cell_type": "code",
      "metadata": {
        "id": "-UvdoGF_68kJ"
      },
      "source": [
        "# Matricole degli studenti che hanno sostenuto almeno \n",
        "# uno degli esami sostenuti dallo studente di nome 'Giuseppe Verdi'\n",
        "\n",
        "q = '''\n",
        "SELECT E1.Matr\n",
        "FROM S, E E1, E E2\n",
        "WHERE E2.Matr = S.Matr\n",
        "AND E1.CC = E2.CC\n",
        "AND S.SNome='Giuseppe Verdi';\n",
        "'''\n",
        "res = engine.execute(q)\n",
        "df = pd.DataFrame(res.fetchall())\n",
        "df.columns = res.keys()\n",
        "df"
      ],
      "execution_count": null,
      "outputs": []
    },
    {
      "cell_type": "code",
      "metadata": {
        "id": "1lXddVE97Cg1"
      },
      "source": [
        "q = '''\n",
        "SELECT E1.Matr\n",
        "FROM E E1\n",
        "WHERE E1.CC IN (SELECT E2.CC\n",
        "\t\t\t\tFROM E E2, S\n",
        "\t\t\t\tWHERE S.SNome='Giuseppe Verdi'\n",
        "\t\t\t\tAND S.Matr = E2.Matr);\n",
        "'''\n",
        "res = engine.execute(q)\n",
        "df = pd.DataFrame(res.fetchall())\n",
        "df.columns = res.keys()\n",
        "df"
      ],
      "execution_count": null,
      "outputs": []
    },
    {
      "cell_type": "code",
      "source": [
        ""
      ],
      "metadata": {
        "id": "v4mphOWc9I6g"
      },
      "execution_count": null,
      "outputs": []
    }
  ]
}