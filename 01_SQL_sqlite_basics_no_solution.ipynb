{
 "cells": [
  {
   "cell_type": "markdown",
   "metadata": {
    "colab_type": "text",
    "id": "view-in-github"
   },
   "source": [
    "<a href=\"https://colab.research.google.com/github/Stravanni/Basi_di_dati/blob/main/01_SQL_sqlite_basics_no_solution.ipynb\" target=\"_parent\"><img src=\"https://colab.research.google.com/assets/colab-badge.svg\" alt=\"Open In Colab\"/></a>"
   ]
  },
  {
   "cell_type": "markdown",
   "metadata": {
    "id": "7wywHOYZSixy"
   },
   "source": [
    "# Introduzione a SQL\n",
    "- @author: giovanni.simonini@unimore.it\n",
    "\n",
    "- @source: https://github.com/Stravanni/Basi_di_dati\n",
    "\n",
    "## To run: \n",
    "- to run a cell: SHIFT + ENTER\n",
    "  \n",
    "## Schema Università\n",
    "\n",
    "S (<u>Matr</u>,SNome,Citta,ACorso)\n",
    "\n",
    "D(<u>CD</u>,CNome,Citta)\n",
    "\n",
    "C(<u>CC</u>,CNome,CD)\n",
    "- FOREIGN KEY (CD) REFERENCES D(CD)\n",
    "\n",
    "E(<u>Matr,CC</u>,DATA,VOTO)\n",
    "- FOREIGN KEY (Matr) REFERENCES S(Matr)\n",
    "- FOREIGN KEY (CC) REFERENCES C(CC)\n",
    " "
   ]
  },
  {
   "cell_type": "code",
   "execution_count": null,
   "metadata": {
    "id": "8nW04m8ZIJZJ",
    "vscode": {
     "languageId": "python"
    }
   },
   "outputs": [],
   "source": [
    "!pip install SQLAlchemy==1.4.49\n",
    "import pandas as pd\n",
    "from sqlalchemy import create_engine"
   ]
  },
  {
   "cell_type": "code",
   "execution_count": null,
   "metadata": {
    "id": "7tWMfJ-KpIIg",
    "vscode": {
     "languageId": "python"
    }
   },
   "outputs": [],
   "source": [
    "engine = create_engine('sqlite://', echo=False)"
   ]
  },
  {
   "cell_type": "markdown",
   "metadata": {
    "id": "Gw8MjowWwv3G"
   },
   "source": [
    "## Create the the tables"
   ]
  },
  {
   "cell_type": "code",
   "execution_count": null,
   "metadata": {
    "id": "S-mRiFhSj8HJ",
    "vscode": {
     "languageId": "python"
    }
   },
   "outputs": [],
   "source": [
    "q = '''\n",
    "CREATE TABLE S (\n",
    "    Matr VARCHAR(45),\n",
    "    SNome VARCHAR(45),\n",
    "    Citta VARCHAR(45),\n",
    "    ACorso INT,\n",
    "    PRIMARY KEY (Matr)\n",
    ");\n",
    "'''\n",
    "engine.execute(q)\n",
    "\n",
    "q = '''\n",
    "CREATE TABLE D(\n",
    " CD VARCHAR(45),\n",
    " CNome VARCHAR(45),\n",
    " Citta VARCHAR(45),\n",
    " PRIMARY KEY (CD)\n",
    ");\n",
    "'''\n",
    "engine.execute(q)\n",
    "\n",
    "q = '''\n",
    "CREATE TABLE C(\n",
    " CC VARCHAR(45),\n",
    " CNome VARCHAR(45),\n",
    " CD VARCHAR(45),\n",
    " PRIMARY KEY (CC),\n",
    " FOREIGN KEY (CD) REFERENCES D(CD)\n",
    ");\n",
    "'''\n",
    "engine.execute(q)\n",
    "\n",
    "q = '''\n",
    "CREATE TABLE E(\n",
    " Matr VARCHAR(45),\n",
    " CC VARCHAR(45),\n",
    " DATA DATE,\n",
    " VOTO INT,\n",
    " PRIMARY KEY (Matr, CC),\n",
    " FOREIGN KEY (Matr) REFERENCES S(Matr),\n",
    " FOREIGN KEY (CC) REFERENCES C(CC)\n",
    ");\n",
    "'''\n",
    "engine.execute(q)\n",
    "\n",
    "\n",
    "q = '''\n",
    "INSERT INTO S (Matr, SNome, Citta, ACorso)\n",
    "VALUES\n",
    "('M1','Lucia Quaranta','SA',1),\n",
    "('M2','Giacomo Tedesco','PA',2),\n",
    "('M3','Carla Longo','MO',1),\n",
    "('M4','Ugo Rossi','MO',1),\n",
    "('M5','Valeria Neri','MO',2),\n",
    "('M6','Giuseppe Verdi','BO',1),\n",
    "('M7','Maria Rossi',null,1);\n",
    "'''\n",
    "engine.execute(q)\n",
    "\n",
    "\n",
    "q = '''\n",
    "INSERT INTO D (CD, CNome, Citta)\n",
    "VALUES\n",
    "('D1','Paolo Rossi','MO'),\n",
    "('D2','Maria Pastore','BO'),\n",
    "('D3','Paola Caboni','FI');\n",
    "'''\n",
    "engine.execute(q)\n",
    "\n",
    "\n",
    "q = '''\n",
    "INSERT INTO C (CC,CNome, CD)\n",
    "VALUES\n",
    "('C1','Fisica 1','D1'),\n",
    "('C2','Analisi Matematica 1','D2'),\n",
    "('C3','Fisica 2','D1'),\n",
    "('C4','Analisi Matematica 2','D3');\n",
    "'''\n",
    "engine.execute(q)\n",
    "\n",
    "\n",
    "q = '''\n",
    "INSERT INTO E (Matr,CC,Data,Voto)\n",
    "VALUES\n",
    "('M1','C1','1995-06-29',24),\n",
    "('M1','C2','1996-08-09',33),\n",
    "('M1','C3','1996-03-12',30),\n",
    "('M2','C1','1995-06-29',28),\n",
    "('M2','C2','1996-07-07',24),\n",
    "('M3','C2','1996-07-07',27),\n",
    "('M3','C3','1996-11-11',25),\n",
    "('M4','C3','1996-11-11',33),\n",
    "('M6','C2','1996-01-02',28),\n",
    "('M7','C1','1995-06-29',24),\n",
    "('M7','C2','1996-04-11',26),\n",
    "('M7','C3','1996-06-23',27);\n",
    "'''\n",
    "engine.execute(q)"
   ]
  },
  {
   "cell_type": "markdown",
   "metadata": {
    "id": "S1lNitr70Vs-"
   },
   "source": [
    "## Query the DB"
   ]
  },
  {
   "cell_type": "code",
   "execution_count": null,
   "metadata": {
    "id": "2WBcfhqmtfTL",
    "vscode": {
     "languageId": "python"
    }
   },
   "outputs": [],
   "source": [
    "# TEMPLATE QUERY\n",
    "q = '''\n",
    "SELECT *\n",
    "FROM S,C,D,E\n",
    "'''\n",
    "\n",
    "res = engine.execute(q)\n",
    "res"
   ]
  },
  {
   "cell_type": "code",
   "execution_count": null,
   "metadata": {
    "id": "__XOiyJ0z25w",
    "vscode": {
     "languageId": "python"
    }
   },
   "outputs": [],
   "source": [
    "df = pd.DataFrame(res.fetchall())\n",
    "df.head()"
   ]
  },
  {
   "cell_type": "code",
   "execution_count": null,
   "metadata": {
    "id": "cMomytFiz9MU",
    "vscode": {
     "languageId": "python"
    }
   },
   "outputs": [],
   "source": [
    "df.columns = res.keys()\n",
    "df.head()"
   ]
  },
  {
   "cell_type": "code",
   "execution_count": null,
   "metadata": {
    "id": "nD_luzZLjmqD",
    "vscode": {
     "languageId": "python"
    }
   },
   "outputs": [],
   "source": [
    "# Operatori relazionali : <attr> <op-rel> <cost> \n",
    "# dove <op-rel> ∈ {=, <>, >, >=, <, <=}\n",
    "# \n",
    "# Studenti del secondo anno di corso\n",
    "\n",
    "q = ''' \n",
    "SELECT *\n",
    "FROM S\n",
    "WHERE ??? = ???;\n",
    "'''\n",
    "\n",
    "res = engine.execute(q)\n",
    "df = pd.DataFrame(res.fetchall())\n",
    "df.columns = res.keys()\n",
    "df"
   ]
  },
  {
   "cell_type": "code",
   "execution_count": null,
   "metadata": {
    "id": "KXZBjIkyowhr",
    "vscode": {
     "languageId": "python"
    }
   },
   "outputs": [],
   "source": [
    "# Esami con voto compreso tra 24 e 28\n",
    "q = '''\n",
    "SELECT *\n",
    "FROM E\n",
    "WHERE ???;\n",
    "'''\n",
    "res = engine.execute(q)\n",
    "df = pd.DataFrame(res.fetchall())\n",
    "df.columns = res.keys()\n",
    "df"
   ]
  },
  {
   "cell_type": "code",
   "execution_count": null,
   "metadata": {
    "id": "fSJBzVtIo7EZ",
    "vscode": {
     "languageId": "python"
    }
   },
   "outputs": [],
   "source": [
    "# Operatore di set : <attr> IN (<cost1>, ..., <costN>)\n",
    "#\n",
    "# Esami con voto pari a 29, 30 oppure con lode (voto pari a 33)\n",
    "q = '''\n",
    "SELECT *\n",
    "FROM E\n",
    "WHERE Voto ???;\n",
    "'''\n",
    "res = engine.execute(q)\n",
    "df = pd.DataFrame(res.fetchall())\n",
    "df.columns = res.keys()\n",
    "df"
   ]
  },
  {
   "cell_type": "code",
   "execution_count": null,
   "metadata": {
    "id": "O-r7HAEH4nqS",
    "vscode": {
     "languageId": "python"
    }
   },
   "outputs": [],
   "source": [
    "# Operatore di confronto stringhe : <attr> LIKE <stringa> \n",
    "# dove <stringa> puo` contenere i caratteri speciali   (carattere arbitrario) e % (stringa arbitraria)\n",
    "#\n",
    "# Studenti il cui nome inizia con V e termina con i\n",
    "\n",
    "q = '''\n",
    "SELECT *\n",
    "FROM S\n",
    "WHERE SNome ???;\n",
    "'''\n",
    "res = engine.execute(q)\n",
    "df = pd.DataFrame(res.fetchall())\n",
    "df.columns = res.keys()\n",
    "df"
   ]
  },
  {
   "cell_type": "code",
   "execution_count": null,
   "metadata": {
    "id": "PdUYF-3g4qoF",
    "vscode": {
     "languageId": "python"
    }
   },
   "outputs": [],
   "source": [
    "# Ordinamento del risultato: ORDER BY <attr> [ASC|DESC]\n",
    "#\n",
    "# Studenti di Modena ordinati in senso ascendente rispetto all’anno di corso\n",
    "q = '''\n",
    "SELECT Matr,ACorso \n",
    "FROM S\n",
    "WHERE Citta = 'MO' \n",
    "???\n",
    "'''\n",
    "res = engine.execute(q)\n",
    "df = pd.DataFrame(res.fetchall())\n",
    "df.columns = res.keys()\n",
    "df"
   ]
  },
  {
   "cell_type": "code",
   "execution_count": null,
   "metadata": {
    "id": "-f5aqKud4sXj",
    "vscode": {
     "languageId": "python"
    }
   },
   "outputs": [],
   "source": [
    "# L’ordinamento deve essere fatto rispetto a uno o piu' elementi della <lista-select>: \n",
    "# un tale elemento puo' essere indicato anche riportando la sua posizione nella <lista-select>.\n",
    "#\n",
    "# Esami del corso C1 ordinati in senso discendente rispetto al voto espresso in sessantesimi, \n",
    "# e a parita` di voto rispetto alla matricola\n",
    "\n",
    "q = '''\n",
    "SELECT Matr,CC,(60*Voto)/30 \n",
    "FROM E\n",
    "WHERE CC='C1'\n",
    "???\n",
    "'''\n",
    "res = engine.execute(q)\n",
    "df = pd.DataFrame(res.fetchall())\n",
    "df.columns = res.keys()\n",
    "df"
   ]
  }
 ],
 "metadata": {
  "colab": {
   "collapsed_sections": [],
   "include_colab_link": true,
   "name": "01_SQL_sqlite_basics_no_solution.ipynb",
   "provenance": [],
   "toc_visible": true
  },
  "kernelspec": {
   "display_name": "Python 3 (ipykernel)",
   "language": "python",
   "name": "python3"
  },
  "language_info": {
   "codemirror_mode": {
    "name": "ipython",
    "version": 3
   },
   "file_extension": ".py",
   "mimetype": "text/x-python",
   "name": "python",
   "nbconvert_exporter": "python",
   "pygments_lexer": "ipython3",
   "version": "3.9.12"
  }
 },
 "nbformat": 4,
 "nbformat_minor": 1
}
