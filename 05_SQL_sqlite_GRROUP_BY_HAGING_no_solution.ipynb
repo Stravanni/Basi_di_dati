{
  "nbformat": 4,
  "nbformat_minor": 0,
  "metadata": {
    "colab": {
      "name": "05_SQL_sqlite_GRROUP-BY_HAGING_no_solution.ipynb",
      "provenance": [],
      "collapsed_sections": [
        "7wywHOYZSixy",
        "S1lNitr70Vs-"
      ],
      "toc_visible": true,
      "include_colab_link": true
    },
    "kernelspec": {
      "name": "python3",
      "display_name": "Python 3"
    }
  },
  "cells": [
    {
      "cell_type": "markdown",
      "metadata": {
        "id": "view-in-github",
        "colab_type": "text"
      },
      "source": [
        "<a href=\"https://colab.research.google.com/github/Stravanni/Basi_di_dati/blob/main/05_SQL_sqlite_GRROUP_BY_HAGING_no_solution.ipynb\" target=\"_parent\"><img src=\"https://colab.research.google.com/assets/colab-badge.svg\" alt=\"Open In Colab\"/></a>"
      ]
    },
    {
      "cell_type": "markdown",
      "metadata": {
        "id": "7wywHOYZSixy"
      },
      "source": [
        "# Introduzione a SQL\n",
        "@author: giovanni.simonini@unimore.it\n",
        "\n",
        "## To run: \n",
        "- to run a cell: SHIFT + ENTER\n",
        "  \n",
        "## Schema Università\n",
        "\n",
        "S (<u>Matr</u>,SNome,Citta,ACorso)\n",
        "\n",
        "D(<u>CD</u>,CNome,Citta)\n",
        "\n",
        "C(<u>CC</u>,CNome,CD)\n",
        "- FOREIGN KEY (CD) REFERENCES D(CD)\n",
        "\n",
        "E(<u>Matr,CC</u>,DATA,VOTO)\n",
        "- FOREIGN KEY (Matr) REFERENCES S(Matr)\n",
        "- FOREIGN KEY (CC) REFERENCES C(CC)\n",
        " "
      ]
    },
    {
      "cell_type": "code",
      "metadata": {
        "id": "8nW04m8ZIJZJ"
      },
      "source": [
        "import pandas as pd\n",
        "from sqlalchemy import create_engine"
      ],
      "execution_count": null,
      "outputs": []
    },
    {
      "cell_type": "code",
      "metadata": {
        "id": "7tWMfJ-KpIIg"
      },
      "source": [
        "engine = create_engine('sqlite://', echo=False)"
      ],
      "execution_count": null,
      "outputs": []
    },
    {
      "cell_type": "markdown",
      "metadata": {
        "id": "Gw8MjowWwv3G"
      },
      "source": [
        "## Create the the tables"
      ]
    },
    {
      "cell_type": "code",
      "metadata": {
        "id": "S-mRiFhSj8HJ"
      },
      "source": [
        "q = '''\n",
        "CREATE TABLE S (\n",
        "    Matr VARCHAR(45),\n",
        "    SNome VARCHAR(45),\n",
        "    Citta VARCHAR(45),\n",
        "    ACorso INT,\n",
        "    PRIMARY KEY (Matr)\n",
        ");\n",
        "'''\n",
        "engine.execute(q)\n",
        "\n",
        "q = '''\n",
        "CREATE TABLE D(\n",
        " CD VARCHAR(45),\n",
        " CNome VARCHAR(45),\n",
        " Citta VARCHAR(45),\n",
        " PRIMARY KEY (CD)\n",
        ");\n",
        "'''\n",
        "engine.execute(q)\n",
        "\n",
        "q = '''\n",
        "CREATE TABLE C(\n",
        " CC VARCHAR(45),\n",
        " CNome VARCHAR(45),\n",
        " CD VARCHAR(45),\n",
        " PRIMARY KEY (CC),\n",
        " FOREIGN KEY (CD) REFERENCES D(CD)\n",
        ");\n",
        "'''\n",
        "engine.execute(q)\n",
        "\n",
        "q = '''\n",
        "CREATE TABLE E(\n",
        " Matr VARCHAR(45),\n",
        " CC VARCHAR(45),\n",
        " DATA DATE,\n",
        " VOTO INT,\n",
        " PRIMARY KEY (Matr, CC),\n",
        " FOREIGN KEY (Matr) REFERENCES S(Matr),\n",
        " FOREIGN KEY (CC) REFERENCES C(CC)\n",
        ");\n",
        "'''\n",
        "engine.execute(q)\n",
        "\n",
        "\n",
        "q = '''\n",
        "INSERT INTO S (Matr, SNome, Citta, ACorso)\n",
        "VALUES\n",
        "('M1','Lucia Quaranta','SA',1),\n",
        "('M2','Giacomo Tedesco','PA',2),\n",
        "('M3','Carla Longo','MO',1),\n",
        "('M4','Ugo Rossi','MO',1),\n",
        "('M5','Valeria Neri','MO',2),\n",
        "('M6','Giuseppe Verdi','BO',1),\n",
        "('M7','Maria Rossi',null,1);\n",
        "'''\n",
        "engine.execute(q)\n",
        "\n",
        "\n",
        "q = '''\n",
        "INSERT INTO D (CD, CNome, Citta)\n",
        "VALUES\n",
        "('D1','Paolo Rossi','MO'),\n",
        "('D2','Maria Pastore','BO'),\n",
        "('D3','Paola Caboni','FI');\n",
        "'''\n",
        "engine.execute(q)\n",
        "\n",
        "\n",
        "q = '''\n",
        "INSERT INTO C (CC,CNome, CD)\n",
        "VALUES\n",
        "('C1','Fisica 1','D1'),\n",
        "('C2','Analisi Matematica 1','D2'),\n",
        "('C3','Fisica 2','D1'),\n",
        "('C4','Analisi Matematica 2','D3');\n",
        "'''\n",
        "engine.execute(q)\n",
        "\n",
        "\n",
        "q = '''\n",
        "INSERT INTO E (Matr,CC,Data,Voto)\n",
        "VALUES\n",
        "('M1','C1','1995-06-29',24),\n",
        "('M1','C2','1996-08-09',33),\n",
        "('M1','C3','1996-03-12',30),\n",
        "('M2','C1','1995-06-29',28),\n",
        "('M2','C2','1996-07-07',24),\n",
        "('M3','C2','1996-07-07',27),\n",
        "('M3','C3','1996-11-11',25),\n",
        "('M4','C3','1996-11-11',33),\n",
        "('M6','C2','1996-01-02',28),\n",
        "('M7','C1','1995-06-29',24),\n",
        "('M7','C2','1996-04-11',26),\n",
        "('M7','C3','1996-06-23',27);\n",
        "'''\n",
        "engine.execute(q)"
      ],
      "execution_count": null,
      "outputs": []
    },
    {
      "cell_type": "markdown",
      "metadata": {
        "id": "S1lNitr70Vs-"
      },
      "source": [
        "# Query the DB"
      ]
    },
    {
      "cell_type": "code",
      "metadata": {
        "id": "2WBcfhqmtfTL"
      },
      "source": [
        "# TEMPLATE QUERY\n",
        "q = '''\n",
        "SELECT *\n",
        "FROM S,C,D,E\n",
        "'''\n",
        "\n",
        "res = engine.execute(q)\n",
        "df = pd.DataFrame(res.fetchall())\n",
        "df.columns = res.keys()\n",
        "df.head()"
      ],
      "execution_count": null,
      "outputs": []
    },
    {
      "cell_type": "markdown",
      "source": [
        "# GROUP BY\n",
        "\n",
        "In una istruzione SELECT e' possibile formare \n",
        "dei gruppi di tuple che hanno lo stesso valore \n",
        "di specificati attributi, tramite la clausola\n",
        "- `GROUP BY`\n",
        "\n",
        "\n",
        "SINTASSI:\n",
        "```\n",
        "SELECT [DISTINCT|ALL] <lista-SELECT> FROM <lista-FROM>\n",
        "[WHERE <condizione>]\n",
        "[GROUP BY <lista-group> ]\n",
        "```\n",
        "\n",
        "\n",
        "**IMPORTANTE**\n",
        "\n",
        "Il risultato della SELECT e' un unico record per ciascun gruppo"
      ],
      "metadata": {
        "id": "liv3Np15QCN3"
      }
    },
    {
      "cell_type": "code",
      "source": [
        "q='''\n",
        "SELECT Matr, MAX(Voto)\n",
        "FROM E\n",
        "???\n",
        "'''\n",
        "res = engine.execute(q)\n",
        "df = pd.DataFrame(res.fetchall())\n",
        "df.columns = res.keys()\n",
        "df.head()"
      ],
      "metadata": {
        "id": "r45Am9oSP7bo"
      },
      "execution_count": null,
      "outputs": []
    },
    {
      "cell_type": "code",
      "source": [
        "# “Voto massimo e minimo ottenuto per ogni studente, escludendo il corso C1”\n",
        "q='''\n",
        "SELECT Matr, MAX(Voto), MIN(Voto) \n",
        "FROM E\n",
        "WHERE CC <> 'C1'\n",
        "???\n",
        "'''\n",
        "\n",
        "res = engine.execute(q)\n",
        "df = pd.DataFrame(res.fetchall())\n",
        "df.columns = res.keys()\n",
        "df.head()"
      ],
      "metadata": {
        "id": "BBJ8mt_iP-mw"
      },
      "execution_count": null,
      "outputs": []
    },
    {
      "cell_type": "code",
      "source": [
        "# Codice e nome di un corso, e relativo numero di esami sostenuti\n",
        "q='''\n",
        "SELECT C.CC, C.CNome, COUNT(*) as num_esami\n",
        "FROM E,C\n",
        "WHERE E.CC=C.CC\n",
        "???\n",
        "'''\n",
        "\n",
        "res = engine.execute(q)\n",
        "df = pd.DataFrame(res.fetchall())\n",
        "df.columns = res.keys()\n",
        "df.head()"
      ],
      "metadata": {
        "id": "uhuhrrM4QTGW"
      },
      "execution_count": null,
      "outputs": []
    },
    {
      "cell_type": "markdown",
      "source": [
        "# HAVING\n",
        "In presenza di una clausola WHERE, il raggruppamento riporta solo i valori che soddisfano la condizione della WHERE"
      ],
      "metadata": {
        "id": "ChEv_SQJQkJf"
      }
    },
    {
      "cell_type": "code",
      "source": [
        "# Numero esami e somma dei voti per ogni studente, escludendo il corso C2\n",
        "q='''\n",
        "SELECT Matr, COUNT(*), SUM(Voto)\n",
        "FROM E\n",
        "WHERE CC <> 'C2'\n",
        "GROUP BY Matr\n",
        "'''\n",
        "\n",
        "res = engine.execute(q)\n",
        "df = pd.DataFrame(res.fetchall())\n",
        "df.columns = res.keys()\n",
        "df.head()\n",
        "\n",
        "# ma non restituisce alcuna informazione sulla \n",
        "# matricola M6, in quanto nessuna tupla di E\n",
        "# corrispondente a M6 soddisfa la condizione"
      ],
      "metadata": {
        "id": "thfw_KwZQTJX"
      },
      "execution_count": null,
      "outputs": []
    },
    {
      "cell_type": "code",
      "source": [
        "# Dobbiamo usare GROUP BY ALL per considerare anche i NULL\n",
        "q='''\n",
        "SELECT Matr,COUNT(*),SUM(Voto) \n",
        "FROM E\n",
        "WHERE CC <> 'C2'\n",
        "GROUP BY ALL Matr\n",
        "'''\n",
        "\n",
        "# SQLite non supporta GROUP BY ALL\n",
        "\n",
        "# res = engine.execute(q)\n",
        "# df = pd.DataFrame(res.fetchall())\n",
        "# df.columns = res.keys()\n",
        "# df.head()"
      ],
      "metadata": {
        "id": "__NHFmu7Qsjo"
      },
      "execution_count": null,
      "outputs": []
    },
    {
      "cell_type": "markdown",
      "source": [
        "Se volessimo gli studenti con una media maggiore di 28?\n",
        "  \n",
        "**NON POSSIAMO FARE QUANTO SEGUE:**"
      ],
      "metadata": {
        "id": "vpuPsGIVRFPu"
      }
    },
    {
      "cell_type": "code",
      "source": [
        "q='''\n",
        "SELECT Matr,AVG(VOTO) \n",
        "FROM E\n",
        "WHERE VOTO > 28\n",
        "GROUP BY Matr\n",
        "'''\n",
        "\n",
        "res = engine.execute(q)\n",
        "df = pd.DataFrame(res.fetchall())\n",
        "df.columns = res.keys()\n",
        "df.head()"
      ],
      "metadata": {
        "id": "5ron7pzDREUX"
      },
      "execution_count": null,
      "outputs": []
    },
    {
      "cell_type": "markdown",
      "source": [
        "### COS'E' LA CLAUSOLA `HAVING`\n",
        "La clausola HAVING e' l’equivalente dellaclausola WHERE\n",
        "applicata a gruppi di tuple: \n",
        "\n",
        "ogni gruppo costruito tramite GROUP BY \n",
        "fa parte del risultato dell’interrogazione \n",
        "se e solo se \n",
        "il predicato specificato nella clausola HAVING risulta soddisfatto.\n",
        "\n",
        "\n",
        "**SINTASSI:**\n",
        "```\n",
        "[GROUP BY <lista-group> ]\n",
        "[HAVING <condizione>]\n",
        "```"
      ],
      "metadata": {
        "id": "b0SWVQJeRUOV"
      }
    },
    {
      "cell_type": "code",
      "source": [
        "# Selezionare studente e media, degli studenti con media maggiore di 28\n",
        "q='''\n",
        "SELECT Matr, AVG(VOTO) \n",
        "FROM E\n",
        "GROUP BY Matr\n",
        "???\n",
        "'''\n",
        "\n",
        "res = engine.execute(q)\n",
        "df = pd.DataFrame(res.fetchall())\n",
        "df.columns = res.keys()\n",
        "df.head()"
      ],
      "metadata": {
        "id": "gc7zlsvhQtAa"
      },
      "execution_count": null,
      "outputs": []
    },
    {
      "cell_type": "code",
      "source": [
        "# Media dei voti per ogni esame sostenuto da piu' di due studenti\n",
        "q='''\n",
        "SELECT CC, AVG(Voto)\n",
        "FROM E\n",
        "???\n",
        "'''\n",
        "\n",
        "res = engine.execute(q)\n",
        "df = pd.DataFrame(res.fetchall())\n",
        "df.columns = res.keys()\n",
        "df.head()"
      ],
      "metadata": {
        "id": "4CCVTF6XReZD"
      },
      "execution_count": null,
      "outputs": []
    },
    {
      "cell_type": "code",
      "source": [
        "# Corsi per cui ci sono almeno due studenti con lo stesso voto\n",
        "q='''\n",
        "SELECT CC, Voto\n",
        "FROM E\n",
        "???\n",
        "'''\n",
        "\n",
        "res = engine.execute(q)\n",
        "df = pd.DataFrame(res.fetchall())\n",
        "df.columns = res.keys()\n",
        "df.head()"
      ],
      "metadata": {
        "id": "O73e3OF6Re12"
      },
      "execution_count": null,
      "outputs": []
    },
    {
      "cell_type": "code",
      "source": [
        "q='''\n",
        "SELECT *\n",
        "FROM E\n",
        "'''\n",
        "res = engine.execute(q)\n",
        "df = pd.DataFrame(res.fetchall())\n",
        "df.columns = res.keys()\n",
        "df.head()"
      ],
      "metadata": {
        "id": "5nUJOVIFRkMt"
      },
      "execution_count": null,
      "outputs": []
    },
    {
      "cell_type": "code",
      "source": [
        "q='''\n",
        "SELECT E.Matr,COUNT(*) as num, AVG(Voto)\n",
        "FROM E join S on E.Matr=S.Matr\n",
        "WHERE CC <> 'C2'\n",
        "???\n",
        "'''\n",
        "\n",
        "res = engine.execute(q)\n",
        "df = pd.DataFrame(res.fetchall())\n",
        "df.columns = res.keys()\n",
        "df.head()"
      ],
      "metadata": {
        "id": "Z62FS3-6Rp2Z"
      },
      "execution_count": null,
      "outputs": []
    },
    {
      "cell_type": "code",
      "source": [
        "# Provare aggiungendo S.SNome alla GROUP BY\n",
        "\n",
        "q='''\n",
        "SELECT E.Matr, COUNT(*) as num, AVG(Voto)\n",
        "FROM E join S on E.Matr=S.Matr\n",
        "WHERE CC <> 'C2'\n",
        "???\n",
        "'''\n",
        "\n",
        "res = engine.execute(q)\n",
        "df = pd.DataFrame(res.fetchall())\n",
        "df.columns = res.keys()\n",
        "df.head()"
      ],
      "metadata": {
        "id": "LCTEfl1fRsx1"
      },
      "execution_count": null,
      "outputs": []
    },
    {
      "cell_type": "code",
      "source": [
        "# Rimuovere di nuovo S.SNome alla GROUP BY\n",
        "# Aggiungere SELECT anche S.SNome\n",
        "\n",
        "q='''\n",
        "SELECT E.Matr, S.SNome, COUNT(*) as num, AVG(Voto)\n",
        "FROM E join S on E.Matr=S.Matr\n",
        "WHERE CC <> 'C2'\n",
        "???\n",
        "'''\n",
        "\n",
        "res = engine.execute(q)\n",
        "df = pd.DataFrame(res.fetchall())\n",
        "df.columns = res.keys()\n",
        "df.head()"
      ],
      "metadata": {
        "id": "ZNJgl8kTRxny"
      },
      "execution_count": null,
      "outputs": []
    },
    {
      "cell_type": "markdown",
      "source": [
        "# Divisione"
      ],
      "metadata": {
        "id": "tvzurMJc2rDj"
      }
    },
    {
      "cell_type": "code",
      "source": [
        "# Studenti che hanno sostenuto tutti gli esami relativi a corsi del docente D1\n",
        "q='''\n",
        "SELECT *\n",
        "FROM S\n",
        "WHERE NOT EXISTS\n",
        "  (SELECT*\n",
        "   FROM ?\n",
        "   WHERE ???\n",
        "   NOT EXISTS\n",
        "      (SELECT*\n",
        "       FROM ?\n",
        "       WHERE ???\n",
        "       AND ???))\n",
        "'''\n",
        "\n",
        "res = engine.execute(q)\n",
        "df = pd.DataFrame(res.fetchall())\n",
        "df.columns = res.keys()\n",
        "df.head()"
      ],
      "metadata": {
        "id": "NsqCTMbkR2TZ"
      },
      "execution_count": null,
      "outputs": []
    },
    {
      "cell_type": "code",
      "source": [
        "#“Studenti che hanno sostenuto tutti gli esami sostenuti dallo studente M7”\n",
        "# riformulata come\n",
        "#“Studenti per i quali non esiste alcun esame sostenuto da M7 che essi non hanno sostenuto”\n",
        "q='''\n",
        "  SELECT *\n",
        "  FROM S\n",
        "  WHERE ???\n",
        "  AND NOT EXISTS\n",
        "    (SELECT *\n",
        "     FROM ???\n",
        "     WHERE ???\n",
        "     AND NOT EXISTS\n",
        "      (SELECT *\n",
        "       FROM ???\n",
        "       WHERE ???\n",
        "       AND ???))\n",
        "'''\n",
        "\n",
        "res = engine.execute(q)\n",
        "df = pd.DataFrame(res.fetchall())\n",
        "df.columns = res.keys()\n",
        "df.head()"
      ],
      "metadata": {
        "id": "Jf1FdF2q27tW"
      },
      "execution_count": null,
      "outputs": []
    },
    {
      "cell_type": "code",
      "source": [
        ""
      ],
      "metadata": {
        "id": "aMY2FNJW3VpX"
      },
      "execution_count": null,
      "outputs": []
    }
  ]
}