{
 "cells": [
  {
   "cell_type": "markdown",
   "metadata": {
    "colab_type": "text",
    "id": "view-in-github"
   },
   "source": [
    "<a href=\"https://colab.research.google.com/github/Stravanni/Basi_di_dati/blob/main/03_SQL_sqlite_nested_any_in_exists.ipynb\" target=\"_parent\"><img src=\"https://colab.research.google.com/assets/colab-badge.svg\" alt=\"Open In Colab\"/></a>"
   ]
  },
  {
   "cell_type": "markdown",
   "metadata": {
    "id": "7wywHOYZSixy"
   },
   "source": [
    "# Introduzione a SQL\n",
    "@author: giovanni.simonini@unimore.it\n",
    "\n",
    "## To run: \n",
    "- to run a cell: SHIFT + ENTER\n",
    "  \n",
    "## Schema Università\n",
    "\n",
    "S (<u>Matr</u>,SNome,Citta,ACorso)\n",
    "\n",
    "D(<u>CD</u>,CNome,Citta)\n",
    "\n",
    "C(<u>CC</u>,CNome,CD)\n",
    "- FOREIGN KEY (CD) REFERENCES D(CD)\n",
    "\n",
    "E(<u>Matr,CC</u>,DATA,VOTO)\n",
    "- FOREIGN KEY (Matr) REFERENCES S(Matr)\n",
    "- FOREIGN KEY (CC) REFERENCES C(CC)\n",
    " "
   ]
  },
  {
   "cell_type": "code",
   "execution_count": null,
   "metadata": {
    "id": "8nW04m8ZIJZJ"
   },
   "outputs": [],
   "source": [
    "!pip install SQLAlchemy==1.4.49\n",
    "import pandas as pd\n",
    "from sqlalchemy import create_engine"
   ]
  },
  {
   "cell_type": "code",
   "execution_count": null,
   "metadata": {
    "id": "7tWMfJ-KpIIg"
   },
   "outputs": [],
   "source": [
    "engine = create_engine('sqlite://', echo=False)"
   ]
  },
  {
   "cell_type": "markdown",
   "metadata": {
    "id": "Gw8MjowWwv3G"
   },
   "source": [
    "## Create the the tables"
   ]
  },
  {
   "cell_type": "code",
   "execution_count": null,
   "metadata": {
    "colab": {
     "base_uri": "https://localhost:8080/"
    },
    "id": "S-mRiFhSj8HJ",
    "outputId": "071d7787-95b7-4ae7-e126-c4a02859b17c"
   },
   "outputs": [],
   "source": [
    "q = '''\n",
    "CREATE TABLE S (\n",
    "    Matr VARCHAR(45),\n",
    "    SNome VARCHAR(45),\n",
    "    Citta VARCHAR(45),\n",
    "    ACorso INT,\n",
    "    PRIMARY KEY (Matr)\n",
    ");\n",
    "'''\n",
    "engine.execute(q)\n",
    "\n",
    "q = '''\n",
    "CREATE TABLE D(\n",
    " CD VARCHAR(45),\n",
    " CNome VARCHAR(45),\n",
    " Citta VARCHAR(45),\n",
    " PRIMARY KEY (CD)\n",
    ");\n",
    "'''\n",
    "engine.execute(q)\n",
    "\n",
    "q = '''\n",
    "CREATE TABLE C(\n",
    " CC VARCHAR(45),\n",
    " CNome VARCHAR(45),\n",
    " CD VARCHAR(45),\n",
    " PRIMARY KEY (CC),\n",
    " FOREIGN KEY (CD) REFERENCES D(CD)\n",
    ");\n",
    "'''\n",
    "engine.execute(q)\n",
    "\n",
    "q = '''\n",
    "CREATE TABLE E(\n",
    " Matr VARCHAR(45),\n",
    " CC VARCHAR(45),\n",
    " DATA DATE,\n",
    " VOTO INT,\n",
    " PRIMARY KEY (Matr, CC),\n",
    " FOREIGN KEY (Matr) REFERENCES S(Matr),\n",
    " FOREIGN KEY (CC) REFERENCES C(CC)\n",
    ");\n",
    "'''\n",
    "engine.execute(q)\n",
    "\n",
    "\n",
    "q = '''\n",
    "INSERT INTO S (Matr, SNome, Citta, ACorso)\n",
    "VALUES\n",
    "('M1','Lucia Quaranta','SA',1),\n",
    "('M2','Giacomo Tedesco','PA',2),\n",
    "('M3','Carla Longo','MO',1),\n",
    "('M4','Ugo Rossi','MO',1),\n",
    "('M5','Valeria Neri','MO',2),\n",
    "('M6','Giuseppe Verdi','BO',1),\n",
    "('M7','Maria Rossi',null,1);\n",
    "'''\n",
    "engine.execute(q)\n",
    "\n",
    "\n",
    "q = '''\n",
    "INSERT INTO D (CD, CNome, Citta)\n",
    "VALUES\n",
    "('D1','Paolo Rossi','MO'),\n",
    "('D2','Maria Pastore','BO'),\n",
    "('D3','Paola Caboni','FI');\n",
    "'''\n",
    "engine.execute(q)\n",
    "\n",
    "\n",
    "q = '''\n",
    "INSERT INTO C (CC,CNome, CD)\n",
    "VALUES\n",
    "('C1','Fisica 1','D1'),\n",
    "('C2','Analisi Matematica 1','D2'),\n",
    "('C3','Fisica 2','D1'),\n",
    "('C4','Analisi Matematica 2','D3');\n",
    "'''\n",
    "engine.execute(q)\n",
    "\n",
    "\n",
    "q = '''\n",
    "INSERT INTO E (Matr,CC,Data,Voto)\n",
    "VALUES\n",
    "('M1','C1','1995-06-29',24),\n",
    "('M1','C2','1996-08-09',33),\n",
    "('M1','C3','1996-03-12',30),\n",
    "('M2','C1','1995-06-29',28),\n",
    "('M2','C2','1996-07-07',24),\n",
    "('M3','C2','1996-07-07',27),\n",
    "('M3','C3','1996-11-11',25),\n",
    "('M4','C3','1996-11-11',33),\n",
    "('M6','C2','1996-01-02',28),\n",
    "('M7','C1','1995-06-29',24),\n",
    "('M7','C2','1996-04-11',26),\n",
    "('M7','C3','1996-06-23',27);\n",
    "'''\n",
    "engine.execute(q)"
   ]
  },
  {
   "cell_type": "markdown",
   "metadata": {
    "id": "S1lNitr70Vs-"
   },
   "source": [
    "## Query the DB"
   ]
  },
  {
   "cell_type": "code",
   "execution_count": null,
   "metadata": {
    "colab": {
     "base_uri": "https://localhost:8080/",
     "height": 204
    },
    "id": "2WBcfhqmtfTL",
    "outputId": "b5078e61-2ce1-4633-94e2-6db1386eb948"
   },
   "outputs": [],
   "source": [
    "# TEMPLATE QUERY\n",
    "q = '''\n",
    "SELECT *\n",
    "FROM S,C,D,E\n",
    "'''\n",
    "\n",
    "res = engine.execute(q)\n",
    "df = pd.DataFrame(res.fetchall())\n",
    "df.columns = res.keys()\n",
    "df.head()"
   ]
  },
  {
   "cell_type": "markdown",
   "metadata": {
    "id": "dUvcAvdQ7cnL"
   },
   "source": [
    "## Nested Quereis"
   ]
  },
  {
   "cell_type": "code",
   "execution_count": null,
   "metadata": {
    "colab": {
     "base_uri": "https://localhost:8080/",
     "height": 235
    },
    "id": "Es8AUTa-7L6-",
    "outputId": "c23b8a21-8e4e-489b-b7bf-05dc0f0e31b1"
   },
   "outputs": [],
   "source": [
    "# Interrogazioni innestate\n",
    "\n",
    "# Una interrogazione viene detta innestata o nidificata se la sua condizione\n",
    "# e' formulata usando il risultato di un’altra interrogazione, \n",
    "# chiamata subquery\n",
    "\n",
    "q = '''\n",
    "SELECT *\n",
    "FROM S\n",
    "WHERE S.Matr IN (SELECT Matr\n",
    "\t\t\t\t FROM E);\n",
    "'''\n",
    "res = engine.execute(q)\n",
    "df = pd.DataFrame(res.fetchall())\n",
    "df.columns = res.keys()\n",
    "df"
   ]
  },
  {
   "cell_type": "markdown",
   "metadata": {
    "id": "dXbdtyas7lNN"
   },
   "source": [
    "## ANY/IN/EXISTS\n",
    "- Operatori quantificati: `<attr><op-rel>[ANY|ALL]<subquery`\n",
    "- Operatore di set: `<attr> [NOT] IN <subquery>`\n",
    "- Quantificatore esistenziale : `[NOT] EXISTS <subquery>`"
   ]
  },
  {
   "cell_type": "code",
   "execution_count": null,
   "metadata": {
    "colab": {
     "base_uri": "https://localhost:8080/",
     "height": 142
    },
    "id": "s9I5daGB77Si",
    "outputId": "7798656a-70e4-4145-dd5c-2b0ba22d6f93"
   },
   "outputs": [],
   "source": [
    "#  TIPO [ANY/ALL]\n",
    "# Per esprimere una condizione che e' vera quando \n",
    "# qualsiasi (ANY) opppure tutti (ALL) gli elementi\n",
    "# restituiti dalla subquery fanno verificare la condizione\n",
    "# i.e., condizione risulta TRUE\n",
    " \n",
    "# ANY\n",
    "# Nome degli studenti che hanno sostenuto l’esame del corso C1\n",
    "\n",
    "q = '''\n",
    "SELECT SNome \n",
    "FROM S \n",
    "WHERE Matr = ANY (SELECT Matr FROM E WHERE CC='C1');\n",
    "'''\n",
    "\n",
    "# SQLite non ha \"ANY\"\n",
    "q = '''\n",
    "SELECT SNome \n",
    "FROM S \n",
    "WHERE Matr IN (SELECT Matr FROM E WHERE CC='C1');\n",
    "'''\n",
    "\n",
    "res = engine.execute(q)\n",
    "df = pd.DataFrame(res.fetchall())\n",
    "df.columns = res.keys()\n",
    "df"
   ]
  },
  {
   "cell_type": "code",
   "execution_count": null,
   "metadata": {
    "colab": {
     "base_uri": "https://localhost:8080/",
     "height": 142
    },
    "id": "jr4N_SCl-e75",
    "outputId": "1735439b-5ec7-4c30-d6be-822a8fd89745"
   },
   "outputs": [],
   "source": [
    "q = '''\n",
    "SELECT SNome\n",
    "FROM S natural JOIN E\n",
    "WHERE E.CC = 'C1';\n",
    "'''\n",
    "res = engine.execute(q)\n",
    "df = pd.DataFrame(res.fetchall())\n",
    "df.columns = res.keys()\n",
    "df"
   ]
  },
  {
   "cell_type": "code",
   "execution_count": null,
   "metadata": {
    "colab": {
     "base_uri": "https://localhost:8080/",
     "height": 266
    },
    "id": "uZmn4IqA-ggu",
    "outputId": "184d9254-99b6-42ed-e65d-c8e710a5d6fe"
   },
   "outputs": [],
   "source": [
    "# ALL\n",
    "# Studenti con anno di corso piu` basso\n",
    "\n",
    "# SQLlite non ha \"ALL\"\n",
    "\n",
    "q = '''\n",
    "SELECT *\n",
    "FROM S\n",
    "WHERE ACorso <= ALL ( SELECT ACorso\n",
    "\t\t\t\t\t  FROM S);\n",
    "'''\n",
    "\n",
    "q = '''\n",
    "SELECT *\n",
    "FROM S\n",
    "WHERE ACorso <= ( SELECT MAX(ACorso)\n",
    "\t\t\t\t\t  FROM S);\n",
    "'''\n",
    "res = engine.execute(q)\n",
    "df = pd.DataFrame(res.fetchall())\n",
    "df.columns = res.keys()\n",
    "df"
   ]
  },
  {
   "cell_type": "code",
   "execution_count": null,
   "metadata": {
    "colab": {
     "base_uri": "https://localhost:8080/",
     "height": 142
    },
    "id": "ykiV5vfS-h2K",
    "outputId": "ae4a7613-06e8-467e-92b6-236ba50e7ba2"
   },
   "outputs": [],
   "source": [
    "# Spesso possono esserci diversi modi di esprimere la stesa query\n",
    "# es: Nome degli studenti che hanno sostenuto l’esame del corso C1\n",
    "# senza subquery:\n",
    "q = '''\n",
    "SELECT S.SNome\n",
    "FROM E join S on E.Matr=S.Matr\n",
    "WHERE E.CC = 'C1';\n",
    "'''\n",
    "res = engine.execute(q)\n",
    "df = pd.DataFrame(res.fetchall())\n",
    "df.columns = res.keys()\n",
    "df\n",
    "\n",
    "# # oppure:\n",
    "# q = '''\n",
    "# SELECT S.SNome\n",
    "# FROM S\n",
    "# WHERE S.Matr in (SELECT E.Matr \n",
    "# \t\t\t\t FROM E WHERE E.CC='C1');\n",
    "# '''\n",
    "# con.execute(q) \n",
    "# con.fetchdf()"
   ]
  },
  {
   "cell_type": "code",
   "execution_count": null,
   "metadata": {
    "colab": {
     "base_uri": "https://localhost:8080/",
     "height": 266
    },
    "id": "7LFDevuK-mMN",
    "outputId": "1114d0a7-ebf0-402b-cdf9-da924a29dd7b"
   },
   "outputs": [],
   "source": [
    "# ALTRO ESEMPIO:\n",
    "# Nome degli studenti che hanno sostenuto l’esame di un corso del docente D1\n",
    "#/\n",
    "q = '''\n",
    "SELECT SNome\n",
    "FROM E,S,C\n",
    "WHERE E.Matr=S.Matr \n",
    "AND E.CC=C.CC\n",
    "AND CD='D1';\n",
    "'''\n",
    "res = engine.execute(q)\n",
    "df = pd.DataFrame(res.fetchall())\n",
    "df.columns = res.keys()\n",
    "df"
   ]
  },
  {
   "cell_type": "code",
   "execution_count": null,
   "metadata": {
    "colab": {
     "base_uri": "https://localhost:8080/",
     "height": 204
    },
    "id": "D29G0bgk-1FU",
    "outputId": "d5d1592f-c069-463e-fd04-26f7ff6d70c2"
   },
   "outputs": [],
   "source": [
    "# che puo' essere espressa anche come:\n",
    "q = '''\n",
    "SELECT SNome\n",
    "FROM S\n",
    "WHERE S.Matr IN (SELECT E.Matr \n",
    "\t\t\t\t FROM E \n",
    "\t\t\t\t WHERE E.CC IN (SELECT C.CC \n",
    "\t\t\t\t \t\t\t\tFROM C \n",
    "\t\t\t\t \t\t\t\tWHERE C.CD='D1'));\n",
    "'''\n",
    "res = engine.execute(q)\n",
    "df = pd.DataFrame(res.fetchall())\n",
    "df.columns = res.keys()\n",
    "df"
   ]
  },
  {
   "cell_type": "code",
   "execution_count": null,
   "metadata": {
    "colab": {
     "base_uri": "https://localhost:8080/",
     "height": 173
    },
    "id": "t3APt4T--2x2",
    "outputId": "324d3da0-13a1-4fdf-c67f-1d33df34a30c"
   },
   "outputs": [],
   "source": [
    "# Provare la precedente query partendo dalla subquery piu' interna\n",
    "\n",
    "# Fino ad ora abbiamo considerato delle subquery dove\n",
    "# la query innestata era indipendente dalla query esterna\n",
    "\n",
    "# Se vogliamo pero' selezionare:\n",
    "# Per ogni citta', il nome degli studenti con anno di corso piu` alto\n",
    "q = '''\n",
    "SELECT S1.Citta, S1.SNome, S1.ACorso\n",
    "FROM S S1\n",
    "WHERE S1.ACorso >= (SELECT MAX(S2.ACorso)\n",
    "\t\t\t\t\t  \tFROM S S2\n",
    "\t\t\t\t\t  \tWHERE S1.Citta=S2.Citta);\n",
    "'''\n",
    "res = engine.execute(q)\n",
    "df = pd.DataFrame(res.fetchall())\n",
    "df.columns = res.keys()\n",
    "df\n",
    "# S1 e' la tupla corrente"
   ]
  },
  {
   "cell_type": "markdown",
   "metadata": {
    "id": "mZluUGhQ_D6k"
   },
   "source": [
    "### EXISTS"
   ]
  },
  {
   "cell_type": "code",
   "execution_count": null,
   "metadata": {
    "colab": {
     "base_uri": "https://localhost:8080/",
     "height": 142
    },
    "id": "rSk6FCU_-7r5",
    "outputId": "7114f82d-d718-456c-ca82-46c10513e73d"
   },
   "outputs": [],
   "source": [
    "# QUALIFICATORE ESISTENZIALE:\n",
    "\n",
    "# EXISTS\n",
    "\n",
    "# Mettendo in relazione subquery e query estenza con una clausola\n",
    "# che è vera solo se per la tupla corrente il risultato della subquery\n",
    "# restituisce qualcosa (i.e., non è nullo).\n",
    "# Da qui: \"EXISTS\", cioè ESISTE qualcosa che rende TRUE quel predicato.\n",
    "\n",
    "# Ad esempio:\n",
    "# Nome degli studenti che hanno sostenuto l’esame del corso C1:\n",
    "\n",
    "q = '''\n",
    "SELECT SNome\n",
    "FROM S\n",
    "WHERE EXISTS (SELECT *\n",
    "\t\t\t  FROM E\n",
    "\t\t\t  WHERE E.Matr=S.Matr\n",
    "\t\t\t  AND E.CC = 'C1');\n",
    "'''\n",
    "res = engine.execute(q)\n",
    "df = pd.DataFrame(res.fetchall())\n",
    "df.columns = res.keys()\n",
    "df"
   ]
  },
  {
   "cell_type": "code",
   "execution_count": null,
   "metadata": {
    "colab": {
     "base_uri": "https://localhost:8080/",
     "height": 173
    },
    "id": "m2sQnUFW_LFB",
    "outputId": "ee50a8fa-1f0d-40ff-d34d-2e4af55ebe24"
   },
   "outputs": [],
   "source": [
    "# Allo stesso modo, il negato della clausola EXISTS:\n",
    "\n",
    "# NOT EXISTS (<subquery>)\n",
    "\n",
    "# ha valore true se e solo se l’insieme di valori restituiti da <subquery> e' vuoto.\n",
    "\n",
    "# Ad esempio:\n",
    "# Nome degli studenti che non hanno sostenuto l’esame del corso C1\n",
    "q = '''\n",
    "SELECT SNome\n",
    "FROM S\n",
    "WHERE NOT EXISTS ( SELECT *\n",
    "\t\t\t\t   FROM E\n",
    "\t\t\t\t   WHERE E.Matr=S.Matr \n",
    "\t\t\t\t   AND E.CC='C1' )\n",
    "'''\n",
    "res = engine.execute(q)\n",
    "df = pd.DataFrame(res.fetchall())\n",
    "df.columns = res.keys()\n",
    "df\n",
    "\n",
    "# Tip:\n",
    "# Se state usando EXISTS senza una subquery crrelata,\n",
    "# molto probabilmente state commettendo un errore:\n",
    "\n",
    "# Perche'?\n",
    "# (hint: cosa restituisce la subquery?) "
   ]
  },
  {
   "cell_type": "markdown",
   "metadata": {
    "id": "-rL2OkYU_QHr"
   },
   "source": [
    "### Riduzione di query innestate"
   ]
  },
  {
   "cell_type": "code",
   "execution_count": null,
   "metadata": {
    "colab": {
     "base_uri": "https://localhost:8080/",
     "height": 142
    },
    "id": "4zcvKnNx_VW0",
    "outputId": "c8c3417a-1e44-422e-9bb6-d5c237b4e758"
   },
   "outputs": [],
   "source": [
    "# Le query innestate formulate con i seguenti operatori \n",
    "# si possono ridurre a query di join equivalenti \n",
    "# (stessa risposta per ogni possibile istanza della base di dati):\n",
    "# • IN\n",
    "# • ANY (con qualsiasi operatore di confronto) \n",
    "# • EXISTS con subquery correlata\n",
    "# \n",
    "\n",
    "\t\t\t\t   \n",
    "# Nome degli studenti che hanno sostenuto l’esame del corso C1\n",
    "\n",
    "# 1. \n",
    "q = '''\n",
    "SELECT SNome \n",
    "FROM S\n",
    "WHERE Matr IN ( SELECT Matr\n",
    "\t\t\t\tFROM E\n",
    "\t\t\t\tWHERE CC='C1')\n",
    "'''\n",
    "res = engine.execute(q)\n",
    "df = pd.DataFrame(res.fetchall())\n",
    "df.columns = res.keys()\n",
    "df\n",
    "\n",
    "# # 2. \n",
    "# q = '''\n",
    "# SELECT SNome \n",
    "# FROM S\n",
    "# WHERE Matr =ANY ( SELECT Matr\n",
    "# \t\t\t\t  FROM E\n",
    "# \t\t\t\t  WHERE CC='C1')\n",
    "# '''\n",
    "# res = engine.execute(q)\n",
    "# df = pd.DataFrame(res.fetchall())\n",
    "# df.columns = res.keys()\n",
    "# df\n",
    "\n",
    "# 3.\n",
    "q = '''\n",
    "SELECT SNome \n",
    "FROM S\n",
    "WHERE EXISTS ( SELECT *\n",
    "\t\t\t   FROM E\n",
    "\t\t\t   WHERE E.Matr=S.Matr\n",
    "\t\t\t   AND CC='C1')\n",
    "'''\n",
    "res = engine.execute(q)\n",
    "df = pd.DataFrame(res.fetchall())\n",
    "df.columns = res.keys()\n",
    "df\n",
    "\n",
    "\t\t\t   \n",
    "# QUERY EQUIVALENTE CON JOIN\n",
    "q = '''\n",
    "SELECT SNome\n",
    "FROM E,S\n",
    "WHERE E.Matr=S.Matr \n",
    "AND E.CC='C1'\n",
    "'''\n",
    "res = engine.execute(q)\n",
    "df = pd.DataFrame(res.fetchall())\n",
    "df.columns = res.keys()\n",
    "df"
   ]
  },
  {
   "cell_type": "code",
   "execution_count": null,
   "metadata": {
    "colab": {
     "base_uri": "https://localhost:8080/",
     "height": 173
    },
    "id": "UFikPwZx_bD8",
    "outputId": "f31a5391-b007-43bb-8e49-b6682b7fa48e"
   },
   "outputs": [],
   "source": [
    "# INVECE:\n",
    " \n",
    "# Le query innestate formulate con i seguenti operatori \n",
    "# non si possono ridurre:\n",
    "\n",
    "# • NOT IN\n",
    "# • ALL (con qualsiasi operatore di confronto) \n",
    "# • NOT EXISTS con subquery correlata\n",
    "\n",
    "# Ad esempio:\n",
    "# Nome degli studenti che non hanno sostenuto l’esame del corso C1\n",
    "\n",
    "# 1. \n",
    "q = '''\n",
    "SELECT SNome \n",
    "FROM S\n",
    "WHERE Matr NOT IN ( SELECT Matr\n",
    "\t \t\t\t\tFROM E\n",
    "\t\t\t\t\tWHERE CC='C1')\n",
    "'''\n",
    "res = engine.execute(q)\n",
    "df = pd.DataFrame(res.fetchall())\n",
    "df.columns = res.keys()\n",
    "df\n",
    "\n",
    "# # 2.\n",
    "# q = '''\n",
    "# SELECT SNome \n",
    "# FROM S\n",
    "# WHERE Matr <> ALL ( SELECT Matr\n",
    "# \t\t\t\t  FROM E\n",
    "# \t\t\t\t  WHERE CC='C1')\n",
    "# '''\n",
    "# res = engine.execute(q)\n",
    "# df = pd.DataFrame(res.fetchall())\n",
    "# df.columns = res.keys()\n",
    "# df\n",
    "\n",
    "\n",
    "# 3.\n",
    "q = '''\n",
    "SELECT SNome \n",
    "FROM S\n",
    "WHERE NOT EXISTS ( SELECT *\n",
    "\t\t\t   FROM E\n",
    "\t\t\t   WHERE E.Matr=S.Matr\n",
    "\t\t\t   AND CC='C1')\n",
    "'''\n",
    "res = engine.execute(q)\n",
    "df = pd.DataFrame(res.fetchall())\n",
    "df.columns = res.keys()\n",
    "df\n",
    "\n",
    "# NON SI POSSONO ESPRIMRE CON JOIN"
   ]
  },
  {
   "cell_type": "code",
   "execution_count": null,
   "metadata": {
    "colab": {
     "base_uri": "https://localhost:8080/",
     "height": 328
    },
    "id": "WWbboGe7_fCw",
    "outputId": "7897b166-f133-4ff0-b7f4-2de083e369ac"
   },
   "outputs": [],
   "source": [
    "# NOTARE: la differenza con la seguente query\n",
    "# ERRATA (per la consegna):\n",
    "q = '''\n",
    "SELECT SNome\n",
    "FROM E,S\n",
    "WHERE E.Matr=S.Matr \n",
    "AND E.CC <> 'C1'\n",
    "'''\n",
    "res = engine.execute(q)\n",
    "df = pd.DataFrame(res.fetchall())\n",
    "df.columns = res.keys()\n",
    "df\n",
    "\n",
    "# cosa restituisce?"
   ]
  },
  {
   "cell_type": "code",
   "execution_count": null,
   "metadata": {
    "id": "A3QiMzZslsY6"
   },
   "outputs": [],
   "source": []
  }
 ],
 "metadata": {
  "colab": {
   "collapsed_sections": [],
   "include_colab_link": true,
   "name": "03_SQL_sqlite_nested_any_in_exists.ipynb",
   "provenance": [],
   "toc_visible": true
  },
  "kernelspec": {
   "display_name": "Python 3 (ipykernel)",
   "language": "python",
   "name": "python3"
  },
  "language_info": {
   "codemirror_mode": {
    "name": "ipython",
    "version": 3
   },
   "file_extension": ".py",
   "mimetype": "text/x-python",
   "name": "python",
   "nbconvert_exporter": "python",
   "pygments_lexer": "ipython3",
   "version": "3.9.12"
  }
 },
 "nbformat": 4,
 "nbformat_minor": 1
}
