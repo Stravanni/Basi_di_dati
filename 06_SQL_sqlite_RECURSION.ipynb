{
 "cells": [
  {
   "cell_type": "markdown",
   "metadata": {
    "colab_type": "text",
    "id": "view-in-github"
   },
   "source": [
    "<a href=\"https://colab.research.google.com/github/Stravanni/Basi_di_dati/blob/main/06_SQL_sqlite_RECURSION.ipynb\" target=\"_parent\"><img src=\"https://colab.research.google.com/assets/colab-badge.svg\" alt=\"Open In Colab\"/></a>"
   ]
  },
  {
   "cell_type": "markdown",
   "metadata": {
    "id": "7wywHOYZSixy"
   },
   "source": [
    "# Introduzione a SQL\n",
    "@author: giovanni.simonini@unimore.it\n",
    "\n",
    "## To run: \n",
    "- to run a cell: SHIFT + ENTER"
   ]
  },
  {
   "cell_type": "code",
   "execution_count": null,
   "metadata": {
    "id": "8nW04m8ZIJZJ"
   },
   "outputs": [],
   "source": [
    "!pip install SQLAlchemy==1.4.49\n",
    "import pandas as pd\n",
    "from sqlalchemy import create_engine"
   ]
  },
  {
   "cell_type": "code",
   "execution_count": null,
   "metadata": {
    "id": "7tWMfJ-KpIIg"
   },
   "outputs": [],
   "source": [
    "engine = create_engine('sqlite://', echo=False)"
   ]
  },
  {
   "cell_type": "markdown",
   "metadata": {
    "id": "Gw8MjowWwv3G"
   },
   "source": [
    "## Create the the tables"
   ]
  },
  {
   "cell_type": "code",
   "execution_count": null,
   "metadata": {
    "colab": {
     "base_uri": "https://localhost:8080/",
     "height": 204
    },
    "id": "S-mRiFhSj8HJ",
    "outputId": "1c6f9ad4-c714-40db-c7c3-e302e39eebad"
   },
   "outputs": [],
   "source": [
    "q = '''WITH RECURSIVE cnt(x) AS \n",
    "        (SELECT 1 UNION ALL\n",
    "          SELECT x+1\n",
    "          FROM cnt \n",
    "          WHERE x<1000000)\n",
    "        SELECT x \n",
    "        FROM cnt;'''\n",
    "\n",
    "res = engine.execute(q)\n",
    "df = pd.DataFrame(res.fetchall())\n",
    "df.columns = res.keys()\n",
    "df.head()"
   ]
  },
  {
   "cell_type": "markdown",
   "metadata": {
    "id": "LPO4WIMWUY-P"
   },
   "source": [
    "## UNION ALL\n",
    "- `UNION ALL` **non** rimuove i duplicati, semplicemente fa l'unione delle query\n",
    "- In questa query il query optimizer capisce che ogni numero generato è utilizzato solo una volta, quindi libera la memoria del numero ad ogni terazione"
   ]
  },
  {
   "cell_type": "code",
   "execution_count": null,
   "metadata": {
    "colab": {
     "base_uri": "https://localhost:8080/",
     "height": 204
    },
    "id": "Ad4ngofYTHZ-",
    "outputId": "8e4768a1-a245-474f-e9fd-e522bb8e6f05"
   },
   "outputs": [],
   "source": [
    "q = '''WITH RECURSIVE cnt(x) AS \n",
    "        (VALUES(1) UNION ALL\n",
    "          SELECT x+1 \n",
    "          FROM cnt \n",
    "          WHERE x<1000000*x)\n",
    "        SELECT x \n",
    "        FROM cnt\n",
    "        LIMIT 10;'''\n",
    "\n",
    "res = engine.execute(q)\n",
    "df = pd.DataFrame(res.fetchall())\n",
    "df.columns = res.keys()\n",
    "df.tail()"
   ]
  },
  {
   "cell_type": "markdown",
   "metadata": {
    "id": "Ib4CFYhlWkzz"
   },
   "source": [
    "### LIMIT CTE\n",
    "Un buon metodo per assicurarsi che la qeury finisca è quello di mettere un `LIMIT` per testare che la ricorsione termini."
   ]
  },
  {
   "cell_type": "markdown",
   "metadata": {
    "id": "YvgDmlrXX6GJ"
   },
   "source": [
    "## Example"
   ]
  },
  {
   "cell_type": "code",
   "execution_count": null,
   "metadata": {
    "id": "bAJ9yNcOYvp6"
   },
   "outputs": [],
   "source": [
    "q = '''DROP TABLE IF EXISTS employee;'''\n",
    "res = engine.execute(q)"
   ]
  },
  {
   "cell_type": "code",
   "execution_count": null,
   "metadata": {
    "id": "hWKDVBM9X8rc"
   },
   "outputs": [],
   "source": [
    "q = '''CREATE TABLE employee(\n",
    "        id INT PRIMARY KEY,\n",
    "        name TEXT NOT NULL,\n",
    "        manager_id INT REFERENCES employee(id)\n",
    "        )'''\n",
    "res = engine.execute(q)"
   ]
  },
  {
   "cell_type": "code",
   "execution_count": null,
   "metadata": {
    "id": "u1dEJnN5ZKce"
   },
   "outputs": [],
   "source": [
    "q = '''\n",
    "INSERT INTO employee (id, name, manager_id)\n",
    "VALUES \n",
    "(1, 'kim', NULL),\n",
    "(2, 'tom', 1),\n",
    "(3, 'sam', 1),\n",
    "(4, 'yoan', NULL),\n",
    "(5, 'jon', 2),\n",
    "(6, 'pier', 2),\n",
    "(7, 'zoe', 4),\n",
    "(8, 'ian', 1),\n",
    "(9, 'loic', 4);\n",
    "'''\n",
    "res = engine.execute(q)"
   ]
  },
  {
   "cell_type": "code",
   "execution_count": null,
   "metadata": {
    "colab": {
     "base_uri": "https://localhost:8080/",
     "height": 328
    },
    "id": "EFkK76OuZKfF",
    "outputId": "33eaa636-9f20-4e22-b65e-9a42b9408b8e"
   },
   "outputs": [],
   "source": [
    "q = '''SELECT * FROM employee'''\n",
    "res = engine.execute(q)\n",
    "df = pd.DataFrame(res.fetchall())\n",
    "df.columns = res.keys()\n",
    "df"
   ]
  },
  {
   "cell_type": "markdown",
   "metadata": {
    "id": "Dl3Alz8FaRtI"
   },
   "source": [
    "## RIPORTI INDIRETTI\n",
    "- selezioniamo tutti i riporti (diretti e indiretti) di Kim"
   ]
  },
  {
   "cell_type": "code",
   "execution_count": null,
   "metadata": {
    "colab": {
     "base_uri": "https://localhost:8080/",
     "height": 235
    },
    "id": "KXQen8YGZKhn",
    "outputId": "1a5a9a45-44c2-4750-8bdc-20371b5f80b3"
   },
   "outputs": [],
   "source": [
    "q = '''\n",
    "WITH RECURSIVE cte_employee (id, name, manager_id) AS (\n",
    "  SELECT e.id, e.name, e.manager_id\n",
    "  FROM employee e\n",
    "  WHERE e.id = 1\n",
    "    UNION ALL\n",
    "  SELECT e.id, e.name, e.manager_id\n",
    "  FROM employee e\n",
    "  JOIN cte_employee c ON c.id = e.manager_id\n",
    ")\n",
    "\n",
    "SELECT * FROM cte_employee;\n",
    "'''\n",
    "res = engine.execute(q)\n",
    "df = pd.DataFrame(res.fetchall())\n",
    "df.columns = res.keys()\n",
    "df"
   ]
  },
  {
   "cell_type": "markdown",
   "metadata": {
    "id": "zvjmWW4LcCnr"
   },
   "source": [
    "### SPIEGAZIONE\n",
    "- il `SELECT` iniziale è eseguito e ritorna (1, kim), mettendolo in una coda *content table*\n",
    "- (1, kim) è rimosso dalla coda e viene eseguito ricorsivamente la nuova `SELECT` (dopo lo `UNION ALL`) considerando che in  cte_employee per ora ci sia solo (1, kim)\n",
    "- vengono così ritornati (2, tom), (3, sam), (8, ian), cioè i riporti di Kim, e vengono messi nella coda *content table*\n",
    "  - `tom`, `ian` e `sam` sono infatti i record della tabella `employee` per cui c'è un join tra `manater_id` e `id` della cte_employee (che per ora contiene solo `kim`)\n",
    "- a questo punto viene rimosso dalla coda (2, tom), e di ancora una volra viene eseguita ricorsivamente la query, con join come al punto precedente\n",
    "  - qeusta volta vengono messi in coda `jon` e `pier`\n",
    "- ora viene tolto dalla coda `sam` e come prima viene eseguita la query ricorsiva \n",
    "  - `sam` non ha riporti, quindi non c'è nessun join questa volta\n",
    "  - niente viene aggiunto alla coda\n",
    "- viene quindi tolto dalla coda (8, ian), poi (5, jon) e infine (6, pier)\n",
    "- quando la coda è vuota, viene ritornato tutto il valore della tabella"
   ]
  },
  {
   "cell_type": "code",
   "execution_count": null,
   "metadata": {
    "id": "6aTJ4zrHbs61"
   },
   "outputs": [],
   "source": []
  }
 ],
 "metadata": {
  "colab": {
   "collapsed_sections": [],
   "include_colab_link": true,
   "name": "06_SQL_sqlite_RECURSION.ipynb",
   "provenance": []
  },
  "kernelspec": {
   "display_name": "Python 3 (ipykernel)",
   "language": "python",
   "name": "python3"
  },
  "language_info": {
   "codemirror_mode": {
    "name": "ipython",
    "version": 3
   },
   "file_extension": ".py",
   "mimetype": "text/x-python",
   "name": "python",
   "nbconvert_exporter": "python",
   "pygments_lexer": "ipython3",
   "version": "3.9.12"
  }
 },
 "nbformat": 4,
 "nbformat_minor": 1
}
